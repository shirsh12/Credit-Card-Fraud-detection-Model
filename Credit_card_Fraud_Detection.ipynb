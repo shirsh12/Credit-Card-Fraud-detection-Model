{
  "nbformat": 4,
  "nbformat_minor": 0,
  "metadata": {
    "colab": {
      "name": "Credit card Fraud Detection.ipynb",
      "provenance": [],
      "collapsed_sections": [],
      "include_colab_link": true
    },
    "kernelspec": {
      "name": "python3",
      "display_name": "Python 3"
    }
  },
  "cells": [
    {
      "cell_type": "markdown",
      "metadata": {
        "id": "view-in-github",
        "colab_type": "text"
      },
      "source": [
        "<a href=\"https://colab.research.google.com/github/shirsh12/Credit-Card-Fraud-detection-Model/blob/main/Credit_card_Fraud_Detection.ipynb\" target=\"_parent\"><img src=\"https://colab.research.google.com/assets/colab-badge.svg\" alt=\"Open In Colab\"/></a>"
      ]
    },
    {
      "cell_type": "code",
      "metadata": {
        "colab": {
          "base_uri": "https://localhost:8080/"
        },
        "id": "gfJlc1Y0XQ8I",
        "outputId": "3b22fba6-6b62-4dc0-ce47-6d353d55b0d1"
      },
      "source": [
        "from google.colab import drive\n",
        "drive.mount('/content/drive')"
      ],
      "execution_count": 4,
      "outputs": [
        {
          "output_type": "stream",
          "text": [
            "Drive already mounted at /content/drive; to attempt to forcibly remount, call drive.mount(\"/content/drive\", force_remount=True).\n"
          ],
          "name": "stdout"
        }
      ]
    },
    {
      "cell_type": "code",
      "metadata": {
        "id": "9GacsPceupVa"
      },
      "source": [
        "import pandas as pd\n",
        "import numpy as np\n",
        "import matplotlib.pyplot as plt\n",
        "import seaborn as sns\n",
        "\n",
        "from sklearn.model_selection import train_test_split\n",
        "from xgboost import XGBClassifier\n",
        "from sklearn.ensemble import RandomForestClassifier\n",
        "from sklearn.ensemble import GradientBoostingClassifier\n",
        "from sklearn.model_selection import GridSearchCV\n",
        "from sklearn.metrics import roc_auc_score, confusion_matrix, accuracy_score\n",
        "\n",
        "# Import and suppress warnings\n",
        "import warnings\n",
        "warnings.filterwarnings('ignore')\n",
        "import os"
      ],
      "execution_count": 5,
      "outputs": []
    },
    {
      "cell_type": "code",
      "metadata": {
        "id": "RhHXjwLrwub5"
      },
      "source": [
        "data = pd.read_csv('/content/drive/MyDrive/AlmaBetter/Cohort Nilgiri/Module 4/Week 3/Day 6/creditcard.csv')"
      ],
      "execution_count": 6,
      "outputs": []
    },
    {
      "cell_type": "code",
      "metadata": {
        "colab": {
          "base_uri": "https://localhost:8080/",
          "height": 226
        },
        "id": "n4idAK_pw_PK",
        "outputId": "57f5c272-2e86-48c5-95b4-642e07f667dc"
      },
      "source": [
        "data.head()"
      ],
      "execution_count": 7,
      "outputs": [
        {
          "output_type": "execute_result",
          "data": {
            "text/html": [
              "<div>\n",
              "<style scoped>\n",
              "    .dataframe tbody tr th:only-of-type {\n",
              "        vertical-align: middle;\n",
              "    }\n",
              "\n",
              "    .dataframe tbody tr th {\n",
              "        vertical-align: top;\n",
              "    }\n",
              "\n",
              "    .dataframe thead th {\n",
              "        text-align: right;\n",
              "    }\n",
              "</style>\n",
              "<table border=\"1\" class=\"dataframe\">\n",
              "  <thead>\n",
              "    <tr style=\"text-align: right;\">\n",
              "      <th></th>\n",
              "      <th>V1</th>\n",
              "      <th>V2</th>\n",
              "      <th>V3</th>\n",
              "      <th>V4</th>\n",
              "      <th>V5</th>\n",
              "      <th>V6</th>\n",
              "      <th>V7</th>\n",
              "      <th>V8</th>\n",
              "      <th>V9</th>\n",
              "      <th>V10</th>\n",
              "      <th>V11</th>\n",
              "      <th>V12</th>\n",
              "      <th>V13</th>\n",
              "      <th>V14</th>\n",
              "      <th>V15</th>\n",
              "      <th>V16</th>\n",
              "      <th>V17</th>\n",
              "      <th>V18</th>\n",
              "      <th>V19</th>\n",
              "      <th>V20</th>\n",
              "      <th>V21</th>\n",
              "      <th>V22</th>\n",
              "      <th>V23</th>\n",
              "      <th>V24</th>\n",
              "      <th>V25</th>\n",
              "      <th>V26</th>\n",
              "      <th>V27</th>\n",
              "      <th>V28</th>\n",
              "      <th>V29</th>\n",
              "      <th>Target</th>\n",
              "    </tr>\n",
              "  </thead>\n",
              "  <tbody>\n",
              "    <tr>\n",
              "      <th>0</th>\n",
              "      <td>0.114697</td>\n",
              "      <td>0.796303</td>\n",
              "      <td>-0.149553</td>\n",
              "      <td>-0.823011</td>\n",
              "      <td>0.878763</td>\n",
              "      <td>-0.553152</td>\n",
              "      <td>0.939259</td>\n",
              "      <td>-0.108502</td>\n",
              "      <td>0.111137</td>\n",
              "      <td>-0.390521</td>\n",
              "      <td>-1.949546</td>\n",
              "      <td>-0.494436</td>\n",
              "      <td>-0.353696</td>\n",
              "      <td>0.158729</td>\n",
              "      <td>-0.267239</td>\n",
              "      <td>0.234802</td>\n",
              "      <td>-0.754936</td>\n",
              "      <td>-0.343012</td>\n",
              "      <td>0.312175</td>\n",
              "      <td>-0.042711</td>\n",
              "      <td>-0.335776</td>\n",
              "      <td>-0.807853</td>\n",
              "      <td>-0.055940</td>\n",
              "      <td>-1.025281</td>\n",
              "      <td>-0.369557</td>\n",
              "      <td>0.204653</td>\n",
              "      <td>0.242724</td>\n",
              "      <td>0.085713</td>\n",
              "      <td>0.89</td>\n",
              "      <td>0</td>\n",
              "    </tr>\n",
              "    <tr>\n",
              "      <th>1</th>\n",
              "      <td>-0.039318</td>\n",
              "      <td>0.495784</td>\n",
              "      <td>-0.810884</td>\n",
              "      <td>0.546693</td>\n",
              "      <td>1.986257</td>\n",
              "      <td>4.386342</td>\n",
              "      <td>-1.344891</td>\n",
              "      <td>-1.743736</td>\n",
              "      <td>-0.563103</td>\n",
              "      <td>-0.616315</td>\n",
              "      <td>-0.587786</td>\n",
              "      <td>0.317419</td>\n",
              "      <td>-0.408521</td>\n",
              "      <td>0.719639</td>\n",
              "      <td>0.226926</td>\n",
              "      <td>-0.296316</td>\n",
              "      <td>-0.040143</td>\n",
              "      <td>0.119177</td>\n",
              "      <td>1.057682</td>\n",
              "      <td>0.926255</td>\n",
              "      <td>-1.377003</td>\n",
              "      <td>-0.072200</td>\n",
              "      <td>-0.197573</td>\n",
              "      <td>1.014807</td>\n",
              "      <td>1.011293</td>\n",
              "      <td>-0.167684</td>\n",
              "      <td>0.113136</td>\n",
              "      <td>0.256836</td>\n",
              "      <td>85.00</td>\n",
              "      <td>0</td>\n",
              "    </tr>\n",
              "    <tr>\n",
              "      <th>2</th>\n",
              "      <td>2.275706</td>\n",
              "      <td>-1.531508</td>\n",
              "      <td>-1.021969</td>\n",
              "      <td>-1.602152</td>\n",
              "      <td>-1.220329</td>\n",
              "      <td>-0.462376</td>\n",
              "      <td>-1.196485</td>\n",
              "      <td>-0.147058</td>\n",
              "      <td>-0.950224</td>\n",
              "      <td>1.560463</td>\n",
              "      <td>-1.753256</td>\n",
              "      <td>-1.331010</td>\n",
              "      <td>-0.061941</td>\n",
              "      <td>-0.405532</td>\n",
              "      <td>0.048083</td>\n",
              "      <td>-0.307503</td>\n",
              "      <td>0.289363</td>\n",
              "      <td>0.189739</td>\n",
              "      <td>0.022546</td>\n",
              "      <td>-0.408289</td>\n",
              "      <td>-0.193271</td>\n",
              "      <td>-0.103533</td>\n",
              "      <td>0.150945</td>\n",
              "      <td>-0.811083</td>\n",
              "      <td>-0.197913</td>\n",
              "      <td>-0.128446</td>\n",
              "      <td>0.014197</td>\n",
              "      <td>-0.051289</td>\n",
              "      <td>42.70</td>\n",
              "      <td>0</td>\n",
              "    </tr>\n",
              "    <tr>\n",
              "      <th>3</th>\n",
              "      <td>1.940137</td>\n",
              "      <td>-0.357671</td>\n",
              "      <td>-1.210551</td>\n",
              "      <td>0.382523</td>\n",
              "      <td>0.050823</td>\n",
              "      <td>-0.171322</td>\n",
              "      <td>-0.109124</td>\n",
              "      <td>-0.002115</td>\n",
              "      <td>0.869258</td>\n",
              "      <td>-0.001965</td>\n",
              "      <td>0.607629</td>\n",
              "      <td>1.048673</td>\n",
              "      <td>-0.514821</td>\n",
              "      <td>0.329538</td>\n",
              "      <td>-1.041463</td>\n",
              "      <td>-0.498797</td>\n",
              "      <td>-0.276887</td>\n",
              "      <td>0.114245</td>\n",
              "      <td>0.379447</td>\n",
              "      <td>-0.199280</td>\n",
              "      <td>0.157994</td>\n",
              "      <td>0.650355</td>\n",
              "      <td>0.034206</td>\n",
              "      <td>0.739535</td>\n",
              "      <td>0.223605</td>\n",
              "      <td>-0.195509</td>\n",
              "      <td>-0.012791</td>\n",
              "      <td>-0.056841</td>\n",
              "      <td>29.99</td>\n",
              "      <td>0</td>\n",
              "    </tr>\n",
              "    <tr>\n",
              "      <th>4</th>\n",
              "      <td>1.081395</td>\n",
              "      <td>-0.502615</td>\n",
              "      <td>1.075887</td>\n",
              "      <td>-0.543359</td>\n",
              "      <td>-1.472946</td>\n",
              "      <td>-1.065484</td>\n",
              "      <td>-0.443231</td>\n",
              "      <td>-0.143374</td>\n",
              "      <td>1.659826</td>\n",
              "      <td>-1.131238</td>\n",
              "      <td>0.173132</td>\n",
              "      <td>1.430172</td>\n",
              "      <td>0.915609</td>\n",
              "      <td>-0.336588</td>\n",
              "      <td>1.140171</td>\n",
              "      <td>-0.653626</td>\n",
              "      <td>-0.016567</td>\n",
              "      <td>0.066287</td>\n",
              "      <td>0.242537</td>\n",
              "      <td>0.059880</td>\n",
              "      <td>0.224157</td>\n",
              "      <td>0.821209</td>\n",
              "      <td>-0.137223</td>\n",
              "      <td>0.986259</td>\n",
              "      <td>0.563228</td>\n",
              "      <td>-0.574206</td>\n",
              "      <td>0.089673</td>\n",
              "      <td>0.052036</td>\n",
              "      <td>68.00</td>\n",
              "      <td>0</td>\n",
              "    </tr>\n",
              "  </tbody>\n",
              "</table>\n",
              "</div>"
            ],
            "text/plain": [
              "         V1        V2        V3        V4  ...       V27       V28    V29  Target\n",
              "0  0.114697  0.796303 -0.149553 -0.823011  ...  0.242724  0.085713   0.89       0\n",
              "1 -0.039318  0.495784 -0.810884  0.546693  ...  0.113136  0.256836  85.00       0\n",
              "2  2.275706 -1.531508 -1.021969 -1.602152  ...  0.014197 -0.051289  42.70       0\n",
              "3  1.940137 -0.357671 -1.210551  0.382523  ... -0.012791 -0.056841  29.99       0\n",
              "4  1.081395 -0.502615  1.075887 -0.543359  ...  0.089673  0.052036  68.00       0\n",
              "\n",
              "[5 rows x 30 columns]"
            ]
          },
          "metadata": {
            "tags": []
          },
          "execution_count": 7
        }
      ]
    },
    {
      "cell_type": "code",
      "metadata": {
        "colab": {
          "base_uri": "https://localhost:8080/"
        },
        "id": "P0p9fADlxBod",
        "outputId": "c833e173-22b4-4459-87fc-875eaa1ce987"
      },
      "source": [
        "data['Target'].value_counts()"
      ],
      "execution_count": 8,
      "outputs": [
        {
          "output_type": "execute_result",
          "data": {
            "text/plain": [
              "0    56864\n",
              "1       98\n",
              "Name: Target, dtype: int64"
            ]
          },
          "metadata": {
            "tags": []
          },
          "execution_count": 8
        }
      ]
    },
    {
      "cell_type": "code",
      "metadata": {
        "colab": {
          "base_uri": "https://localhost:8080/",
          "height": 279
        },
        "id": "DJUwj8SHwzFq",
        "outputId": "c2f772c9-3409-4a5e-8f14-145fc8d8dc2b"
      },
      "source": [
        "# visualize the target variable\n",
        "g = sns.countplot(data['Target'])\n",
        "g.set_xticklabels(['Not Fraud','Fraud'])\n",
        "plt.show()"
      ],
      "execution_count": 9,
      "outputs": [
        {
          "output_type": "display_data",
          "data": {
            "image/png": "[encoded data removed]",
            "text/plain": [
              "<Figure size 432x288 with 1 Axes>"
            ]
          },
          "metadata": {
            "tags": [],
            "needs_background": "light"
          }
        }
      ]
    },
    {
      "cell_type": "markdown",
      "metadata": {
        "id": "szD8ieY-yAAp"
      },
      "source": [
        "## The Metric Trap\n",
        "\n",
        "One of the major issues when dealing with unbalanced datasets relates to the metrics used to evaluate their model. Using simpler metrics like accuracy score can be misleading. In a dataset with highly unbalanced classes, the classifier will always “predict” the most common class without performing any analysis of the features and it will have a high accuracy rate, obviously not the correct one.\n",
        "\n",
        "Let’s do this experiment, using simple XGBClassifier and no feature engineering:"
      ]
    },
    {
      "cell_type": "code",
      "metadata": {
        "id": "lTzQGPG6zY1q"
      },
      "source": [
        "# Creating the dataset with all independent variables\n",
        "X = data.iloc[:,:-1]\n",
        "\n",
        "# Creating the dataset with the dependent variable\n",
        "Y = data.iloc[:,-1]"
      ],
      "execution_count": 10,
      "outputs": []
    },
    {
      "cell_type": "code",
      "metadata": {
        "id": "gXq0DcC3zhXn"
      },
      "source": [
        "# Splitting the dataset into the Training set and Test set\n",
        "X_train, X_test, Y_train, Y_test = train_test_split(X, Y, test_size = 0.2, random_state = 3)"
      ],
      "execution_count": 11,
      "outputs": []
    },
    {
      "cell_type": "code",
      "metadata": {
        "colab": {
          "base_uri": "https://localhost:8080/"
        },
        "id": "9a9ZOjiazjBa",
        "outputId": "40b95720-87ce-417a-86b8-9bc66c02424f"
      },
      "source": [
        "print(\"Distribution of classes of dependent variable in train :\")\n",
        "print(Y_train.value_counts())\n",
        "\n",
        "print(\"\\n Distribution of classes of dependent variable in test :\")\n",
        "print(Y_test.value_counts())"
      ],
      "execution_count": 12,
      "outputs": [
        {
          "output_type": "stream",
          "text": [
            "Distribution of classes of dependent variable in train :\n",
            "0    45492\n",
            "1       77\n",
            "Name: Target, dtype: int64\n",
            "\n",
            " Distribution of classes of dependent variable in test :\n",
            "0    11372\n",
            "1       21\n",
            "Name: Target, dtype: int64\n"
          ],
          "name": "stdout"
        }
      ]
    },
    {
      "cell_type": "code",
      "metadata": {
        "colab": {
          "base_uri": "https://localhost:8080/"
        },
        "id": "qfs9OyzcyWP0",
        "outputId": "a2087dcf-8d58-4eea-cfd7-296d6a5da884"
      },
      "source": [
        "from sklearn.neighbors import KNeighborsClassifier\n",
        "classifier = KNeighborsClassifier(n_neighbors = 5, metric = 'minkowski', p = 2)\n",
        "classifier.fit(X_train, Y_train)"
      ],
      "execution_count": 13,
      "outputs": [
        {
          "output_type": "execute_result",
          "data": {
            "text/plain": [
              "KNeighborsClassifier(algorithm='auto', leaf_size=30, metric='minkowski',\n",
              "                     metric_params=None, n_jobs=None, n_neighbors=5, p=2,\n",
              "                     weights='uniform')"
            ]
          },
          "metadata": {
            "tags": []
          },
          "execution_count": 13
        }
      ]
    },
    {
      "cell_type": "code",
      "metadata": {
        "id": "-f8tSs-70h1M"
      },
      "source": [
        "y_pred = classifier.predict(X_test)"
      ],
      "execution_count": 14,
      "outputs": []
    },
    {
      "cell_type": "code",
      "metadata": {
        "colab": {
          "base_uri": "https://localhost:8080/"
        },
        "id": "9SIo8_Tb0qez",
        "outputId": "07a8ae4e-0e45-44bf-9192-1490b4c9de43"
      },
      "source": [
        "accuracy_score(y_pred, Y_test)"
      ],
      "execution_count": 15,
      "outputs": [
        {
          "output_type": "execute_result",
          "data": {
            "text/plain": [
              "0.9987711752830686"
            ]
          },
          "metadata": {
            "tags": []
          },
          "execution_count": 15
        }
      ]
    },
    {
      "cell_type": "code",
      "metadata": {
        "colab": {
          "base_uri": "https://localhost:8080/"
        },
        "id": "EYhzZBon0ofE",
        "outputId": "890de16a-7245-447e-8992-d257ba790954"
      },
      "source": [
        "confusion_matrix(y_pred, Y_test)"
      ],
      "execution_count": 16,
      "outputs": [
        {
          "output_type": "execute_result",
          "data": {
            "text/plain": [
              "array([[11371,    13],\n",
              "       [    1,     8]])"
            ]
          },
          "metadata": {
            "tags": []
          },
          "execution_count": 16
        }
      ]
    },
    {
      "cell_type": "code",
      "metadata": {
        "colab": {
          "base_uri": "https://localhost:8080/"
        },
        "id": "7_m8BV7V0zt0",
        "outputId": "7388c29c-32dd-43d6-c032-42ae7e702e4c"
      },
      "source": [
        "roc_auc_score(y_pred, Y_test)"
      ],
      "execution_count": 17,
      "outputs": [
        {
          "output_type": "execute_result",
          "data": {
            "text/plain": [
              "0.9438734676348871"
            ]
          },
          "metadata": {
            "tags": []
          },
          "execution_count": 17
        }
      ]
    },
    {
      "cell_type": "code",
      "metadata": {
        "colab": {
          "base_uri": "https://localhost:8080/"
        },
        "id": "-D_aOBCJ8NwF",
        "outputId": "fa10bb83-a1af-4273-9245-9bf92857e3ca"
      },
      "source": [
        "# Class count\n",
        "class_count_0, class_count_1 = data['Target'].value_counts()\n",
        "\n",
        "# Separate class\n",
        "class_0 = data[data['Target'] == 0]\n",
        "class_1 = data[data['Target'] == 1]\n",
        "print('class 0:', class_0.shape)\n",
        "print('class 1:', class_1.shape)"
      ],
      "execution_count": 18,
      "outputs": [
        {
          "output_type": "stream",
          "text": [
            "class 0: (56864, 30)\n",
            "class 1: (98, 30)\n"
          ],
          "name": "stdout"
        }
      ]
    },
    {
      "cell_type": "code",
      "metadata": {
        "colab": {
          "base_uri": "https://localhost:8080/"
        },
        "id": "28oJ5WDu8ybB",
        "outputId": "fe99a96d-93ed-4d52-8fc9-761da9d9474c"
      },
      "source": [
        "from imblearn.under_sampling import RandomUnderSampler\n",
        "\n",
        "rus = RandomUnderSampler(random_state=42, replacement=True)\n",
        "x_rus, y_rus = rus.fit_resample(data.iloc[:,0:-1], data['Target'])\n",
        "\n",
        "print('Original dataset shape:', len(data))\n",
        "print('Resampled dataset shape', len(y_rus))"
      ],
      "execution_count": 19,
      "outputs": [
        {
          "output_type": "stream",
          "text": [
            "Original dataset shape: 56962\n",
            "Resampled dataset shape 196\n"
          ],
          "name": "stdout"
        }
      ]
    },
    {
      "cell_type": "markdown",
      "metadata": {
        "id": "602pJnwe_tq-"
      },
      "source": [
        "# **Synthetic Minority Oversampling Technique (SMOTE)**\n",
        "\n",
        "This technique generates synthetic data for the minority class.\n",
        "\n",
        "SMOTE (Synthetic Minority Oversampling Technique) works by randomly picking a point from the minority class and computing the k-nearest neighbors for this point. The synthetic points are added between the chosen point and its neighbors.\n",
        "\n",
        "![Screenshot 2020-12-26 at 3.53.10 AM.png](data:image/png;base64,iVBORw0KGgoAAAANSUhEUgAABjwAAAHWCAYAAADD4SBhAAAMS2lDQ1BJQ0MgUHJvZmlsZQAASImVVwdUU0nbnltSSWiBUKSE3kQRpEsJoUUQkCrYCEkgocSYEETsyLIKrgUVEVBXdFXERdcCyFqxl0Wx98WCirIuFmyofJMCuu75/+987zlz75N33nnekpm5MwDo1PKk0lxUF4A8Sb4sPiKENSE1jUV6BBCgD4yAP2Dy+HIpOy4uGkAZfP9T3l6D1lAuuyq5/t3//4qeQCjnA4DEQZwhkPPzIN4LAF7Cl8ryASD6QL3NjHypEk+C2EAGA4RYqsRZalyixBlqXKWySYznQLwDADKNx5NlAaDdAvWsAn4W5NG+AbGbRCCWAKBDhjiQL+IJII6EeHhe3jQlhnbAMeMbnqx/cGYMcfJ4WUNYnYtKyKFiuTSXN/N/LMd/l7xcxaAPe9hoIllkvDJnWLcbOdOilJgGcY8kIyYWYn2I34sFKnuIUapIEZmktkfN+HIOrBlgQuwm4IVGQWwGcbgkNyZao8/IFIdzIYYzBC0U53MTNWMXCeVhCRrOWtm0+NhBnCnjsDVjG3kylV+l/XFFThJbw39DJOQO8r8pEiWmqGPGqAXi5BiItSFmynMSotQ2mG2RiBMzaCNTxCvjt4XYTyiJCFHzY1MyZeHxGntZnnwwX2yRSMyN0eDqfFFipIZnB5+nit8Y4hahhJ00yCOUT4gezEUgDA1T545dFEqSNPlindL8kHjN2FfS3DiNPU4V5kYo9dYQm8kLEjRj8cB8OCHV/HiMND8uUR0nnpHNGxunjgcvBNGAA0IBCyhgywDTQDYQt/c098Bf6p5wwAMykAWEwFWjGRyRouqRwGcCKAJ/QSQE8qFxIapeISiA+s9DWvXTFWSqegtUI3LAY4jzQBTIhb8VqlGSIW/J4BHUiP/lnQ9jzYVN2fdvHRtqojUaxSAvS2fQkhhGDCVGEsOJTrgpHoj749HwGQybO+6D+w5G+9We8JjQQXhAuEroJNycKi6WfZcPC4wDndBDuCbnjG9zxu0hqyceggdAfsiNM3FT4IqPhp7YeBD07Qm1HE3kyuy/5/5HDt9UXWNHcaOgFCNKMMXx+5HaztqeQyzKmn5bIXWsGUN15Qz1fO+f802lBfAd9b0ltgjbg53CjmJnsANYM2Bhh7EW7Dx2UImHZtEj1Swa9BaviicH8oj/5Y+n8amspNytwa3b7ZO6L19YqNwfAWeadKZMnCXKZ7Hhzi9kcSX8EcNZ7m7ubgAovyPqbeo1U/V9QJhnv+qK4XoIMB4YGDjwVRe1BYA9cD+iXvmqc/wT7sVLATi9jq+QFah1uPJBAFSgA1eUCbAANsAR5uMOvOD3KhiEgbEgFiSCVDAFVlkE57MMzACzwQJQCsrBcrAaVIMNYBPYBn4Fu0EzOACOgpPgHLgIroLbcPZ0geegF7wF/QiCkBA6wkBMEEvEDnFB3BEfJBAJQ6KReCQVSUeyEAmiQGYjC5FypAKpRjYi9chvyH7kKHIG6UBuIveRbuQV8hHFUBpqgJqj9uhI1Adlo1FoIjoZzUKno0VoCboUrULr0B1oE3oUPYdeRTvR52gfBjAtjIlZYa6YD8bBYrE0LBOTYXOxMqwSq8MasVb4P1/GOrEe7ANOxBk4C3eFMzgST8L5+HR8Lr4Er8a34U34cfwyfh/vxb8Q6AQzggvBj8AlTCBkEWYQSgmVhC2EfYQTcDV1Ed4SiUQm0YHoDVdjKjGbOIu4hLiOuJN4hNhBfEjsI5FIJiQXUgAplsQj5ZNKSWtJO0iHSZdIXaT3ZC2yJdmdHE5OI0vIxeRK8nbyIfIl8hNyP0WXYkfxo8RSBJSZlGWUzZRWygVKF6Wfqkd1oAZQE6nZ1AXUKmoj9QT1DvW1lpaWtZav1ngtsdZ8rSqtXVqnte5rfaDp05xpHNokmoK2lLaVdoR2k/aaTqfb04PpafR8+lJ6Pf0Y/R79vTZDe4Q2V1ugPU+7RrtJ+5L2Cx2Kjp0OW2eKTpFOpc4enQs6PboUXXtdji5Pd65uje5+3eu6fXoMvVF6sXp5ekv0tuud0XuqT9K31w/TF+iX6G/SP6b/kIExbBgcBp+xkLGZcYLRZUA0cDDgGmQblBv8atBu0GuobzjaMNmw0LDG8KBhJxNj2jO5zFzmMuZu5jXmRyNzI7aR0GixUaPRJaN3xsOMg42FxmXGO42vGn80YZmEmeSYrDBpNrlrips6m443nWG63vSEac8wg2H+w/jDyobtHnbLDDVzNos3m2W2yey8WZ+5hXmEudR8rfkx8x4LpkWwRbbFKotDFt2WDMtAS7HlKsvDls9Yhiw2K5dVxTrO6rUys4q0UlhttGq36rd2sE6yLrbeaX3XhmrjY5Nps8qmzabX1tJ2nO1s2wbbW3YUOx87kd0au1N27+wd7FPsf7Rvtn/qYOzAdShyaHC440h3DHKc7ljneMWJ6OTjlOO0zumiM+rs6SxyrnG+4IK6eLmIXda5dAwnDPcdLhleN/y6K82V7Vrg2uB6fwRzRPSI4hHNI16MtB2ZNnLFyFMjv7h5uuW6bXa7PUp/1NhRxaNaR71yd3bnu9e4X/Gge4R7zPNo8Xg52mW0cPT60Tc8GZ7jPH/0bPP87OXtJfNq9Or2tvVO9671vu5j4BPns8TntC/BN8R3nu8B3w9+Xn75frv9/vZ39c/x3+7/dIzDGOGYzWMeBlgH8AI2BnQGsgLTA38O7AyyCuIF1QU9CLYJFgRvCX7CdmJns3ewX4S4hchC9oW84/hx5nCOhGKhEaFloe1h+mFJYdVh98Ktw7PCG8J7IzwjZkUciSRERkWuiLzONefyufXc3rHeY+eMPR5Fi0qIqo56EO0cLYtuHYeOGztu5bg7MXYxkpjmWBDLjV0ZezfOIW563O/jiePjxteMfxw/Kn52/KkERsLUhO0JbxNDEpcl3k5yTFIktSXrJE9Krk9+lxKaUpHSOWHkhDkTzqWapopTW9JIaclpW9L6JoZNXD2xa5LnpNJJ1yY7TC6cfGaK6ZTcKQen6kzlTd2TTkhPSd+e/okXy6vj9WVwM2ozevkc/hr+c0GwYJWgWxggrBA+yQzIrMh8mhWQtTKrWxQkqhT1iDniavHL7MjsDdnvcmJztuYM5Kbk7swj56Xn7ZfoS3Ikx6dZTCuc1iF1kZZKO6f7TV89vVcWJdsiR+ST5S35BvDAfl7hqPhBcb8gsKCm4P2M5Bl7CvUKJYXnZzrPXDzzSVF40S+z8Fn8WW2zrWYvmH1/DnvOxrnI3Iy5bfNs5pXM65ofMX/bAuqCnAV/FLsVVxS/WZiysLXEvGR+ycMfIn5oKNUulZVe/9H/xw2L8EXiRe2LPRavXfylTFB2ttytvLL80xL+krM/jfqp6qeBpZlL25d5LVu/nLhcsvzaiqAV2yr0KooqHq4ct7JpFWtV2ao3q6euPlM5unLDGuoaxZrOquiqlrW2a5ev/VQtqr5aE1Kzs9asdnHtu3WCdZfWB69v3GC+oXzDx5/FP9/YGLGxqc6+rnITcVPBpsebkzef+sXnl/otplvKt3zeKtnauS1+2/F67/r67WbblzWgDYqG7h2Tdlz8NfTXlkbXxo07mTvLd4Fdil3Pfkv/7druqN1te3z2NO6121u7j7GvrAlpmtnU2yxq7mxJbenYP3Z/W6t/677fR/y+9YDVgZqDhgeXHaIeKjk0cLjocN8R6ZGeo1lHH7ZNbbt9bMKxK8fHH28/EXXi9Mnwk8dOsU8dPh1w+sAZvzP7z/qcbT7nda7pvOf5fX94/rGv3au96YL3hZaLvhdbO8Z0HLoUdOno5dDLJ69wr5y7GnO141rStRvXJ13vvCG48fRm7s2Xtwpu9d+ef4dwp+yu7t3Ke2b36v50+nNnp1fnwfuh988/SHhw+yH/4fNH8kefukoe0x9XPrF8Uv/U/emB7vDui88mPut6Ln3e31P6l95ftS8cX+z9O/jv870Terteyl4OvFry2uT11jej37T1xfXde5v3tv9d2XuT99s++Hw49THl45P+GZ9In6o+O31u/RL15c5A3sCAlCfjqY4CGGxoZiYAr7YCQE8FgHERnh8mqu95KkHUd1MVAv8XVt8FVeIFQCN8KY/rnCMA7ILNQXklCQZAeVRPDAaoh8dQ04g808NdzUWDNx7C+4GB1+YAkFoB+CwbGOhfNzDweTMM9iYAR6ar75dKIcK7wc/eSnR5c82g/yH5D3psf7oyoiRjAAAACXBIWXMAABYlAAAWJQFJUiTwAAABnmlUWHRYTUw6Y29tLmFkb2JlLnhtcAAAAAAAPHg6eG1wbWV0YSB4bWxuczp4PSJhZG9iZTpuczptZXRhLyIgeDp4bXB0az0iWE1QIENvcmUgNS40LjAiPgogICA8cmRmOlJERiB4bWxuczpyZGY9Imh0dHA6Ly93d3cudzMub3JnLzE5OTkvMDIvMjItcmRmLXN5bnRheC1ucyMiPgogICAgICA8cmRmOkRlc2NyaXB0aW9uIHJkZjphYm91dD0iIgogICAgICAgICAgICB4bWxuczpleGlmPSJodHRwOi8vbnMuYWRvYmUuY29tL2V4aWYvMS4wLyI+CiAgICAgICAgIDxleGlmOlBpeGVsWERpbWVuc2lvbj4xNTk2PC9leGlmOlBpeGVsWERpbWVuc2lvbj4KICAgICAgICAgPGV4aWY6UGl4ZWxZRGltZW5zaW9uPjQ3MDwvZXhpZjpQaXhlbFlEaW1lbnNpb24+CiAgICAgIDwvcmRmOkRlc2NyaXB0aW9uPgogICA8L3JkZjpSREY+CjwveDp4bXBtZXRhPgoGHEK7AAAAHGlET1QAAAACAAAAAAAAAOsAAAAoAAAA6wAAAOsAAMV32GURhQAAQABJREFUeAHsvXlwnld5/n9r3yVLtiTL8iLvdryviZ04diAQCE7SlISUFggDCUspwz9lpv+XGQr9MgyUTksKLWl/hYYQiB0SSMji7HHseIv33bJlyYssS5a1L7/zOc7jyEK7Hknvcp2Zl3d7nvOc8zmvwuP7Otd9J3S6ZmoiIAIiIAIiIAIiIAIiIAIiIAIiIAIiIAIiIAIiIAIiIAIiEMUEEiR4RPHqaegiIAIiIAIiIAIiIAIiIAIiIAIiIAIiIAIiIAIiIAIiIAKegAQP/RBEQAREQAREQAREQAREQAREQAREQAREQAREQAREQAREQASinoAEj6hfQk1ABERABERABERABERABERABERABERABERABERABERABERAgod+AyIgAiIgAiIgAiIgAiIgAiIgAiIgAiIgAiIgAiIgAiIgAlFPQIJH1C+hJiACIiACIiACIiACIiACIiACIiACIiACIiACIiACIiACIiDBQ78BERABERABERABERABERABERABERABERABERABERABERCBqCcgwSPql1ATEAEREAEREAEREAEREAEREAEREAEREAEREAEREAEREAERkOCh34AIiIAIiIAIiIAIiIAIiIAIiIAIiIAIiIAIiIAIiIAIiEDUE5DgEfVLqAmIgAiIgAiIgAiIgAiIgAiIgAiIgAiIgAiIgAiIgAiIgAhI8NBvQAREQAREQAREQAREQAREQAREQAREQAREQAREQAREQAREIOoJSPCI+iXUBERABERABERABERABERABERABERABERABERABERABERABCR46DcgAiIgAiIgAiIgAiIgAiIgAiIgAiIgAiIgAiIgAiIgAiIQ9QQkeET9EmoCIiACIiACIiACIiACIiACIiACIiACIiACIiACIiACIiACEjz0GxABERABERABERABERABERABERABERABERABERABERABEYh6AhI8on4JNQEREAEREAEREAEREAEREAEREAEREAEREAEREAEREAEREAEJHvoNiIAIiIAIiIAIiIAIiIAIiIAIiIAIiIAIiIAIiIAIiIAIRD0BCR5Rv4SagAiIgAiIgAiIgAiIgAiIgAiIgAiIgAiIgAiIgAiIgAiIgAQP/QZEQAREQAREQAREQAREQAREQAREQAREQAREQAREQAREQASinoAEj6hfQk1ABERABERABERABERABERABERgpAh0dnZae3u77z4xMdESEhL8Y6Sup35FQAREQAREQAREQASGTkCCx9DZ6UwREAEREAEREAEREAEREAEREIEYJ9DW1mZNTU1+lqmpqZacnCzRI8bXXNMTAREQAREQARGIXgISPKJ37TRyERABERABERABERABERABERCBkAkgbtTU1Fhtba3V19fb1atXveDR0dFhCB7p6emWnZ1teXl5Nn78eMvKyhpTAQT3SUtLi6fA+JKSkvzrxsZGq66uNhwqBQUFlpmZOSrOlN7G09DQcH08+fn5fjyBYybkJVR3IiACIiACIiACcUxAgkccL76mLgIiIAIiIAIiIAIiIAIiIAIicCOByspK27Fjh+3du9cOHz5sFy5cMFweBPIRDxA6pk2bZgsXLrS1a9f61ykpKUbwfixaIGxwbQSYjIwMP4wzZ87Y22+/7ce8evVqmzx5shdDSMk1kq238Zw+fdreeustz3HFihU2ZcoUS0tLuy7QjOSY1LcIiIAIiIAIiED8EJDgET9rrZmKgAiIgAiIgAiIgAiIgAiIgAj0QgCXxJUrV+zIkSP2+uuv28GDB+3SpUvW3NzsxQzEDo4hpVVOTo7NmDHDbrnlFps/f75NmjTJf9ZL1yPyMSIMYzt//rwdO3bMj2vBggVWWFjor7d//3578sknDWfK/fffb3yH+2OkhJn+xnPo0CHbtGmTtba22sc//nGbO3euF2cQi9REQAREQAREQAREICwCEjzCIql+REAEREAEREAEREAEREAEREAEopYA6Z8QO3B2bNu2zQsFS5cutalTp/oUVggFCB44QDiGlFe4PebNm2d33HGHTZ8+fVTnTqqtc+fOGULC1q1bfWqte++91wsJDGT79u3205/+1M/jkUceMVwViDUjJXj0N54DBw7YU0895d0yn/zkJ71QhBtFgseo/mx0MREQAREQARGIeQISPGJ+iTVBERABERABERABERABERABERCB/giUl5fbm2++afv27bOKigqbOHGi3X333d4ZQc0O3BG4E06dOuVTMxHAR/wgvdVf/dVf+RRX/V1jMN/jKMGdQUOk6J6KCsGFMe/atcteeeUVL748/PDDhkhDI33UD37wA9/Ht771LZ9+Kyi4Tt80+uzer/+i2/9wfPAIzul+Xn/jOXnypL366qs+pRXOmLKysh5TWvU3725D01sREAEREAEREAERuIGABI8bcOiNCIiACIiACIiACIiACIiACIhAPBLAKbF582YjME/KqtmzZ9u6det8YD4QChAgCOxTH2PPnj22ZcsWGzdunH3+85+3JUuWhIqtt+LfwUUYB3UxEDxefvnlPxM8SMv13e9+1wse3/72t/1cgoLmpJ+iDaT2SCB0MB4eCB09ndffeHCAUA+F/oJi7z0JOVwDYSkYXzBm/4H+RwREQAREQAREQAT6ISDBox9A+loEREAEREAEREAEREAEREAERCD2CVCz4+mnn7YTJ05Ybm6uFzxuu+02n6oqNTX1enFtgvEE748ePWqvvfaaD/6ToqmkpMQH9El7RaqmzMxML5xwbtAI9tfX19vZs2f9R9T+IKB/8eJFH+TPysryKZ8uX77sr0GNDs5BcMFlQn0OxBgEB1Jw4UZB8CAFF9fDkbJ8+XI/lp07d3rBgyLiX/3qV23x4sXW0NDg634geHBdrodgU1RU5F8H4+SZY7lGXV2d0QfzZiyIFFyfcXAe10UEoZZIX+NBLMI5Qx+w4nzGgMDBPKmfAgfYBsIK31PYnHFyPCnE0tPTuw5Tr0VABERABERABETgBgISPG7AoTciIAIiIAIiIAIiIAIiIAIiIALxSAChA6cE9Tmqqqp8SiuKay9atMg7EhAxaATuCcgjXOBYQAAg/RXBelJLUei8tLTUO0NwieBmoBHo53H48GH7/e9/7z+75557vDjyxhtveGGB9FgIDYgViCJcB3GCx5QpU+z222/3NToQKXCZPP/889ePZRzUG1m1apV96lOf8mMjpRV1Pu68804vFnBtRAzGgVAxYcIEn7KrpxokuEdIi0XqLvpoamry4gNiBwIHNUs2bNjg58l7Cqf3NR7m8Lvf/c7PCWGG2ieIGUHhdQQnrse8+Zw+OQeho8ylv6LIOaJNcXGxZ6f/EQEREAEREAEREIGeCEjw6ImKPhMBERABERABERABERABERABEYgrAjgUEDt2795t7733ng/MI3YQ2MfJgLsA0SN4IBjwQACgUfD82Wef9XU1cIjMmTPHcIggQtBwfuBiwJHxm9/8xnB+fPGLX/T9bdq0yQf6EUpoBP1xVtCCVFD5+fl28803+6A/fdfU1HiBgf5wTvQkePy///f/fM0RamYgkiDkINTQEBMQMRBlPv3pT/t+mQ8iC30jjpAWCyGIz+ifuSP4MA/EktWrV/t5IvggiiB49DYehKAf/ehH3iny6KOPGmOiP4QiBB7YI64wPkQiuHZ1uMyaNcs+9rGP+fF2ddz4yeh/REAEREAEREAEROADAhI89FMQAREQAREQAREQAREQAREQARGIewIE16lDQdD9pZdesv3793u3Bm4IxA4C/AgSPCZPnuyFDFwXfEdDpCC1FOfjjiBd1V/+5V/a/Pnz/feICLgg6BdBBQHjwQcf9GmdEDxwOHAtzsOlwXVwOSAkUC+EZ76fOXOm4TzhuvSFwPDuu+968aBrSqsdO3bYd77zHT8WnBgUM8dBgvBBQ9BAoKFPUnKtXLnSzylwmPA9LhLSSZEmK0i/xTwQdwLxBEGH8SDy9DUe5oAAQ2qsb3zjG76IOoIHtVP+7//+z18LcQk3B+OkP47le4QUBBCEmRUrVnh2nKsmAiIgAiIgAiIgAt0JSPDoTkTvRUAEREAEREAEREAEREAEREAE4pYAQf63337bCwkE20kBRSPAXlBQ4IPtiAaIHYgZBOcRQ3BwnDp1yrsV/vSnP3lBAgcHYgG1KHBhvPPOO3b8+HHvkEA0wbHAeQgeiAUE+EndRGD/pptu8oJHZWWlF0gQDBAhEB7++q//2l+XsSJ4INAgEDz88MNe2GC81Bf5x3/8Ry+U3HvvvT4dFoXVg5RQiC4//elPfeqrW2+91QseCxYs8O6OZ555xs+FPnGA4FRhvjScGggeXBcHCG6ML3/5y4YDgznikOlpPG+++aZ973vf83P85je/aWvWrPFcEGYee+wx72S57777vIuFa1GzBGcJzo8nnnjCuz0+8YlP+BRjiEUSPPxy6H9EQAREQAREQAS6EZDg0Q2I3oqACIiACIiACIiACIiACIiACMQvAQp0I3KQaolnUl3hruA1xcR5j9BA8WxSXuHGWLdunS/ETfopRA2EBNwZX//6131gn2NxdyAk0BciSVCTAscEggepo3BtUNuia20MrovQgcBAjQsEBoQU3BAILAgM1A7h3K6CRyAwMCaOR7ToWpz8/ffft//93/81BBWEDuaybNky//7nP/+5Fz6o7cHniCwIEDREGfrEzfL44497Dt/61re8QIPggTDT13g4H8EDpwasEV7+53/+xzs4uqa6olA77hPqpOCaIZUWogqF25XSKn7/PjVzERABERABEeiPgASP/gjpexEQAREQAREQAREQAREQAREQgZgngJsAtwWNgDrBdtJcIUiQrgphgAfCBOmn+JzjKKT9mc98xj9TbHv79u32L//yL774+EMPPeQFEUQKXBEE9hELcHaQYgohAZEAwYNn3iN4BCmtGAtpthA2cELgnEDYwFERCB4IIVu2bPGpqroKHogjFC2nVgcppHBU4IpASKDhKHnyySf93OgL0QMRory83H74wx96gYfi54ynq8CAkMMDEYLzEUIQMHC7wAdHRk/jCQSYQPCAG24R6nf89re/9Q4V+qEuSNfGGgT1THCcwFhNBERABERABERABHojIMGjNzL6XAREQAREQAREQAREQAREQAREIG4I4DYgAE8jdRWuDEQQAvR8R4FvnhEgcHkgNDz33HO+cDkOirVr1/rUVqSsIgUTzgREBAQDnAl8jvOD9pWvfMWnbkKAOHr0qBc8EFVI5cTxCA8lJSX+2EDwQBh48cUXByx4kJYL4YI5/N3f/Z0XPKiDQXotWm+CB4LO97//fe8qYfy4QihYjshBC54RIahVglvls5/9rK8tghuFfgcieNB3UJ/khRde8KnC4MLcuzacHawBjfEzFjUREAEREAEREAER6I2ABI/eyOhzERgsgY4262xrNutoH+yZfR+fmGQJyW4XU+K1nVh9H6xvRUAEREAEREAEIpqA7hcienk0uPgmgDsBUQFHBPUzEBxwEwSOiIBOIIBQvwJBgSLfX/jCF3yNDOpyIJqQ0unkyZPeJYJgsHDhQp8i69e//rUXSHBc4OKg4RbB4cH1KQCO4EFqqeEKHoHDA8GAlFMIMswlEAxwaDz11FPe4YFowZwRGxA8qLVBGi0+mzhx4g0Oj4AD/cKKMZOCi1RTiDyDETwofE4KLGqeUJejJ8EjKCYPdwQPhCiEIl6riYAIDJJAZ4ePWXS6+xEfu+B9GC3BCZHELohbuGf3Ioxe1YcIiIAIDImABI8hYdNJIvDnBDpbrlrn1QvW2dLw518O45OE1ExLyCq0hNSsYfSiU0VABERABERABCKBgO4XImEVNAYR6JkAKaN+9rOf+ZRTFPmm2HjXmhfBWQT6cU1Qq+MnP/mJd3z8xV/8hd1yyy1WVlbm3QiICaR2ok4GDcEDoYHPEQaCouR8N1KCB4LMd7/7XV/74tvf/ravM9JV8KAgO0ILzpLS0tLrzhLSZ5EKixomd999d69FwgPhJzMz0ztTcH5Q2wQBYyAOD2qD4AhBZGIcpKvCidI9pRVuGljiKCGdF2uCE4bj1URABAZJoL3VOltd7MLFLbgnMfc+lJaU4mMWPn6R4mIX7r2aCIiACIwVAQkeY0Ve1405Ah1Xzll7xR7rqDsX6twSc4stqXSxJeYUh9qvOhMBERABERABERh9ArpfGH3muqIIDJTA1q1b7cc//rHhOli/fr13O1CXori4+AanB3U+6uvr7d1337Vf/OIXvs4HAgaBelwZCBukaiKQT5FyhANSWlHHA8EBNwUFxHFG0MIQPHCUjBs3zhcnpzYI7bXXXrPvfOc7XvD4h3/4B+9A6Sp44OBgfAgejJsi6jg8cJo89thj3qlC0XI+mz17tk/zRb8IHdQhwcnCudT3YH7MG7GEVF89jad7DQ8EJfpBaKJ4Ov10TfXFWKmjQrH3559/3l+P6/CYOXPm9fEwJjUREIGBEehsrreOK5U+btF5xW3YbHaiRwgtIS3LEnIKjfhFYk6JJaRlh9CruhABERCBoRGQ4DE0bjpLBP6MQHvlAWvZ+ZTxHGZLKplvqcs+bTyriYAIiIAIiIAIRDcB3S9E9/pp9LFNAOHhd7/7nU/JhIsDQWLdunU+rROujKysa45rAv3U3cDh8eyzz3qnwVe/+tXrNTmgRBqm9957zx5//HGfGoqaIBQGR4wgTRRBez6jDVXwmDFjxnWBIajt8aUvfcmnw6LfoQoeOCngQEouRBREnw0uZRXuFdrly5d92itSV1GgnWMefPBB7xIJBI+extNd8MARQz0RBA8EFuqjPPDAA9eFI4qhI3ggoCAsMa4777zTz08OD78U+h8RGDQBv/Gi8n1rc3GLjqoj1llfPeg+ejohIXu8JU6cbckubpFUskgbNnuCpM9EQARGjYAEj1FDrQvFOoG2Uzus+fX/sLbyHaFONXnqcktb96glT1sear/qTAREQAREQAREYPQJ6H5h9JnriiIwUAJBDY/du3fbvn37/GkU1saRgTuD1E0E4CkiXl5e7sUGAvx8/7nPfc4WL158w6Xo57//+799wJ4UWHPmzDFSZSF60B91KGhDFTxwXTBmhBWcGog0n/zkJ70jA0GA1FL/9E//5D//+7//e+8q6erwIKXV5s2bvUtj0qRJ3uGxcuVKP6Zt27YZ31dUVFhOTo7xOfVJOL+mpsYLPtT6oGg516JoOYJOX+MhLdU///M/e4cINUxuvfVWz4D5/+pXv/LjYE70Q59clxohR44cMYqac+2u/FgPNREQgcER6Lh8xlpPvePjFu3l71tn7fnBddDL0Ql5RZY0dZERv0iZdosljpvcy5H6WAREQARGnoAEj5FnrCvECQEFMOJkoTVNERABERABERgGAd0vDAOeThWBESbQ1NTkg/mkeqL+Bc+IG3xOfQoaggepm0i/hOsDpwb1OUj7FBQZD4ZJoP65557zLghqW5CG6Ytf/KI/lvNxN9CGKnjgFMH1QCouhBVSP1HfgtRan/nMZ+zKlSv2ox/9yAseCAw4KroKHtQTwclBWioEBoqlU0id4uGIGnz/6quveqcH82fMiAyk9KKuBq8RhBB6KLKOY6Wv8fAdRd5JifW1r33N1qxZ4wUPUn4h2lDvBBY4PSZMmOCvB3uYc21Yf+QjH/EcKSYf8At461kERKB/AhI8+mekI0RABKKfgASP6F9DzSBCCCiAESELoWGIgAiIgAiIQAQT0P1CBC+OhiYCHxBAACBVEymbjh8/7oP7BOEJ1NNwZgRiBwIBrgTqfAQprz7oxgsF1LLA6YETAufC5z//eVuyZElwiH/GLUK6Jwp4I1iQSos+cYHQqHNBTRAEFIQBrkMxcVJakTqLceLwQCzA5YEQguCBIPD000/7z+655x4vaPAZgg0NdwpprxAcuC5OFUQPxIbge4QfhA+OYf7p6en+O4QIBB5qkXAO5/NdX+NBNHnqqae8a2Pjxo1+nAgX9MX8uM5bb73lXSKIKYwTcYXi5MyVGiOIS1xLTQREYGgEJHgMjZvOEgERiC4CEjyia7002ggmoABGBC+OhiYCIiACIiACEUJA9wsRshAahgj0QQBxA4cDjgTEBgqU80zAnyA8QXrSLVG7AjcEr/kM90TXdtLVwEDwoN4H55a5Ghh33XWXdyh0Pa6hocELCgT36YdgP33iaqCR1gkhAccG4+I6iA0IHwgcjBORhmfeIxAgmjBWUlLhkCBlFX0iOgRuFa574cIF3zdiRXBdxkALvsflAhPGR+N8xkCNDcSRYP6IKX2Nh/NwujAexs84OYd0X4gezA9hBdbMmQYDxsZcuU5eXp5n5L/U/4iACAyagASPQSPTCSIgAlFIQIJHFC6ahhyZBBTAiMx10ahEQAREQAREIJII6H4hklZDYxGBgRFArCDgTxCeAD3B/p4EDr4ncM8zQX3cIS+99JJ3bpAyihoeuDtwg4xE45o8aF2FjeFeCxEDUYJ58QhEn+4CT/frDHU8AUf6Q+zo7zrdr6v3IiACvROQ4NE7G30jAiIQOwQkeMTOWmomY0xAAYwxXgBdXgREQAREQASigIDuF6JgkTREEehGIAj4E8APhASED153bThBKNrNM8eSguqPf/yjFwhIQUWdi55SX3XtY7ivuwoew+0rOD8QLoJnPu9p/sHxXZ+HMh7OQWChDfQ6Xa+p1yIgAr0TkODROxt9IwIiEDsEJHjEzlpqJmNMQAGMMV4AXV4EREAEREAEooCA7heiYJE0RBEYIgHSTVE4vKqqyhc7pzbHvn37fL2PBx980Bf3lmNhiHB1mgiIQCgEJHiEglGdiIAIRDgBCR4RvkAaXvQQUAAjetZKIxUBERABERCBsSKg+4WxIq/risDIE6Do+OHDh33xcIQOnB7U+KDY9rp163xRcDkWRn4ddAUREIHeCUjw6J2NvhEBEYgdAhI8YmctNZMxJqAAxhgvgC4vAiIgAiIgAlFAQPcLUbBIGqIIDJEAxb1xdVCkfP/+/T4t06xZsyx4FBQUDLFnnSYCIiAC4RCQ4BEOR/UiAiIQ2QQkeET2+mh0UURAAYwoWiwNVQREQAREQATGiIDuF8YIvC4rAqNAgOLmDQ0N3tlRV1fn63hkZ2db8EhNTR2FUegSIiACItA7AQkevbPRNyIgArFDQIJH7KylZjLGBBTAGOMF0OVFQAREQAREIAoI6H4hChZJQxQBERABERCBGCUgwSNGF1bTEgERuIGABI8bcOiNCAydgAIYQ2enM0VABERABEQgXgjofiFeVlrzFAEREAEREIHIIyDBI/LWRCMSAREIn4AEj/CZqsc4JaAARpwuvKYtAiIgAiIgAoMgoPuFQcDSoSIgAiIgAiIgAqESkOARKk51JgIiEKEEJHhE6MJoWNFHQAGM6FszjVgEREAEREAERpuA7hdGm7iuJwIiIAIiIAIiEBCQ4BGQ0LMIiEAsE5DgEcurq7mNKgEFMEYVty4mAiIgAiIgAlFJQPcLUblsGrQIiIAIiIAIxAQBCR4xsYyahAiIQD8EJHj0A0hfi8BACSiAMVBSOk4EREAEREAE4peA7hfid+01cxEQAREQAREYawISPMZ6BXR9ERCB0SAgwWM0KOsacUFAAYy4WGZNUgREQAREQASGRUD3C8PCp5NFQARGkUBjY6NdunTJmpubLSUlxTIyMiwnJ8fS0tJGcRS6lAiIQJgEJHiESVN9iYAIRCoBCR6RujIaV9QRUAAj6pZMAxYBERABERCBUSeg+4VRR64LioAIDJFARUWFbd261S5evGh5eXlWWlpq8+bNswkTJgyxR50mAiIw1gQkeIz1Cuj6IiACo0FAgsdoUNY14oJA2+ld1vz2L6zdPYfZkqYstbQ1X7Rk96w2hgQ6O8w62q2zo80/uxfhDCYh0SwxyRISk/2zexFOv+pFBERABEQgIgn0d7/Q2dlpHR2dVt/UYhfqmvzr/OxUy05PsdSUZEtK7Pn/J3S/ECHLrfuFCFkIDSMMAkePHrU//OEPhvAxfvx4mz17tq1atcoLH2H0rz5EQARGn0BH7VlrO73N2s7scrGLfdZZdz6UQSTkFlnSlAWWPHmpi12sssS8SaH0q06GSMDFLTrbmq/FLobYRY+nEbtIdi4/4hdqIhDBBCR4RPDiaGjRRaC9cp8173jCeA6zJZUssLTlDxnPamNIoL3VOluvWmdLg3tcNXPvQ2lJKZaQmuUemZaQkmXm3quJgAiIgAjELoH+7hfa29utpaXVjldetlf3V1pLa7utmFFgMyeOs/y8bMtIT+0Rju4XesQy+h/qfmH0meuKI0bgyJEj1wUPXB0SPEYMtToWgVEj0HHlnLVVvu/iFnuto/KAddRfDOXaidkTLLFkvotbLLTkkkWWmFMcSr/qZGgEiFl0Xr3g4xdD66Hns3zcIqvQxzB6PkKfikBkEJDgERnroFHEAIGOmlPWeux167h0KtTZJBZMs5SZ6ywxf1qo/aqzwRHobK63jiuV1lF3zjqvuBuHZid6hNAS0pzYkVNoibnF7qawxBLSskPoVV2IgAiIgAhEKoH+7hcCwWP3kTP2qz9ttwvVl2zJ1DxbNKPE5s+dZROLCi01NdWSkpJumKLuF27AMWZvdL8wZuhH5cI4sIJHQkKCvybPweveBnHNufWhOzg4p7/zgv66np/oXF7dz+vv+6Cf7s/9nYfg8dxzz3mHR2FhYZ+CB30Fj4HOLzie52BOwbndx6r3IiAC4RDobLxs7S52wf1Ix6Vy62ysDaXjhIw8SyyY6uMWSS52kZAxLpR+1cnQCCBstVfs8fGLofXQ81nELZJKF0vQ6hmPPo0gAhI8ImgxNJToJuB3/o+ogp4Z3YCifPT+hsHthGljF0zVEeusrw5lRgnZ4y1x4my3C4bdMNoJEwpUdSICIiACEUygv/sFAn8dHR22Y/de+/n/92vbvWePpXS22k1zZtq992y0pUuWWH5Bvi8e3HWaH+640/1CVy6j/Vr3C6NNfHSvx99mW1ub/xslMI/4gPjIc18NIbO1tdWfF5wzkPOCPjmfwuE0CoZ3Fzz7+z7op/vzNYG1xX/ck5CK4PHss8/a2bNnrS/BIxAu6I8HbChy3h+XofLsPg+9FwERGAQBnIjs/m8lc0FDyJkLyFrgHi6DgTIXDGJNRuDQdhe3aNn5lHPyHAi19yQXt0hd9mkXu5gfar/qTATCJiDBI2yi6k8ERCAmCai4W0wuqyYlAiIgAhFL4ODBg7Zp0yZ76623jDz648aNszvvvNNuvvlmmz9/vk2cOLFHp0fETihOBqb7hdhc6Pr6equqqrK6urrrggczRXhITk62nJwcKyoqsuzsbB/sRxRpaGjwx1++fNm/JriPMEBDCEAQyM3N9X/LwXmNjY1WXV3t0tq1+L9vRJLa2lp/Pq85D8GD8woKCnx/58+ftytXrnhBBaEhIyPD//eipKTEj4fr0e+lS5e8aMJ1GR/nNDU1eYGCY/iceZC6ivHw/tixY17woIYHgsecOXNuqOHBHBkvXLgGY2SOwfy6coEV46MNlmdwnj9Z/yMCIiACItAvgbZTO6z59f+wtvId/R47mAOSpy63tHWPWvK05YM5TceKwKgTkOAx6sh1QREQgWgkoABGNK6axiwCIiAC0UuAIOmpU6fs3Xfftd///vd28uRJH4RctGiR3XvvvbZ06VLLz/9zp0f0zjg2Rq77hdhYx+6zCIp389xduCCQP3PmTPvoRz9qs2bN8iIIYgJ/vwiXO3bssAsXLnihAiEAUYCGUIKAcNddd/lUUXyHsLB161YvIvD3jZDw/vvv+/MDcQUnxrRp0+yWW27xwsUrr7zirxW4KhBEEEXvvvtu3y/XCvq9ePGiF0sQHHBv8N8ZhA2ujVAxZcoUu+222/x5iCrl5eV9Ch6nT5/2ouyBAwfs3LlzXkDh+vTJeKZPn24bNmzwXBBimDNtsDwZn5oIiIAIiMDACUjwGDgrHRmbBCR4xOa6alYiIAIhE1AAI2Sg6k4EREAERKBPAqSFITBKwJQc+gRB5fToE1lEfKn7hYhYhtAGQRopHBZ79+71f4cE+HFbpaen+2vgaqipqbHS0lL7xCc+YQiSOC8QON544w1/HumgcGxwHkIAf9cIDjgjEC7uv/9+W+JS1eXl5XmBgb93xBJcFjgxcHDgxOBcxoNogQtj7dq1XkTZt2+f/wxBhO8Zz4wZM+wzn/mMF0azsrJ8f3/4wx/sxIkT/hz++8IYEG+YC9dhnoyBsSxYsMDmzp3r+yKlVXeHx/jx4/13hw8fttdff933S58IEwgb9IvowzhXr15tN910k5WVlfnvhsKTPtVEQAREQAQGTkCCx8BZ6cjYJCDBIzbXVbMSAREImYACGCEDVXciIAIiIAJ9EmC3NUFDdmATZN22bZucHn0Si4wvdb8QGesQ1igQGxAUEBtxOxB4X7ZsmZEuisbf5jvvvONTTuHymDdvnhc9EDl+/vOfe7Fi5cqV3slByqvMzEz/d338+HHDmYEQsmrVKlu8eLF3VZB2CmFi//79vs/i4mKfxm7y5MneOYJg8eKLL/p+SWuHgwIxgb5xVOAEe+mll3yaKpwa9MsxiCT0i1uEa9Dv+vXrvTCC6wKRBPGC+XBsIMTwXU+CB8LGzp07/TlnzpwxRJXly5fbpEmT/DjpDwcJacAQVujvk5/8pHeXDIUn41UTAREQAREYOAEJHgNnpSNjk4AEj9hcV81KBEQgZAIKYIQMVN2JgAiIgAgMiICcHgPCFDEH6X4hYpYilIEQzMddRfAeIQBhYUOXFE2kceJ7vqNeBcLEwoULvSDxq1/9yosWH//4x70IgiuCdE84PBA0nn76aZ8GCjcGosWKFSu8OIAwgSiAUECKrAcffNA7LhA0cJo88cQTdujQIS++4MS47777vBuDCQffMy7SWjEWRA9SY3UVPOj3s5/9rP+OfgOBYvv27V5QIZ3WV7/6Ve/44LygaHlQw+Pq1av2zDPPeOcIqa9mz57tU2GREouGqAKzXbt2eQcIc//yl7/shRbS9A2WJ9zVREAEREAEBk5AgsfAWenI2CQgwSM211WzEgERCJmAAhghA1V3IiACIiACAyIgp8eAMEXMQbpfiJilCGUglZWV9t5779nu3bu9CEH6p3Xr1nkhgTRWCBikbiIlFCmncICQFopUV6SlQrDEDUI6K2pvBMXCCfi/9tpr10UUBAOcHhQBR2CgWDjuCj7/2Mc+5muEMCGEjs2bN3snB0IDaacQYMpcuigaKfA2bdpkjHvq1KnecYIjBfGEfoOUVggeH/nIR7z7A8EDpwnHIN784he/8C6Nr3/9675O0AsvvOD761q0HOcLDhaEkjvuuMMLOrg7SMNFQ9RBFMGZ9vjjj/u0Wd/61rf8OBFBcJog6gyUJ5zVREAEREAEBk5AgsfAWenI2CQgwSM211WzEgERCJmAAhghA1V3IiACIiACgyLQ3elBIPGkS19DkPGBBx7wBYwJwBIEVRt9AqQfI5jddPGU1R990zpO77KMC4ctuaE6lMEk5BVZ0tRFljx1uaVMu8USx00OpV910jeBwKlAgB4xgCA+KaL4W6M+BU4IBA4EDV6T2ongfFATAzGEcxAUrv9GXD0OBAPSZCFwcC4CxM0333xd8CB9VuCcuPXWW714wUgRShAuSD1FrRAEEYqX4yyhkZaKFFQ4Mkh5hSMD5whj4DyEENwSXI/P+e9H18Ycf/zjH/vxP/roo/4aL7/8sneidBU8uP4Pf/hDX4fkU5/6lBdWEHSoI0JDROFBMfMnn3zSCyHf/OY3vUDD3HC4DIZn0G/Xseq1CIiACIhA7wQkePTORt/EBwEJHvGxzpqlCIjAMAlI8BgmQJ0uAiIgAiIwLALdnR7sON+yZYsPopKrf+nSpX4XOEFQtdEnQECboPLF8kNWsWeLJVa+b9Paq2xcZ30og5HgEQrGQXcSOB+ouUGAHsEBEYTC2zgicCiQxgmnBTUsSE9F+iaEDNwYPBAhKGKOCIJrAxcEzwggiCMIJQgXgeBB0XJSadFP8HkgaHB9vqeIeNfvEWBoXQUPnCWc31XwQGjhWD6nwHr32hikm/rXf/1XX/z8C1/4ghdjKEpOyq6uggdi6/e//31/PdJqIaJQ1wORgxY8k0oLcYQaHqTQ4pq0rqnCBsKT2idqIiACIiACAycgwWPgrHRkbBKQ4BGb66pZiYAIhExAgkfIQNWdCIiACIjAkAgETg9S07zxxhvX8/yz65zAK7vN1UaOQCA8EQgnqB08KC5PULvq1FE7e+g9K2g6Y7cXNtu0rPZQBiPBIxSMg+4kWG9qYuDywJVBsB4HBZ+Ruimo3UHNDIqW46rA2UHKKgQIxJHm5mYvAiCQ4OhA8CDtFWmwugoXfBYIGggMCBOkugoEja6CR0/fhyl4PPzww9cFD37b3QWP733ve35+1B/BTdLV4RGADlwtpNci9RbOEtJ+IXIMhCd9B4JK0KeeRUAEREAE+icgwaN/RjoitglI8Ijt9dXsREAEQiIgwSMkkOpGBERABERgWASCAKx3E7hd1+waZ8c4qXTYBU0AVW3kCASCEwFbUvMED3a84wK4UFVpjVdqbPGETnt0xThbPik9lMFI8AgF46A7CdYb0QKBA0GC9EoIHbgXcExQqwMHRJNLVYUwcfvtt3sh7De/+Y13/eDAItDP3ymCB8IAqaXeeecdQyjDHYFIgsNjpAUPrhsIJf2ltKJoOY6xl156yaqqqm4QPPjd/+AHP/Dzvvvuu71zA6cKYkbXBifmxH+bEGRJ04UIgiA0EJ4zZ860e++993pR9q5967UIiIAIiEDvBCR49M5G38QHAQke8bHOmqUIiMAwCUjwGCZAnS4CIiACIiACUUyAoC0iBw8KNRM4RuQg8MuOfwLCBL3bWhotJy3RVpem2cNLcmzpxLRQZi3BIxSMg+4EYZHAPMIEbh5EizJXIJxnXBuka6Ko+d69e737A4Hgrrvu8sf+8pe/9AIktTCos4ETBEESkZLjEUT4HdHfwoULR0XwwBmG4IJz5KMf/aivRwIU5oIIQUoriowzzqBo+fPPP+8dLV0dHvzeH3vsMf/3QNFyxBP6DFLqBUXL+XvBDcM1EX1I4TUYnogkOE2WLFky6LXTCSIgAiIQzwQkeMTz6mvuEJDgod+BCIiACAyAgASPAUDSISIgAiIgAiIQowSomUCh+D179vg0PrwPguAEsNm5TxHrKYU5NrcwxW7Ka7VFGXVWnNIcChEJHqFgHHQnBOu3b9/uhQ3SmFHke+3atb5IOO4PAv+7du3y6ZkoxI3Tav369d7V8Nvf/tYLI3/7t3/rxYxA7EBE4beEsEDwn9ofpK1as2bNoBwe/N4QGVavXn095VV/Ka1II4UIgfjwN3/zN7Z48WLPBLGOeiM7duzwqbhIs/XII494kYZi5/zeuwoeiCO/+93vvOhHii7SeZGyCvGGxt8G4gpM4McxDz74oH8eDE/qkHzuc5+7Pk7fuf5HBERABESgXwISPPpFpANinIAEjxhfYE1PBEQgHAISPMLhqF5EQAREQARGh0CQO5+d2+xMp6Aw6WTYYa02eALUTiDwSxoigsoEdNm1ToCbYC7Fn6lTMKMo0+bkNNmkzguWW3vS0povD/5iPZwhwaMHKKPwEQ4MHBysOeIHLo2VK1d6gYHC3IgH/DY4jhRXCAUIGLx++umnjRR09913n6/tEaTCQiygv1deecW7KhAtOGfdunWGqDLQGh5da38ENT76EzwQ7KjHwe8VhwdF1hkX8wjmyNgpMn7PPfd4ws8++6wXPILUW4gzzB3RBpEEMSTgQnF16pPggqLeCaIHLhicGhQtR6QZDE/+pkiZBSM1ERABERCBgROQ4DFwVjoyNglI8IjNddWsREAEQiYgwSNkoOpOBERABERgRAkQOGUnOcFN0i4RnGcXNru01QZPgMDuM88843fzExzG0UGwmGLxBIfhSp2CzPZay7x80FIvHLSkygOWUH9x8Bfr4QwJHj1AGYWPglRmOCNeeOEFn74MgYtaFQgF1O3AHZGXl+dFC4ps43JAHCFlFQF/hImgfgdDpk8avyGESJwi/I4+9rGP+foWAxE8SKPWVfBAaKD1J3ggziDC4EoKCqkzFwTS+vr664IN86B+BjVKNm/e7EUN3BZz5871bhRSVyFqHDhwwF599VXv9EAE4b8z/B3w3x/O5TVFx3GSLFu2zIuD/P0MlCfncU2EEjUREAEREIGBE5DgMXBWOjI2CUjwiM111axEQARCJiDBI2Sg6k4EREAERGBECeDqqK6u9rvPyctPY2c2O6UJHhKIjMfW3flCYJbPcL4QyCYI3VNDNHrzzTd9AJtzCHCTFohANbvXeU/T/UJP9KL3M8QBHrgVEDx4RizgMwQPfjv8HoJi5fPmzTOKd5PqasuWLV6AQHjk+K4CB78Xfjt8hgCAgEDRctrWrVuviygIGfQZBPwROvgeIRPHFt93FTL5/u233/Z/+/TJb5OC6FwDhxIF1vnbZw58xtgRKUi3hTMDsQanCb9tjsO5wu8eUQeBBcdF1/HQ3+uvv+6FD46hdkfwN4QYhEhC0XbOwSFCn0PhGfQZvb8kjVwEREAERpeABI/R5a2rRR4BCR6RtyYakQiIQAQSUAAjAhdFQxIBERABEeiVAGlpSDVDcJRaAqRgIm0OQdVbb73VBy57PTmGvyDA29X5EgR9cWhQGHnixIk9zh4BiYAu5xLkJkDMrn1SWhHE5T1N9ws94ovqDwnQ436g3gZ/V/yGAtEDhwZCASmdECUQIfgtEOxHlKitrfWODlwcHIdIwjMCG78dzg9EBwQFGkIln9EP7gv6DlLR4Q7he9wZwfddU9V1/T5wW3A+wgSCB8Id70lpheCC8IJIwTgQFeiLefDb7upgCcbIb73rePi76DpPjqPh9mCe9EN/wTl8NhSejEVNBERABERg4AQkeAyclY6MTQISPGJzXTUrERCBkAkogBEyUHUnAiIgAiIwogSCAC3uDlLrHD9+3DsYSC9D6pxFixb5QGQQdCVA2VPzjoj2VmvvaPeBSoKVYTQfKE5KsaTEJB8c7e36Q70W4wx23xOURaiACcIPAWN2rhP8pZ4CQVicL3Ahjc9wmu4XhkMv8s9FuEAg4JnfF79jxAh+Qz01jkME4Fh+4wTuESo4bzRbUIOGehqBOwnhEwcG4gmtr3n0N1bmx1wRgnj0xyXob7A8g/P0LAIiEEcEuO/o7HAPdx/i7kfM3Y+E2rgPSXb1zRJ7/u94qNcaxc4keIwibF0qIglI8IjIZdGgREAEIo2AAhiRtiIajwiIgAiIQF8ECDqyyxyhg5Q0CB+7du3yQdfA6UGqGXZ5E4DtbQd1S2uz1TdesaaWRmt1fRLYDKOlpqRaTmaupadmWHJScugB4CCQioMDYYNaCqQjOnnypK/DgOiBEMIOetIC4Xy5//77fXqg4cxP9wvDoRf55wZCWlfhj7+d3gS7rsdzTNfHaM62N8GD3z5/K7S+5tHfWJln18dA++vKJ7jGcMYR9KFnERCBGCLAhguEjtYG62y8bJ1tTaFOLiE10xKyCi0hNSvUfse6MwkeY70Cuv5YE5DgMdYroOuLgAhEBYGO2rPWdnqbtZ3ZZe2n91ln3flQxp2QW2RJUxZY8uSlljxllSXmTQqlX3UiAiIgAiIgAhAg4H/s2DHbtm2br0FA8J+0NDgaNmzY4NM4keef+hXsyu4euK27Wmtnzp+y6toL1tDU4EQPF3QIoeVm59mUomk2Pq/QMtJcSqjkaymhhtp1EDjFyUHqKeZNOiHSEDFnhA7EH97j9KCRbocUVtQrWLFihd1xxx1eABrqGDhvoPcLza3tVtfQbM2tTkRym1fTUpIsLyvd0t1zT033Cz1R0WcDJYDY9/zzzxsOD9JW8Ztfs2aNr/Ex0D50nAiIgAiMCYH2FutsrreOunPWfvG4dTbUhDqMxNxiSypdbIk5xaH2O9adtZ3eZc1v/8LFLnaFOpSkKUstbc0XXexiaaj9qjMRCJuABI+wiao/ERCBmCTQceWctVW+b+2Ve62j8oB11F8MZZ6J2RMssWS+JZUstOSSRTF3oxUKJHUiAiIgAiIwZAKk0yHATw7/nTt32o4dO/yDXP9lrkAxhczvvvtuX1S4J6fH2Qunbdv+t+1YxSGrqbtkjc0NQx5L1xMnFU6xlTetsZmlc6wgd7wXPbp+P9jXgaMDJ8cbb7xhe/bs8SIH9QVwcuB2gQUpvNjVztwJ+vJMwWlS+1BUme+H0wZ6v3CxtsEOlF+wczVXrbW90ybkZdri6UVWnN/z9XW/MJxV0bmIfS+++KJ3N1FPY8aMGd7VxN+CmgiIgAhEMoHOlqvW6f8tfsDajrxhHZfKQx1ukvu3eOqyT7t/j88Ptd+x7qy9cp8173jCxS/2hTqUpJIFlrb8IcdrQaj9qjMRCJuABI+wiao/ERCBmCSAfba95pR18HA3WZ2NtaHMMyEjzxILplpi/jRLco+EjHGh9KtOREAEREAERKArAdwO7O4mrdXLL79shw4d8kIIAf+NGzd64aMnp8eJs0ftlfeet33HdtuFmnPO5XG1a7dDfl02aaZtWHGXLZixxIryiy0rI3vIfXEidRUQcfbu3WubN2/2jpYzZ874z4JCy7hYJk2a5IUOxA4eiB35+fk+tdWwBvDByQO9X6g4X2Nb9x63U1WuALVzeZQWFdjty2bbtInXCld3H4vuF7oT0fvBEKBmDWIn7ifSuCHwzZ8/39fxGUw/OlYEREAERptAZ1Odc0+eMVI0tb7/B2s/dzTUISRPXW5p6x615GnLQ+13rDsjbtF67HUXuzgV6lASC6ZZysx1Pn4RasfqTARCJiDBI2Sg6k4ERCBGCbi8oX53CblDW9zuVvKIhtFcwVafNzTF5Q4lb6h7ryYCIiACIiACYRNAEMDpUFVVZeTzJ8UVO74p4k3gnxoWPTk9okXwoPAyBcgRPJ577jkv6FDHhN3sU6dOtWnTpvkHLg5SWQUPgr+pqam91jAZ9DoM8H7hzNkq27p9p506XWFNbuylk0ps/dqbrWxqac+X1P1Cz1z06YAI4HCqqanxBcqpkcHvnr8NCpWriYAIiEAkE5DgMbTVIWbRefXCtdjF0Lro8awPa55k9vi9PhSBSCEgwSNSVkLjEAEREAEREAEREAEREIERJoALgsAnTg+cEPv37/epnhYsWGCf+9znfC0LgqGkt6KNteARCDWkrEpOTvbj6kmgIF0V9TtIaUWBdoQdjisoKPCCB6IHDpa8vLwRJjyw7km1deDAAT9Oxl5YWOjrqVBTRC1+CHR0dPii4fwG+NtEuOM1f3/8VvlbVBHv+Pk9aKYiIAJ/TkCCx58z0SciIAL9E5Dg0T8jHSECIiACIiACIiACIiACMUEA4YCAKoIAAXdqXZDqhrRODzzwgC1btuyGnd9jLXgEqbgIBuPKIAjcUwoqAsc4OhA9KFjOjnaKsCN6kNIqeARCzlgvJoHturo6P07Gzk57Um6lp6eP9dB0/VEkgKAX/GZJO3X+/Hn/+6Ww+JIlS3zKNX4biH1qIiACIhCPBCR4xOOqa84iMHwCEjyGz1A9iIAIiIAIiIAIiIAIiEBUEQicHkePHvWOCHaR33bbbT69FYW7EQpooyV4pKdmeCGGtFsIARRa5zVOCAquIwpQYJnUVNOnT/eiR1QB12BFwBFAlEPsCh6IHYh61NY4e/asTzGHIFlcXGyrV6/2v3cJHvrpiIAIxDMBCR7xvPqauwgMnYAEj6Gz05kiIAIiIAIiIAIiIAIiEJUEAqcHwgKOiISEBF/AGBcFu8lxR9BGS/BItCSfaqu8vNyn2UKI4fW5c+d8EJjUVCtXrvTF1VetWuV3vkcleA06rgkgcODiQMgL3BwIfNSf4W+RFFakX0PUmz17tv+bVEqruP7JaPIiEPcEJHjE/U9AAERgSAQkeAwJm04SAREQAREQAREQAREQgdgnELrg0WnW2dlpEwsm2/LZt9iUwumWmZJlzY0tPgh88uRJL3jg6mDXO6mpEGBwdqxdu9bveiftVklJSezD1wyjlgC/cURFUlYFtTmCNGaIHdTRQeRA7Lh8+bJ3NyEy4uygnk5ZWZkVFRUZbis1ERABEYhnAhI84nn1NXcRGDoBCR5DZ6czRUAEREAEREAEREAERCCmCYQteHR2dFpHe4dlJObYhLRSS2pJtcvVtVZz6bJ3mhD8JQjMrvYJEyYYRbxJZcVu98WLF9uMGTN8gW8FgmP6Zxf1kwtSVyFsUJsDpxJCByIHQghpqnAt0XBYIZBQmwYhj984v32lsor6n4EmIAIiEAIBCR4hQFQXIhCHBCR4xOGid59ym/tHZ1Nru11tbrP6RrcLqaXd+KzD/YO0p5acnGgZqUmWmZZs2ekplp6SZClJiS71QUJPh+szERABERABERCBGCDQ0tbh7hVcgd0mVxi6qdWa3ft2V1ehs+PGybnMSD49UrK7N0h39wtZ7n4hNzPVMtz9AmmT+F4tegiELXi0t7mi6e5+s63erKM2xRovt1htTa01NTZ7KBQVp8A4u9sJ/Ja5ne6k+AkeBIk5BkFETQQihUCQIi6ozRHUoqE+B4IGQh6vqUVDYXoEu5ycHJ86jmP5DLEDh4ecHZGyqhpHpBEgPtH6Qeyi3t2HNLj4hY9duPuRnlqCy8yY5JxTaS5+keXiFlnpye6eJMVS3Xu16CEgwSN61kojFYFIIiDBI5JWY4zGws1C5eUGO3Wh3g5X1FplTYNdaWixFieC9NRyXNBi0vgsm1aYbTMm5trEcZmWl5FiaS6QoSYCIiACIiACIhCbBGquNtvxc1f84+S5OrtQ12RNLW2uCO+NgQY2QCB2cL9QNC7Dphfn2sIpbueyu19ISUrQBoko+3mELXggdly55Ao1n7tql8rrrb2x07Iys5xro8iLG6SuQtyYNGmSd3KMGzfOCyCIIDwopk7qH8QzNRGIFAKkrULYIA1bUKOD1wghCBs88vLy/IPfNIXJz5w549NdUbdj/Pjx3smEy0POjkhZVY0j0gg0u/hErfv/kCoXuzheVefjF2err/rYRU9jZaNmemqyFeamW5m7F5lRnOMf+VlpPR2uzyKUgASPCF0YDUsEIpyABI8IX6CRHF6wQwKx4/1Tl+zAmct2+KwTPNw/Qq+4G4n+BI+yohybXZJns0pybaa7gRifnaadmyO5YOpbBERABERABMaAQODsKL9w1XafrPb3CyfPfyB4uN2VuEK7tkQXiL4meKQ4wSPTZk/KsxUzC909Q64V52V4x0fX4/U6sgmELni4jTb1bnNN0+V2a69NtMzkHJtYPNGmTplqs2bN8sWaETwKCwv9LngEjlhspDyiPgk1Htj1T50SBB3cK2qRS4DUUzyClFWsIQ/SsAVOjqAIOQXKES9Iy4ZrgzRV2dnZXrDjmPLyct8P3/F7l7MjctddIxtbAu5Pzv/dVdc32zG34eJoZZ0dqay1k+evWJ+CB05T5zL1gkdRrs2fPM6WlI23qYVZcnqM7ZIO6uoSPAaFSweLgAh8QECCRxz/FIIdEvtP19iLu8/YAfeM26PflFbuxiHjg/QUE9xuiQVT8+2ji0pt1sQ87dyM49+Tpi4CIiACIhCbBAJnx77yGtt25LydcgEG0mByH9Hu0ksQ/Ova2HfP7nu/s9K5P3F5zHKix+Jp4+3m2YVWWqAivF15RfrrsAUP6ne0ud/O+Kwimz91qZVNnGXF44stP6/AB4NJ9UPgP9jljpsjFlt9fb2v60CaI3b7EwifMmWKdwDE4nxjZU6IU4gdrB9ODmpzUKMjKDyOYJWbm+sfOGyHk20AAEAASURBVDkCVwcuDtKwIXScOnXK1/JAzMPRgZtJzo5Y+YVoHiNB4NpGzU47WlVrL71fYdyPXHQu0zqXlaKxh40XwRi4F0lyrlMyUZBec5rbsLlqdpGPX+D2kNMjIBXZzxI8Int9NDoRiFQCEjwidWVGcFzBDomLbofEUbczYsfxi/b6vkofwBjMZX1ubnfjMK90nH182RQXyCjwuye4mVATAREQAREQARGIbgId7oYBQeP0xXp75/B523ncuTvc5oiLdY2Dmhh5sxE9FkwtsDsWTbK5TvzIIRVmslJhDgrkGB0ctuARTKNs0kzbsOIuWzBjiRXlF1tWRnbwVVw8V1VV2e7du62iosILHrgAVq1aZaWlpXEx/2iZJAIHLhxEKepzkLoK5wbCBQXJeeDs4BhEOsSOwLGBa4P3CBt8z7EULkcgod/gODk7ouXXoHGOFQE2WZBGc4/LSvHCztN2sOKyNfUhdPQ2zgm5GTbfpdhcNmO83TKnyKZMyPaCCM5UtcglIMEjctdGIxOBSCYgwSOSV2eExhbskDjsxI4/uhuG3ScuWpVLLUDB8sG0YMdESUGmLZk+wZbOmGArpo+3kvzMwXSjY0VABERABERABCKQAIVBKQi6z4kcv992yvacvORSXrqgXy81vnqbAhsk2F05tSjbVrudlYtdOglEjwk56b2dos8jiIAEj5FZjIMHD9qmTZvswIEDPvg9b948u//++23+/Pkjc0H1OiQCiBxB4XHEisDVQRorBA7cSNTnKCgo8AIGAgefBw9cHbjgOJc1RyxBCOF4XB04eziWlGZqIiACPROgxuh7J6ptl9uoSeyi8lJDjw7Tns/+8FPuRXIyUt19SIFtXDXNFjjxI9Nt1kxx9ylqkUtAgkfkro1GJgKRTECCRySvzgiNjZRVl1zh0V3upmHz1pN+tyb5t9nJOZQWFDFf7gSPTzinx2xXyBwxRBslhkJT54iACIiACIhAZBAgzWXl5UbbceyCPesED+p8DacV5KT51FbLZxTahgUlRi0wtcgnIMFjZNZo165d9vjjjxvPtKVLl9rDDz/sn0fmiuq1LwJda3MEbg5EjStXrnhnBqIHD97zINUaKasoNt6TUyPoD0cIzg5SX1GkHAGEWjU4ekjfppotfa2Kvot3AkFmiiOuQDkbNclM0VfNjoHymuM2XXzKCR7LXX2xEudAzXZOVLXIJSDBI3LXRiMTgUgmIMEjkldnhMZ28UqTHXA20J3uhuGtA1VWfr7e7zwamtxhvjApNT2WOnfHZ26d6XN0pyQluH8IyBo6QkuobkVABERABERgxAlUObFj96lqJ3hc9LU7CDIMp6UmJ1q2S2WF4PFX62baQpfiSi3yCUjwGJk1kuAxMlyH2mtQmwMHBimqgtRT1dXVvl4Hm7mox4HIgTuD17gzgnozgaMjcGoE/eEICZwdiCMULkcgwRWC+BGrNWqGug46TwS6EggyU+xx9yK/fvOY37DZV82Oruf29XrS+Cxfy2P5zAm2xNUXm+hED7XIJSDBI3LXRiMTgUgmIMEjkldnhMZ2urre3jx0zgcwDriCXxdqB5eLu7dhLXQ1PD57+2wXyJjgi4IR2FATAREQAREQARGITgInL9Tbq/srvcPjSEWtXXIbJsJoS1xKq8/fMcftrJzg63hQUFQtcglI8BiZtZHgMTJcB9orDoz29nZfWwMXRlCbA/cGBch54Mzgc47FjYFQgTOjpKSk1yLjcnYMdAV0nAj0T6ClrcOo34Gz41evHbG9roZHGK3ApdScXZrnHR7rb3KO08L4qiEVBsPR7EOCx2jS1rVEIHYISPCInbUc8EyOOkvo87vPeMHj9IUrVne1ZcDn9nXg3Mnj7L6bp3vBozA33YsefR2v70RABERABERABCKXAPcLfyCFhHN4VLjC5XUN4dwvzHP3C/ff4u4XXCqJ8S7NVWaqctdH7q/ATILHyKyOBI+R4TrQXtva2nwRckQNiohTRB43Bg4P3BwZGRle1MDRwQNHBqIHn/MgFRUODY7t2uTs6EpDr0VgeASCYuUIHpu2nrBDZy4Pr8MPzs7NTLVSV7CcjRefdCm5Z7mU3GqRS0CCR+SujUYmApFMQIJHJK/OCI3tkMvB/cz2Uz6Acc4VALvqcnSH0Wa7XJh3r3S5MJ3DY5IrXJ7j0laoiYAIiIAIiIAIRCcB3S9E57qFPepTVSfs9Z0v2cGTe+3i5fPW0DS81GbB+KaVzLDbln7E5pUttMJxRZaZnhV8FRfPEjxGd5kDgYMi5DwaGhp8qqqgIDmODl7j0CBVFemncHIEBcYRO0hX1VsKKjk7Rnc9dbX4IHClsdXOungFgsdzLn5xZJi1xAJqWa5mR7GLVyB43OPiF3NdHEMtcgl0Nl+xjtqz1n5ml7Xse8E6zh8LdbBJU5Za2povWrJ7VhMBEYgdAhI8YmctBzwTBTAGjEoHioAIiIAIiEDcEtD9Qtwu/Q0Tr7hw2rbtf8uOnTlsNXXV1tjccMP3Q31TWjTFVt201mZOnmP5OeMtIy1zqF1F5XkSPEZ32XBu4OCgNgfP1OZA5MCRgXuDB3U5eOTn5/v36enpRm2O1NRUL3bg5uju6AhmIWdHQELPIhAeAQke4bGM5p46W65a55Vz1la5z9qObLH26pOhTiepZIGlLX/IeFYTARGIHQISPGJnLQc8kyOVtfbsDpeiwu2UqHQFSK+ElKJiTuk4+9Sqaw6PElf4K9vtnFATAREQAREQARGITgKH3f3C798r947QqktXrd7ttAyjzXX3C/esLvM7K4vzMpQCMwyoI9jHpdqLduT0QXfPWGH1DVespa05lKuNzy202VPn2cTxk1wx+xxLTUkLpd9o6USCx8isFE6LoDZH4Obgua6uzgsdFCSnTgcODz5H1CguLvb1OQI3B6IHQsdAmpwdA6GkY0RgaATqXSaKysuNPm7x7LZTdrginJRW2S4TxcSCLH8fsnHFVJtTIofH0FZodM7qbGuyzkYnUNeUW3vFHutw4keYLbFgmqXMXGeJ+dPC7FZ9iYAIjDEBCR5jvABjcfnj567Yi+9X+ADGyXN1drk+nH+4Xq/h4ayhha4QWFaacnKPxfrqmiIgAiIgAiIQBoHrNTzcBokKV8A8rBoeN03JtwduneFSYBbauKxUS09JCmO46mOECLS0Nnuho7Gl0dra29yO+PZQrpTmBI7szFxLT0235KSUXlMFhXKxCOxEgsfILEqQuor0VLg5AkcHggcCB7U3CgoKvIsDJ0dubu712hyBm4Njektd1X3UcnZ0J6L3IhAeAV/D40qTj1uEXsPDFSonFbdqeIS3XiPWU2e7dba7TTctDU74cKkHnQASZktIzbSErELjWU0ERCB2CEjwiJ21HPBMzrhdmluPXHA3Dhfs/ZPVdt7tmhhOw9qdlJhgC6bm21+umWHL3I1Dnts1kaYAxnCw6lwREAEREAERGFMCJ53I8er+Sh9oOOJ2VV5yQYfhNO4VUpKTbHFZgT2wdoYtKRtvmW5zREpS4nC61bkRRoDd82fPnrXW1tbrxZ4zMzN9oDnChjqmw5HgEQ5+BAd+ay0tLV7QIHUVYgcPUlYhdPDgGFJTUYCc2hyBq4N6HX3V5uhtlHJ29EZGn4tAeASaW9ut1rlLd7qNF799+7jtK6+x9o5OX2tnOFcpcJszZzu3KTU81t9UYmVO/FATAREQARGILQISPGJrPQc0m0vO0XHUOTt2HLtoW5zT46RzfAynJbtARboLWCx1gYuHbptpi6cV+OBFogtsqImACIiACIiACEQngSq3IWL3qUsulcQF23b4vJ11aTCH09JTk12thjS/MeIvXEqr+ZPH+Q0TiW7jhFrsEDh06JA988wzPuC8dOlSmzt3rk2ZMsXXRoidWQ5/JhI8hs+QHnBtIG6Qqgo3x7lz56yqqsp/TqFxanPg4kDowNnBa9JYBfU5EDv6qs3R2yjl7OiNjD4XgfAIdDhxo7W9w/a4e5En3jhmu9xmzabmNuc27BjWRSaNz7JVc4q803SJi11MdOm41URABERABGKLgASP2FrPAc2moaXNqq80uxuHavujq+Vx8MxlV4By6DcOOc7NUfJBDsxPuRyYs5UDc0DroINEQAREQAREIJIJ1LoaX6edyLHrRLW9vOeMHa2s80EGAhCDacgZBBQLctNt1qQ8L3hoR+VgCEbGsexoJ8iLg4OAMjUQCBYTUC4qKvJpgRjptm3b7N/+7d/s9OnThuCxatUqW7NmjRc9ImMmkTGKffv22ZNPPml79+71XBcsWGAPPfSQLVy4MDIGGGGjCBwVQcqqpqYm41FfX++dHIGrg98nj6SkJJswwaXZLSz0v09eI3hkZAwvsBmMo7Gx0WpqarzAcubMGX+9WbNm2cSJE/3fAmmx1ERABMIh4GuQflBTrNJlq6CY+VAaGzLZrDmrJNc+sniyLZ0+3qY48SMvM3Uo3ekcERABERCBCCYgwSOCF2ekhoYNtLmt3Y64wMVLeypst9spwa7NoRYvL72+Q2KCLZk23oq1Q2Kklk79ioAIiIAIiMCoEWBXZYPbELHvdI1tfveUve82ShBkaHEpJgbTcHAQYJg+McduXzDJBxhmFOdYftbAigIP5lo6duQIBIWgcXD88Y9/tPLyciMdEA6OO+64w6ZPn+4vvnXrVvuXf/kX2717t99Vf/PNN9vnP/95W7JkycgNLgp7PnHihL3yyit29OhRn44JfnfddZcRNFf7cwKBowKB4/z5815oqKys9KIDwgc1Nyg2Hjg5eI2bg3Rq1OYI6nMghAynBeNgDAcPHjRSaI0fP96LKwh/CIBcY6A1QIYzFp0rAvFC4Jx3nFb74uU4TiuG6DhNdSm32ay5yMUs7l09zRa4mmJKrRkvvyLNUwREIN4ISPCItxXvMt+qyw220+3aJBfm4bOXnejR4AIZLv9tP4GMYKdmhktjlZ+dZnPcbs0184ptnktNUTIu07LTtaOpC2a9FAEREAEREIGoJnDy/BXbsq/Sp5SouFhvpMYciDM02ElJcKEwL8OlsMq32+ZPtNnuvkG1vqLnJ4HQQX0EdrNXVFTYe++9Z88995xVV1f74Pzq1atvCNTv3LnT/uu//sveeustn2Zo0aJF9o1vfMPWrl3r0wjhClEzn37pwIED3i0DX5wIiEI4BNTMu16C3x5uCh64inBvkL4qeJDSCoEBoQGG1OagRgcFyRE5wvq94exgPIwDNwmps+Ts0C9VBEaHQH1Tq1W62AWZKd4+eM7FLmqt5oN7Ee+66mcYbLogdlHgYhelE7J9Cu4NC1ztjqKcfs7U1yIgAiIgAtFKQIJHtK5cCONucsLG5avNVn7xqhc99rsdnAfc42Jd30XMg52apROybOWsQls4tcClscq1IhfMSHe7JrihUBMBERABERABEYgNArg6ztY0eGforpMX7YgLNAzEGRrspJxenGurZxf5mh1TXKAhPytVtb6i6KcRpO4hBdOLL75oCBq4Owgsb9y40QsZuDxIGUQ7duyY/elPf7LXXnvN3n33XX/cI488Yrfffrt/jStE7VrtCYpp407ANUBwHncCtSXUzBcZxz2BsIGTA4EBkQ1eiBhwQuRA2EDowM0RODlIW0VKKYQQ0umF0YJUWjg7jhw54oUPOTvCIKs+RKB/AtTsIHZxvrbR34vsLb9k249esAoXx+C7DidI9tVyXMoq6naw4WJp2QQfu5iUn+ndHn2dp+9EQAREQASil4AEj+hdu9BGXuNEj+OucPkBt2Ni94mLVn6h3q42k7Li2s1DcP+Q9EHOS2yfeS5YMXNint3sin3h8BjvipBmumKkaiIgAiIgAiIgArFF4FrR0E6/u3Kv2xhx8EyNHXWiB4GHppb268GG6/cLSQmWlpzk7xUmuoDC3NJxXvAoK8xW6ogo+mkEu+up14ETYfv27V7EIPBMYH7x4sVe8MCVQNA5qI1AQBhxZMuWLfab3/zGz/iBBx6wDRs2GHUqSPujJgLdCQSCAo4NHogdOCkuX77shQ5eI76RKgpxg3oc/JaCGh0UKB+JhhjF3wLjQXAJCqMjqMycOdOLeFxbNTtGgr76FIEbCQS1SHF4bHWprY5V1Vrt1RaffhPhg9TdNHTOYJNmemqS35hJDbF5zmm60KWxIitFirtXwYmqJgIiIAIiEJsEJHjE5roOalYtbR1e4Dhf22QnztXZcZe64rh7prB5q/suKE6a5twbuZmuQLkLXsycmGvTCnOs1BUrz89O9YENBBE1ERABERABERCB2CKAkEHKiEa3u7LOFTKvuNRghytr7dQFV7y6ptHqXDrMrvcLpI1gIwRujjmTxtk091yU53Zju9RW3CsQhFCLfAKBs2PXrl22efNmX1yblEKlpaVevFi+fLkP+BJwTk1N9bvpmRXHEBhG8PjJT37iUzbddttt/pyPfvSjNmPGjMifvEY46gQQFBDLEBR4xtmBAwbBATGNmhw4KhDbeI3IEDg6wkxd1X3ira2tXuxA6MO9xHvcTfzuGQ/jUM2O7tT0XgRGhkBQi7SmnnuRq/4+5FhVnVU6F2pdQ+v11NwIGSnJThzNSLWJ+Rk+bjGnJM/FLjJdPCPVMlxcA/eXbkdGZp3UqwiIgAhEAgEJHpGwChEyhmDHBDcPOD6qrzQZBUtvFDzcTYMrSj7Dpacoyk3XTs0IWTsNQwREQAREQARGi0CtEz1Ou4KhCB/UA0ME6Xq/EAgebIrgfmFCdrp2Uo7W4oRwHepJUBgaZwcBXpwdpLJipz0FtVeuXGl33nmnzZs3zwd7ETu6NnbDExSmhsePf/xj7/agLsUtt9xiDz30kHeGkJJIRZ27Uouf10EtDH4jiGqBowNxA7GDWjHU6SB1Fa4PUlchLAS1OXB2jIajInB2MBYEmIsXL3ohD/Fl9uzZ3l0ykkJL/PwiNFMRGDwB7jkamtvsfF2T36hZ5Yqacy8S1CL1godLs424MdG5ORA6priUVnnuvZoIiIAIiEB8EJDgER/rPKBZBjsmGl16iquuMBjOD/JhXk9R4XZKUJ+DOh3Z6cmG40M7NQeEVgeJgAiIgAiIQMwQCAIN3C+QUzvIn931fiEtxRUIdakus9JSnAs0UTspo2j12VmP0IGz44033rCjR496AaSsrMynsELwwOXBTvuehAsC2gSL9+zZY7/61a/s7bff9uIJAsnXvvY1X/ODgHV3oSSKEGmowyAQpK5C2AhqcyB0ICwgliEiIGoED+p0ZGZmepcHYkPgJhppwSxwdiD88TfA2CZPnuyFFxwmjCXMGiHDQKpTRSDuCBCj8LELdw9S39R2/V6kx5RWLmaR4dJakZY7RbVG4+63ogmLgAjELwEJHvG79pq5CIiACIiACIiACIiACHgCgVBx/Phxe+WVV3zB8f379xuOj6lTp3pnx9133+2dHUFB6L7QnThxwvdDaisKmLNLn+LlG1wtDwQT6jCoxT4BhAJ+Q4GTg5RnuDmoyYG4hnOI14hkuDmoB1NSUuKFBWp0UOS+J2FtpMj15uxApEO0Y0yjOZ6Rmqf6FQEREAEREAEREIFYJiDBI5ZXV3MTAREQAREQAREQAREQgQEQCFJRvfvuu/bYY48ZYge77OfMmeNdGQsXLrQpU6Z4Zwe768l/3lejjseRI0d8LY9f/vKXPuC9ceNGL3isWLHCJk2a1Nfp+i5GCJC2CmGDlFBBjQ5e83vDvcEDxwQPXEMIHAgfPIKUUddy7ff9ewsLV1/ODsQYnB2jOZ6w5qV+REAEREAEREAERCCeCEjwiKfV1lxFQAREQAREQAREQAREoAcCgeBBzY7//M//tIqKCkPkWLZsma1evdq7PAbi7Ai6DoqeU8uD/ij6TDqstWvX2vr1640UWfHcSO1EnQoC7LgKcA2QugnG0dhwCPEIUlYxNx64OQInB69JXUWBcsQMarsEBcAR1xA9+HwsmpwdY0Fd1xQBERABERABERCBkSEgwWNkuKpXERABERABERABERABEYgaAkFKqzNnzti2bdt8QemZM2f69FMEownGD8TZEUw4SGVELY8nn3zSTp8+7WsgLF68WIKHg0RheEQg0jmR8glnAw4agv7R2BAMEDuYF04O5kaNDlJWMT+EHNKY8cDJEbg6SBWFyEFtDo4Z6docvbGVs6M3MvpcBERABERABERABKKPgASP6FszjVgEREAEREAEREAEREAERoRAEIinc3bfE4gfTisvL7c333zTFy6nL+qBLFmyxO/uH06/0X4uxbB3797tnTQIArgdVq1a5QWmaJgbAgciQVCfA0cPzg1cHBQk54Gzg2MQNBA6qH9RWFjoH4GbA2fLWDY5O8aSvq4tAiIgAiIgAiIgAiNDQILHyHBVryIgAiIgAiIgAiIgAiIQdQSCVEsMnDoKww1IU6Samg2kNwrSNrHDn77juR08eNA2bdpkBw4c8CmtKIh9//332/z586MCC0XIg8LjFy5cuO7qYJ0ROHAEUZ8DdxBCB4IHnwePID1af7VgRhqGnB0jTVj9i4AIiIAIiIAIiMDoE5DgMfrMdUUREAEREAEREAEREAEREIE4JrBr1y57/PHHjWfa0qVL7eGHH/bPkYSla22OwM2BqEEtDlwciB48eM+DlFQIWuPHj7/u6EDwIHVVJDU5OyJpNTQWERABERABERABEQiXgASPcHmqNxEQAREQAREQAREQAREQARHok0C0CB5BbQ7SVZGiCjcHtTmqq6t9vQ4cGqSnQuQICo+TugyHR+Dm4Hm4TqE+YQ7hSzk7hgBNp4iACIiACIiACIhAlBCQ4BElC6VhioAIiIAIiIAIiIAIiMBQCQSppdiNz2sC0tTTiNYi2UPlECnnRarggaODgvMIAtTlCGpz4N6gADkPnB18zrE4N3BwUIOkpKTE8vPzvdARaQJHsO5ydgQk9CwCIiACIiACIiACsUtAgkfsrq1mJgIiIAIiIAIiIAIiIAKeQFA8/P333zdeI3Z89rOftUWLFonQGBCIVMGDGi7U50DUwMlBcfXz58/7guS4OTIyMryogaODB3U6ED34nEek1ObobUnl7OiNjD4XAREQAREQAREQgdghIMEjdtZSMxEBERABERABERABERABT4Dd9+xmr6+v9wFrhI6XXnrJDh065B0eixcvtkcffdRWrFghYmNAIFIEj0DgQOTggfuH30xQkBxHB6/5PZGqitocODkKCwt9CivEDtwc1O6I5CZnRySvjsYmAiIgAiIgAiIgAuESkOARLk/1JgIiIAIiIAIiIAIiIAJjTiBIS3T06FF7+eWXbevWrbZ3715LSkqy5cuX29q1a+2OO+6w6dOnj/lY43EAkSJ4UJsDBwe1OXimNgciBwIB7g0epD3jQboq3qenp/u0VampqV7swPnBI5KbnB2RvDoamwiIgAiIgAiIgAiES0CCR7g81ZsIiIAIiIAIiIAIiIAIjBmBwNlB0Pr06dO2Y8cOe+GFFwzhgyA2Asedd95pK1eutJkzZ/pd+qM5WMaAq6Curs6nS+La1H/Izc2NCqdAWKxGW/DgdxGIYIGbg2fWAaGDguTU6cDhweeIGsXFxb4+R+DmQPSgAHk0tcDBgmuFNF1B4XWcKfPmzfPziwaHSjQx11hFQAREQAREQAREYKwJSPAY6xXQ9UVABERABERABERABEQgJAJBUPvgwYP23HPP2bvvvmvHjx/36YhwdZDCasGCBTZ58mT/Gbv0R7O1tLT4ehD79++3P/7xj/7Sn/jEJ+ymm27ytSBGezyjOfeu1xptwSMI/JOeCjdH4OhA8EDgoPZGQUGBd3Hg5ECACmpzIHKwLhwT6amrujLmdXcHC+MPUnIxT+qORINDpfu89F4EREAEREAEREAERKB3AhI8emejb0RABERABERABERABEQgKgggdCAmsIu9oqLC3nvvPS94nDp1ygsbCAoIC0uXLvU796nHMBatqanJ14R466237Gc/+5nx/oEHHvAptqZNm+YLYY/FuEb7miMteOCkIY0TvwkEDQL/iB08cP8gdPDgGMQMCpAjBASuDn4f0ex8CAQe/h7Onj3r/y5ggUtl1qxZNmHChKie32j/XnU9ERABERABERABEYgmAhI8omm1NFYREAEREAEREAEREAER6IFAY2OjD+ru27fPXnzxRdu5c6eVl5f7ItOksFq9erXNnTvXp48iXRHB7LFogeDx2muv2U9+8hOf1uq2226z22+/3davX29lZWVjMaxRv+ZICx6IHIgbQQqnc+fOedZ8jnODWhy4OBA6cHbwmt9FUJ+D30c0Ox+6OzuYz9SpU32xdcQcXCvRPL9R/8HqgiIgAiIgAiIgAiIQRQQkeISwWO0dndbc1m5NLe3W0NJmLa0d1u52VbmPb2jU8kt0/5OclGjpKUmWkZpkmWnJluLeq31IoMOBa23vsKbWdqtvarVm8fwQjl6JgAiIgAhELYHB3i9wf8B9AvcL3Ddw/6D2IQHx/JAFr6jDgNhBcXKKlFdWVvpg9uLFi23jxo22ZMkSn66IFD5j2YKUVjg8/v3f/91IvUUNj1tuucUeeughY7zR7CxobXMpuxrr3eOqXW2qN9731A4fOmzPbHrWeKa+xty5c+ye+zbanHlzejrcUpJTLSs927Iystwj27/nQM7lETgaEJR4ULMCJ0fg6qA+Bw+K1uNuoC5HUVGRf43gMda/ix4nPYQPAw6Bs4P543YhfRXODuaqJgLxSsD9p8L/96LF/Vu7obnNGl38oqm1zdrauwUuPgCUlJhgaSnELpItMzXZUt1rPiOmoQbLwfMMYkHZ6cmObZJ46oc0YgQ6m65YR22ldbp7kTBbgrsXScwrsYT0nDC7VV8iEDoBCR4hIEXkqL7SbJWXG+z0xavudZO/gWhzNxJdW6K7OSB4kZuZahPHZVppQaZNGZ9lee692ocEmp3QUdvYalWO5/EqV0ixTjw/pKNXIiACIiAC0UpgsPcL+VlpNmVClk1y9wsl7r4hOz0lWqc+IuMWzxuxUhPjqaeesm3btnnxg4D2hg0bbPny5b44Oe9JXUTAeyxbULR8z5499sQTT9g777zjnQcUkP7a177mU1vhQGCs0dguX7lkJ84es5M8Ko8Z73tq1ecv2eF9x+xi1SUfkJ9QVGBzF8+2CcU9B+TH5RRYWclMK5s006a7B+9pAU8EDkQvnByIXQT8ET6oWUEap8DJwWvcHJmZmd7lENTnGOvfRU+MhvJZd2cHdUdIlYa4g7MjWn9XQ2Ghc0SgO4FrGws7reZqs5W7uMXZS1f9v7nZZNhTy3CbLsbnpPl7kCnjs/1rbdj8kNRgeSJwXIsFZdiM4lwryk3XBtgPcepVyATazx221j3PGs9htqTiOZay+FPGs5oIRDIBCR7DWJ1gZ+H52kY7fLbWjp+74gSPei9+8I/wtrYeBI9kJ3hkOMEjP8OmF+XY/Mn5XvjIyUixtOSx/QfoMFCEcmrA86ITOE6cv2InHM/j55zgUesED/EMhbE6EQEREAERGH0Cwf+/DfZ+IT8r1W2MyLay4hybPTHX3Ttkmu4XzLlorzlrxfPG33IgeOCYwCHBbnZSWSEkRKKAcPLkSXv11Vdty5Yt/sEO/C996UtepJkyZYoP0t84w+h4d76myvYd2237jl97XKg51+PAmxtarM4FHJuutliH2ySV5jZAjXN/6+nu776nVphfbAtmLLn2mLnEivIn+sMCx0x1dbWv3YLgwWvEDkQMUlchdlGbgxodcEbk4DcSS03OjlhaTc1lpAggbFRdbvRixzG3sZDYBZsM691mw57adcHD3X9Mm5Bt01z8oqwwx7g/uZYSrqez4uezwfK8JnikWInjOdPd1yF6iGf8/F5Ge6Ztp3ZY8+v/YW3lO0K9dPLU5Za27lFLnrY81H7VmQiETUCCxzCIBjsLD5ypsdf2VdrRylrv7GhxQgf/GEfx79puSGnl0lOUOnfH4rLxdtOUfJs7Kc8m5KR3PTzuXgc8D565bK/vr7Rjjme9s9ri+BDPuPs5aMIiIAIiEDMEgv9/G+z9QorbJEEKCe4XFpYV+E0Sul8wvwkCZ6143vgnEqS0Io0RO9lJW1RaWup39kdiiijGSUF1BI9f/OIXPt3Sxz/+cS94rFmzxhA9orENVPBA5Gh197ntbJBy/2RIdH/vKW43dZJ77qn1Jnjg7Ajqc+DsoEYH6alwciB04OZA4ODB5zgeEEIIVsZSk7MjllZTcxkpAuVO4Hjj4DnbV15jZ6vr7VJ9s0/L3T0zRXD9pCSX0sptysTVkeM2bRK3+NjSyTanJM9lrnCprVwGi3hug+bpeJHSCp55TjRaMKVAPOP5BzTCc5fgMcKA1X3EE5DgMYQl6nDJGgnA4zw4WHHZdp24aG+7G4cz7gZiMK3A2UNnOaED0eOW2UVW5nZMxGOO7iD3Jamr9jvxaOdx8RzM70jHioAIiIAIRCaBsO8Xlrj7hTVzi/39AgEI8mjHUxPPvlc7KFre3t7uBY+uwe2+zxybbwNnwhtvvOGLlx89etS7Um699Va7//777aabbvLpmKItMD9QwWOw1HsTPIJA/8WLF32BcvqlTgWCF2mccPfEcpOzI5ZXV3MLi4BPGe1cZfvdxsIX91Q4weOS1biNA00ui8JAWlCHdHZpnn1i+VRbNn28S9GdEbepNkPj6WJBH182xZY6npM+cPEOZD10jAgMhIAEj4FQ0jGxTECCxxBWl4LaFPk65NJYvbi7wt4/VW3nnTX0ai+5L3u7RKrbwZXtUlnNmTTO1i+aZAun5sdlju4g9+Whs5ftDztOewFJPHv71ehzERABERCBaCEQ9v3CPJcGk52VC6cWXMuj7dwf8dTEs+/VRuhARKCANY4OdvFTvyFSBYOg9sT27dvt5z//ufFM8HrZsmX2la98xVavXn3djdD3zCPr29EWPIKAP84O1p9GnYrA1RFrqau6r3Yg+Fy4cMHXMFHNju6E9F4EzG3UbLS9p2ts98lqe+/oBbdR86q1tl3LojAQPmyv4P9LJuSl21x3L7JsxgS7bV6xTXVpruKxhcWzwGX4mFGSa8sdzw0LSvyGlnjkqTmPDAEJHiPDVb1GDwEJHkNYqzqX47LCFfjadaLa/rTrjB11wgc2UHYeDqVNKsiylbML/f/Roe5T0DyeWpNLWXXZ5S/e6Xg+vfWEHXAWW/GMp1+A5ioCIiACsUkg7PsFcmezQYJ/GM926STGZ6fFJrheZiWevYCJ8o+pObJp0yZ7/fXXjTokpLJ65JFHbN26dT4lU7Q5FEZb8Ijy5R/y8AOhh+LsZ8+etdraWl/AnRol1K/B5aImAvFO4NrGwg475upibnEpuHe7f2+fcnUyL7ui5UNp6W6jRb7LUrF0+gS7d9U0u2nyOJfaKjFuUluFzTPVFTGnNtvCaQW2ceU0vwE2Ky3F2BirJgLDJSDBY7gEdX60E5DgMYQVPFN91d4+fN6nXtrv7KC4EdhNNzS5w3wOx8K8DFs+c4Ldt7rM5pWOG8KoovcUcocerbrieb66t8JOupsw8Yze9dTIRUAEREAErhEI+36BnZXzXP7s5TMK43JnpXjG5l9WVVWV7d692xcw37x5s78H3Lhxo61fv967PSi0HU1NgsforJacHaPDWVeJbgI+9ZLbrElGime3l9t+t7HwanOrc3e42kFDaKTSTHEpNRe4zBR/cct0I9VmngvYU4w7HlrYPKmBQk2P6cU5dvuCST611Qz3Oj8rvja0xMNvZyzmKMFjLKjrmpFEQILHEFaDVFbPbD9lO1ytiXM1DXbV3UQMpwU5MZc4d8fn1s/2/0cXTzslKi412DZnrYXnblcPBabDafHOczjsBnVue6t1tly1ztYG9+zWzL0PpSW4HS1JKZaQmmkJGeMsITk9lG7ViQiIgAiMNoGw7xey0lOsyOXMZoMEOyvnupSY8dTilWdDQ4NRn4Ed7LzOzMy0qVOn+qLUUbH+/dwv+KLbVefsra3b7H9//Tu7WHPZVq5YbmtuXmXr195sZVNLe55mcK+Q4u4XUl2dCvc+EpoEj5FdBTk7Rpaveo8tAldcnOKs+7c1/85+zsUvjrg4RhhtlnOZfnLFVH8/UuqyVeQ60SMe2kjxnOjqdyx1m1m4v1vpHtTzUAufADGLzqsXrsUuQuzexy2yCn38IsRuh92VBI9hI1QHUU5AgscQFvD9/5+9936O8zrvvr/b0HvvlQUkWMAqiU2iLNmyLNmyH/l1nHHRkzyavHbssSfOJD/kD8hkJplJMsm8KX4c2e/zRrEtO5IsW5Zs0SwiRYokWECwgSA6QPTet7znOuRtgdCCXCzuG7h393vG6y3YPfc5n7MULpzvua6vyup49USzChz6tdgR7gkJ49JGTUw5KfHi/mpdEzOWTkpIiu1vlBeKBGKSYjsaZooteRoEVuc+MD0C33Ab/HIbakdg2pwAGp54OBLS4Mwqh7toO5ypBaszIV6FBEiABEwmYHa8IKcA5RSl/EH8VXVAYps6WRlLLVZ5tre34+TJk2hoaIA8FrHjy1/+MrZu3RoRy/+weEE2sGdmZtDQ1I7/PnIOXf2jKC7Kx9b1ZTi0Yz3KC4J/zx2J6SpWKIMzsxwudZNDEnZoFDysXQVmdljLl71HF4GB8RntO1rfPIATqqRVe/+4KRMsUd4djyoPDymxuUVlnuapahWx0KziKV4e1crAXHgeppeHZV8l2beYbz6h9i7aTL2G7Ft4qg/qeMTUjlfYGQWPFQLkxyOeAAWPMJZQvDteOXIDEjisxGti8aU3qhqYn3ukUm9k5KpfesnxsWFG+vsTm4qnzphZpvn7Yo7G81jlaczf6nv/eC+8PQ3w9VyBv+ca/BMDplzSEZcIR0o2XIW18Gx4Cq7sKlP6ZSckQAIksNoErIoX5A/i//X0Jh0vrPac1vJ6scbTyOy4fPky3nnnHVy7dk1neGzbtg0vv/wydu3atZbLEfK1Q40XOvrH8EFjJ3pHJpGcGIfS3DRsq8xDfqbK3gjSnCk5cBZuUvHCFrgLt6oDEvlB3mXeS1Ju1TBaF3NwMQkXoca4GabhA8P9aO68iY6BFvSOdWJyfhxOlyN883hVM1eunRyXiryUEqwrrsGuLXtRUVqJtLQ0bU5u3izt2xMzO+y7NhyZfQncUaW3L7UNqX2Lfpxt6kO3Ks1tRtMZCerwhcQju6tzYyYjwSqeaUlxKM5N0Tw/vaMU6wrSzFgm9rGIgK+nEbP1P1b7F42LfrKyp7JvEb/zS3r/YmU9mftpCh7m8mRvkUeAgkcYa3ZBZSL8799e14LHSrwmFl96g/Lu+IwqUSGBQ6EqWZGiSlfEQrNK8IhVnqv1nfGPdsPbcRbezovwdTQiMNZnzqXjk+BMy4KrtA5xtc/DlbfRnH7ZCwmQAAmsMgGr4oVYFTxijaeR2XHq1CmcPn0aPp8PO3fuxL59+3D48GFUVlau8jc6vMuFGi9MzXoxODaFmXmfrmmepA7+pCcnIGGJ2vCOtDwVK9TCXVIHd+keONOLwhtgiJ8S/vPz85ASXENDQ+jv74f4jxg3eS6vDw0PYXhsCIG4eaQVJyIpKx7xqtyLK0wT2oBfCS0+PyaHZzHUMon89GIcPvQk9u7Zi02bNmlj9xCnENFvY2ZHRC8fB79GBHpUOavzqmS0HNS8oESPHlVK2owWq4KHVTxT1O+IAlUaTDJ4n1OlwjaokmFs5hPwdlzE7AevqL2Li6Z2LvsW8Y+9pGKROlP7XWlnFDxWSpCfj3QCFDzCWEGr/uCO1Q36aBE8Yq0mpH+kE/Ntp+Ftr4evvQGBUXMED0e8yvBIz4a7bCfitn8BrvxNYfwr5UdIgARIYO0JWBUvUPAY0Cfe1cF3U9pq83xYvKAO88Ov/q/hejP+6413cPb8eQz3tKE4LwvPPK02unfvRvW6amRlZd03f7vWkLYsXkhXgkfZVh0veMofhTOj5D4eK31iZHSMjY2hu7tbixnT09OQ5wsFD/FXGRkZ0a+LGDI1PYmZ2WnEp6sNrPWZSMtPMUXwGOoZR+ulHiQEkrF963Ylfu3Cnj17sH79euTk5Ghvl5XO2Y6fF5FJuA8PD2txSfhLpk1mZibWrVv3sX8HdpwDx0QCa0XAqg16Ch7mCkirLng8xFsr7O+rTb21jPnEmgAQa/M11pn3JGAQoOBhkFjGvVUlFWK1BJNVgsdq84y1mpCWbWBQ8FjGf434VhIgATsTsCpeWO0NerswjhaeD4sXfErsmPcFcPpaF/6fX5xFW2cPtuQq7xZlaPpI3UZUlhYhJSUFcXFx9y2NXWtIWxYvWCx4GBkdV69exZtvvgkpLSab7VJqbGFJK7fbjYyMDF1eStbFqSrSTnsn4Y+bgzsjAFeSw5SSVlMjsxhoHcfkwAx8MwHk5xbojJ9HHnkE+/fv194u930houSJMO/o6EBfX5/mn5CQgPLycuTl5QX9dxAl0+Y0SMAUAlaVYIpVwcMqnqtd0uph3lrhfvns6q1lzCfWBIBYm6+xzrwnAYMABQ+DxDLur7QP48cnlWm5Sgsdn57HnEq9X0lzOBxwOR0Q0/IvPFZF0/KVmpavEc9Yqwlp2QYGBY+V/OeEnyUBErARAbPjhVg3LY8Wng+LF3yqhJEIHpdVvPnTUy0YnZjGo5XKz6I8E9XFOchMSwr6LbdrDWnL4oUQBY+FvhuG34bcG0JFUlKSfux0Ou/jagge9fX1+NGPfoRz585psUP6E7EpPj4esvkuYkdBQYEuLaWzblx+DE2prI/ZfozOD2LWb04JGcy74JiKw9TgLHo7BuGb9etrS1krKXEmJvYyjtTUVMhc5O+LSG4iKhnlw6RsmDyWJoyZ2RHJK8uxryaBwfFZNPWMol6V5D52pRttfTQtXwl/q3iKafl6Vd5cSlo9vrkQFcrPw8oWqrfWcsew2t5ayx1frAkAsTbf5X4f+P7oJ0DBI4w1vnVnDG9f6NC1MLsGJjA2NRdGLx99RDYwElSd4rqKbHzpQLX6gzYLHvWaU4kgsdC6VC3Rs7f6dSB2SdUYFePylbS14hlrNSEt28Cg4LGSrz8/SwIkYCMCZscLycrbK095fMkfxJ9Vnl8bizJsNFvrhxItPB8WL0ipLqV5YFTFlx0Dk5j3+pCd7FF+Fh6kJMYjzu0KCtuuNaQtixdCFDxk41z8H6QMleG3IfeSjVFXV6czI5KTkz+WMWOUtLp58ybefvtt3Lp1SwsJIpDIpntubi7y8/O16CDChwggIoSMTY2guesmbvfcRMudmxieGAy6Xst9MS0pE6XZlUh0pGrRo6OlCxcvXtS+Ihs2bIBkejzzzDPYuHEjPB7lGeIK/j1Z7nXX6v2yXsJcyoXJfGS9srOzNe9gGU5rNU5elwTsTGBSeSP1j83ofYs3zrTgRteIKcNdpzwmPq28JiQeKVbeE2nKgyIWmlU8i7KTsWdDns7k3K72ggpUrGdlC9Vba7ljWG1vreWOL9YEgFib73K/D3x/9BOg4BHGGnerDflzKrtDanNfahnEHbVhvxLz8lQVIBTeM6n6jAoc1seYSdXQxCxu3RnXPI9d6UJr73hE8oy1XyiWbWBQ8Ajjv0r8CAmQgB0JmB0v5KQnoKY0U/9BfKAmH2U51p4AtBvTaOHJeMEkz697goerbIcyL98LX1I+FmZwGI/Hx8e1/8Nik/HCwkI8++yz2LZtm/aDSEwMvsEk4silS5e0SbkIGrLZvlDwkOcLW9/wHTQ2X0Lj7bu3/uHehT8O+3FuZj5qq7ajMKNM+3iI4HHkyBEtCoioU1VVpeeza9cuFBcX6znJeCNN+DAyO6SEVVtbmxZ0pHyVCExyL+IUGwmQQGgE5n1+TCnR40r7EF4/04qG1iFMzs4rId0fWgeL3iVVKTxKdJfKFC88Wont6sBmutrLiPdEtsC6aJpLPjWbpxxwlcOa6wrT8OS2EtRVZithOxnpSfeXrFxyQGH+wLK/40M8iBDmsFf8sViLv2Jtviv+grCDqCNAwSOMJZUyVvJH90WVjfDuhU40dY/Cq4IJMZgMpxX/XtHPwfbybORbrOiHM0YrPzOjSoKNTM7hghKPXlcnT66pEg6RyDPWfqFYFihR8LDynxv7JgESWEUCZscL5XmpeHxrkRI8cvThiOyU+FWczdpfKlp4Ml4wV/BwlGxHoHAXJlTmw8IMDuNxb2+v9n8YHR29TxCpra3F1772Nezbt09vpi+1kS7CiWQZzM7O6gwPKYW1sKSVPF/YrBY81pdsRnl+tfLx8KOpqUmX2hLhQzIiysrKsGPHDjz11FOQ+Ymx91JCzsIx2+mxkdkhJuVSmis9PR1FRUV6LpJFs5i3ncbOsZCA3QjI/oSUSbzdO4YjDd1q/2IQbepw4UiYJaQT4tzITI1XG/N3M003l2TEVGUKs3nGKaFIDr9uVXtAn91bjlp1qCVJVf6Qah9WNsv+jqfgYeWyLbvvWIs3lw2IH4h6AhQ8wlhiQ9m/qYQOCRwa1YmJAZUqOjEzf3ejXuoQPKBJoSqpq5sQ50JGcjzWF6Vj/6YCbCrNUKe2kpCiSlbEUvPfq1V9U9UX/bUqFdbQOhiRPGPtF4plgRIFj1j658+5kkBUEzA7XqhRGwuPbynCZvUHcbbacEhSGw+x1KKFJ+MFcwWPqcx16HWVonPUh9u3b2uDaxE7JKNDNs8No3H5tyLlqEQAkBJUIgh89rOf1WWtzBQGrBY8JMujtno7UhPSdeaKZJ+89dZb2lRdhBnJ7vjkJz+pS1xJeaucnJyI+M8EMzsiYpk4yAgl0Dc6jSsdwzrT40rbEDpVWe4J8SINMdPD8BCTTNPKfOUppTI7YjHT1Fh+s3hmqViuRGXrSqbME7XKu0MdbFmNZtnf8RQ8VmP5Qr5GrMWbIYPhG2OGAAWPMJbaUPbFtKpZ+Xlc7RzW/hPtygQsFBNzpxI7JGgozErCdpW2uKUsC5vUJkZhZhISlMovP4ulJokxUhJsQEpbKdGjUQVjYqwWaTxj7ReKZYESBY9Y+ufPuZJAVBMwO17Yquo6y+m/AhUvxKuSElJaIpZatPBkvGCu4NHuy8CxpknUN/VA/DYko0OyMuRwkQgcaWlpugSVGHpLBoQIAuK9ISWtJHNATMfNLP20WoJHdlouRCQQYae5uRlirn706FFIJouUt9qzZw8+9alPaYPvSPjvBDM7ImGVOMZIJTCrKiqIL1Rr/4QuI93YoTxy1OHNIbWfEUozPMTEWHvv+jzUqAOb4jMRawc1DVam8VQcd6/LU55sKpNNxXaS7bEazbK/4yl4rMbyhXyNWIs3QwbDN8YMAQoeK1hq/YtOnYxoVUKHbNBLxoeYmIsnxbSqlSllmRY2o+ZlivpFJiczqwvSsWtdDjaoX3CxmNmxkI08XornsOIpZa+86gTKQq8Uu/GMtV8olgVKFDwW/9PgcxIggQgnsNTvt6XiBeMkpcQLkglaXZDGeGHBdyDSeTJesEbwuHDrjvazkA1/ETBSU1N1doP4PojYIULHQsFjsffGgq/Yih6GKngEVIazT8W2fr/6e0Ed/nEoAdOlDj5JTfdgzfDwMDI88jIL9NtE9BBT9hs3bmhPj66uLu0zItkdhw8fRmVlZbDubPMaMztssxQcSAwQGBifwQ21Z3FNHdi8ovw8OtTexZgSQqbnfLr0lfytLU0EY/lbO87tRKIqsZSnxA3Zu5AMU/GZKM5MVmWXHEv+9yoGUOophszzHtM4jxPJ8R7kZa4tT8v+jqfgYauvfqzFm7aCz8HYggAFjxUsw91STH6Mq1JW/aqkVbMy3r7YOqA9PboHJzGugoeFzah5KTW4t6qsDillVa5SGEX8iMXMjoVs5PFSPJt7xtA3MqV43isZdi8QsxvPWPuFYlmgRMFj8T8NPicBEohwAkv9fhMPsGDxgnGSskzFCzXqNKUIHowXPvoSRDpPxgvmCh5GSaueCaCzs1ObXIupuHg/iC+HZHlICSspZbWwpJVVXhChCh5etcE4o+roz6tDUn5fAG5V6jYpLQEetbkYrC0leIhg4vV6IebsYvQ9PT2tfS5E8IkEk29mdgRbbb5GAtYQmPX6dEWKO8qPtElVqrjRNYKryj9T/ElnFhzYlIMXCeq/RVnKK6wkJ1n7hkkZq4rcFH0QI1GJsyKKqP/FdAuVp1HhQ0pYVeSnYqOK7daSp2V/x1PwsNW/h1iLN20Fn4OxBQEKHiYsw90/vAPoUZvyUhuzWZVlCraBIUGDmHyV5aZiizodUarEjnR1ejNeBQxsHxFYzLNFmaz1jUxrAUmbmd/zSLEbz1j7hWJZoETB46N/DHxEAiQQVQQW/35bKl5IVrGBnKaUeEGyQIuzkhkvBPkmRCpPxgvmCh6Gafm0O0N7dshXRQQPyeDweDxwuVY3zh4ZH0JLdzNa5dbTDHkerA0PjeB2UytGh8ZUOVv1N0J2BsqqSpCemRbs7chIzUJFYTUqiqpRqW7yPJIbMzsiefU49kgnIN6jsnfRogzMr6r9i+4hJXjMqQoV9zw93CqzQw4Xao+J7BTl26E26VU8kpOaEOlTt2T8D+MpmXsiImUpfiJ4yEGWteRp2d/xFDws+X6F26mv9ybmL/8Scm9mc+VvgGfbZyD3bCRgZwIUPExYHcODYlqVXZKUUPmFJ2mhRsBgXMKl0j49KnhIUmmM6UkebTbqUb/4lkpdNz4Xa/eLeU6q0yYzwlOVCNMlre55wtuNJzcwTNrAoOARa//kOV8SiBkCi3+/LRUvuFW8EC+nvVW8kJrgQaJ6zHjh41+TSOXJeMGkeOHexoqrbAdcpXvhTy7QnhbyTZGSVpLB4XQ69Snkj397rHtl3qtKTE1PqNskJmcmIM+DtevXruP1/34drS1tyMzMQs2mGjx++BAqKsqDvV39DRGH5IQUJCcmq5sSc9TzSG7M7Ijk1ePYI52A/F0tJaMnZ7wYmzZKWqm/te9V5HYoS1GX+u+nLmmlhI/kBLf2lxD/MLaPE3goT5UJIxkxwlOyeNeaJwWP+o8v4gpecZftRPzBl+Eu37mCXsz/aGBmHP7RHgRULGJmc6hYxJleCEdCqpndsi8SMJ0ABQ/TkbLDWCXADQyTNjAoeMTqPyHOmwRIgARiggDjBZPiBZufJH3Yl/nq1av42c9+hra2Nl16avPmzTh48CDKy4MLHg/rL9Sf+3w+LQzJISIRhSQDZjWFIWZ2hLpSfB8JkAAJWEOAgkdsCB7WfHvYKwlEDgEKHpGzVhypzQlwA8OkDQwKHjb/pnN4JEACJEACKyHAeMGkeCHCBQ/x22hsbNTeG1KCS/w2CgsLtdn6Sr5fD/useHwMDw9DhA8p+yXeJqtZ+ouZHQ9bIf6cBEiABKwlQMGDgoe13zD2TgL2IEDBwx7rwFFEAQFuYJi0gUHBIwr+NXAKJEACJEACSxFgvGBSvBDhgsdaCQ+G0DIyMqIFj+zsbC20ZGRk6FJgVnmeMLNjqf8i8HUSIAESWF0CFDwoeKzuN45XI4G1IUDBY22486pRSIAbGCZtYFDwiMJ/HZwSCZAACZCAQYDxgknxQoQLHmtVWsoopXX9+nVd0qqyshKHDh1CTU2N8hLJ1BkfxnfVzHtmdphJk32RAAmQQPgEKHhQ8Aj/28NPkkDkEKDgETlrxZHanAA3MEzawKDgYfNvOodHAiRAAiSwEgKMF4LHCz5/APO+AORemsvpgMfl0PfBeDsiXPAINqfVeM0QPM6dO4eBgQFIOa1HH30UdXV12LhxIwoKCpCQkKDFEDPGw8wOMyiyDxIgARIwjwAFDwoe5n2b2BMJ2JcABQ/7rg1HFmEEuIERfANjucvooOCxXGR8PwmQAAmQQAQRYLwQPF6YmfdjeGoe0+peWqLHicwkDxLUfbBGwSPNSbcTAABAAElEQVQYlYe/ZpS0EsHj/fffR3d3txY4JMPjmWee0cJHfn6+Lnf18N4e/g5mdjycEd9BAiRAAqtJgIIHBY/V/L7xWiSwVgQoeKwVeV436gjE3AbGeC98PQ3w9lyD/04TAhOD5qxpXAKcKRlwFWyCZ8Mn4MyuNKdf9kICJEACJEACNiDAeCF4vNA7NI4rzZ0YHJtEnMeNvMw0bCjLR056ctBVc6Rkw1mwHu7CTXAVboUzNT/o+/ji/QQM7xApaXX8+HFcvHgRt2/f1gLHvn37sGvXLtTW1qKkpES/FhcXd38HD3kWCAQgt9nZWW3I3t/fj66uLni9XuTk5CA3N1cbtCcnB1/Xh3TPH5MACZAACayQQKwKHj61bzF34WdqD+PaCgne/3GXikPidvwPFYtsuv8HfEYCJLCmBCh4rCl+XjyaCMTaBkZgdgL+8R74x3oRGO9HYHbSlOV0uD1AXBKcaflw5ayDIynLlH7ZCQmQAAmQAAnYgQDjheDxwpUbzXj1jXfR3NaJrPQUbNlYjU898Riqy0uDLpsjPhmO1FwdLzhTC+GITwn6Pr54PwHDO0RMy3t6erTg8e677+LWrVvw+/0QT4+nnnoKu3fvRnV1tS55dX8PD34mfYi4IUKHiCrj4+NITU3V/UjmSHp6OuLj400rmfXg0fCnJEACJEACiwnEquDhlwObXZf1/sViJit5rvctirfx4MVKIPKzJGABAQoeFkBll7FJINY2MOCbR2B+EoG5KXVTmxfquSnN4YLDdVf0cCRmwOFOMKVbdkICJEACJEACdiAQarzgVV4Ws9675Z3i3U64lafFg5q7bCfiD74Md/nOB71t9X/2kHjB8Hj44MN6/OsP/wst7Z3YUF2Jx/buxPPPfAIb11UFH7OKFRxxSvRQhyQcHpUtILGDjZtkPYgYIIKDCAIOhwOSPeFyudZk1DKO+fl5LXQcOXIEZ86cwZUrV+B0OnVZK/H02L59O6qqqnRmRlJS0gPHaWR2GBkkvb296Ozs1J8pLS2FiB3iF5KYmPjAfvhDEiABEiABawnEquAhexaBSXVQU+1fmNl0HJKcq2MSM/tlXyRAAisjQMFjZfz4aRL4PYFQNzB+/4EQH9h2AyOgNmH8PgT8Xn2vHoQ4o4e8TW0AwKHqdTvvCR9KAGEjARIgARIggWghEGq8MDnnQ+/43cME+akeJMc9+PdhpMYL4vHQ3NyM4yfex3/99OeYnJrCk4cP49DB/Xjskb0oLSkOvvRGrOB065hBxw7B32mLVw2BQQSBiYkJLXRkZmaumQBgCDAyFvH1aGhowHvvvQcxNZfsj4yMDC187N27F/v370dZWdkDORqZHdKXZHZMTk4iOzv79zfJ8lhLgeeBg+cPSYAESCCGCMSq4AG1bxHwzt7duzBzvWXfwh2vYhEVj7CRAAnYhgAFD9ssBQcS6QRYEzLSV5DjJwESIAESIAHrCTwsXjA2orv6R3HuZgemp2dQlZeK4px05GRnISkp+An5SK0h3d7ejpMnT+LYsWOQTIOUlBT84R/+IR5//PGwSipZv4LhXWFKCTmDg4O6jJTMWTImduzYgcLCwvA6NPlTxjp8+OGHusyVCBZFRUUQwePzn/88Nm0KXpt8qcwOyVxZt24dCgoKIH4dHo+9M3BMxsnuSIAESMC2BHRpJwu8OOmtZdsl58BIICYJUPCIyWXnpK0gwJqQVlBlnyRAAiRAAiQQXQQeFi8YHgvnr9zAD3/+Lrq672BzRS52bdmI/Y/tRZkykw7WIrWGtGQU/OxnP8OJEydw8+ZNvUn+7W9/GwcPHgzLNDsYGzu8JpkPjY2NOH/+PE6dOqWNu19++WVtEm6H8YkgMzAwoA3ML126hJaWFkj2jZS0+uIXv6iNzIONc6nMDjEoz8vL0/4dIn5IqSw2EiABEiCBtSdgmRcnvbXWfnE5AhIggd8ToODxexR8QAIrI8CakCvjx0+TAAmQAAmQQCwQeFi8YAgeZy824vv/+d9ovHod6apSwpaNVfj0p57Gtq21Qb0QIq2GtDHPc+fO4T/+4z9QX1+vPS7ELPsb3/gG9uzZE1VfBxEQfve73+H999+HZFGIOfhf/uVf4sCBA7aap1FiTMYrWR/iu3FYlRiT8S5szOxYSIOPSYAESCCCCDzEWyvsmUSYt1bY8+QHSYAEIoIABY+IWCYOMiIIsCZkRCwTB0kCJEACJEACa0rgIfGCUdLqdms7fnfiJE5/cBoXzp9FvMelfC0OYt++x7QYUFy8yNsiwmpIG+bWIgD827/9m95c37x5sxYAnn/+eWzcuHFNl8nsi0t2x09/+lOIwCOiQm1tLf7kT/4EIvDYqRkm8lLSSrI+xHdDMjWkLNXCxsyOhTT4mARIgAQiiIBlXpz3fDgjxFsrglaMQyUBEgiDAAWPMKDxIyRAAiRAAiRAAiRAAiRgJQHjpP3Zs2fx7rvvYmxsDCIISOaD+FtUVFRYeXnL+zY8LUQAeO211zA6Oqr9IkQAsJO3hVkgZJ7/+q//iitXrmhDcJnnl770JWzZssWsS6xKP8zsWBXMvAgJkAAJkAAJkAAJkMAKCFDwWAE8fpQESIAESIAESIAESIAErCBgnLRva2vDhQsXdFZAWloaysvLsX37dm0GbcV1V6tPmZ9kEXR2dmoRYH5+XvtFlCiPktzc3I9lFKzWuKy6jmSy/M3f/A1u3bqFuro6ncnyqU99SnuWWHVNK/plZocVVNknCZAACZAACZAACZCAmQQoeJhJk32RAAmQAAmQAAmQAAmQgIkEJPOho6NDZ0BIt+np6SgtLdX3Jl5m1bsSDw8ROSYmJrSYIwMQv4iUlBR4PB6I0XU0NMOr5OjRo/jrv/5rdHd345Of/CSeeOIJPPbYY3otI2GeizM7RKi6ceMGHA4Hampq9DwyMzORkJAQCdPhGEmABEiABEiABEiABKKYAAWPKF5cTo0ESIAESIAESIAESCCyCYgoIOWf5F6aiAFJSUn6PpJnZniVeL1eSLaHNPGLcLvdcDqdeiM9kudnjN3wKhHB4x//8R91abIvfOELWvDYunUr8vPzjbfa+n5xZkdXV5cWq8TbY926dYjWzBxbLwoHRwIkQAIkQAIkQAIkEJQABY+gWPgiCZAACZDASggEvLMIzIwB6t7U5vLAEZcMhzseUAa9cChzPDYSIAESIAESsCkBI0NHBI8f/OAHEOHga1/7mhY8KisrIVkRdm6LMzt6e3t1GbI7d+5gYGBADz07O1sLHuvXr9el1pYjyFkWL6g4wZGQdjdesDNgjo0ESIAESIAESGDtCPi9kFhE9i30vd9nzljUXoXes5B4RO9duM3pl72ETICCR8io+EYSIAESIIFQCfgn+uHrvQq5N7M5EzPgzCqHMyUXDk8yoAQQNhIgARIgARKwK4H+/n5cu3YNInj85Cc/0dk53/zmN7XgEQleJYszO8R3RQQOmZf4kjQ3N+sMJMnwePLJJ7U/yXJKrlkWL6g4wZW/WccLdv1ucFwkQAIkQAIkQAJrSyAwN4nAZL/et5CYJDA3ZcqAHHFJOgbR+xbJau9CHdpkW10CFDxWlzevRgIkQAIxQcA3eBvzN96Db7DF1Pk60wrhLt0BV04VHImZSvRINLV/dkYCJEACkUbA2JCenZ3VG89SDkrMzePjVSYc25oTEK+LM2fO4Pjx4/jtb3+LvLw8fPe738WhQ4e0MbuU8bJjWyqzQ7xVpITV+Pg4jh07hvr6ety8eVOXI9u5cyfktmPHDpSXl2s/lofNz6p4wZVdCc/GT8CVXWVHvBwTCZAACZAACZCADQgEpobUnkWz3rfwD7bCPzViyqicSeqgZnaFikMq1a0ajqQsU/plJ6EToOAROiu+kwRIgARIIEQCvq4GzJ59FV51b2Zz5agNjJrDcBVvgTO1EI74FDO7Z18kQAIkEHEExP9CTt3Lifv29na98bxp0yZI9gDb2hO4desW3nnnHZw6dQpXrlxBVVUVvvOd72Dfvn2/9ytZ+1F+fASGkNbX14fr16/r75hkduTk5GjRRn4uBuyXL1/GkSNHtOghXjNlZWXalH3Pnj2orq7WRvQf7/2jV6yKF9zFWxG/58sqXtj60cX4iARIgARIgARIgAQWEPCP9ag9iwvwdV+Br+sa/ON3y3UueEtYD52pOSoG2QRX0Ra4i3dADm6yrS4BCh6ry5tXIwESIIGYIOBtq8fsiX+Ht73e1Pm68tfBs/XTcJfvhDO9RNfnNvUC7IwESIAEIoyAbDIPDg6iqakJH374oR69bDaLn4JsToufgh2aYVIu5uszMzPalHw5Xg92mEM4Y5B1efvtt3UmhAgEsi5//Md/rDMhwunP6s+IkOHz+XS20NjYGETwkCwVI7OjoKBAZ6ZIJpGsZUtLiy5tJVksku0h61xXV6fnt2vXLi3wZGRkICEhIejQrYoX3GU7EX/wZR0vBL0wXyQBEiABEiABEoh5Av6RTsy3ndb7Fr72BgRG+0xh4kjPg6tsKyQe8ZQ/CmdGiSn9spPQCVDwCJ0V30kCJEACJBAiAas2MCh4hLgAfBsJkEDMEJBN6a6uLl026ec//zlGRkb0ZvMjjzyC/fv36xP3doAhm+iyQS4m3mJ4LRvoy/F6sMMcwhlDW1sbTpw4oTMgZK2k1NNnPvMZbNiwIZzuLP+MrJFkDIk5uYgZUiptYWZHamqqXjuHw6EN2OW9Yl7e0NCA3/zmN2hsbNTfQSnddeDAAezduxfbt2/XZubBBm9VvEDBIxhtvkYCJEACJEACJLCQAAWPhTSi6zEFj+haT86GBEiABGxBwKoNDAoetlheDoIESMBGBCYmJvTmtGR3vPbaa7h9+zbkRH1tbS2efvppbN26VWd6JCcnQ07ly0b1WjTxfOjp6dFlt2SMsnFuJ0HGKiaGabmIPFJ+TEqNPUgAsGocD+vXyOyQdZKsDhExJHNIvGAqKyuRn5+vMzs8Hk/QrqSc2smTJ3H69GmcO3dOZ4hUVFRg27Ztep1ramqCZhxZFS9Q8Ai6THyRBEiABEiABEhgAQEKHgtgRNlDCh5RtqCcDgmQAAnYgYBVGxgUPOywuhwDCZCAnQh4vV5dIkpEBNlwFuHj4sWLWtgQA2nJ9JCT9rJpLZvVklmxFs3IdDBMriXTwc6lncxiJBkSktkhZbxEVBAB4UElnsy67nL7MTI7RJgR3xHJyCkpKdF+HWlpabo0mnx3RDQL1qS0mogk4vch30Px9mhtbdWf2717Nx599NGgApdV8QIFj2CrxNdIgARIgARIgAQWEqDgsZBGdD2m4BFd68nZkAAJkIAtCFi1gUHBwxbLy0GQAAnYkMDQ0BCam5tx9uxZvPvuuzqTQjwyxDPiiSee0FkFUkJKNttXM9NDNvlFlJEN8B//+Md6fDJWOfn/7W9/WwsyNsQZM0NaKrNDMoIkK0NKU7nd7iWFjsWgRDC5dOmSFt7ef/99DA8Po6ioSJe2+vznP49Nmzbd9xGr4gUKHvdh5hMSIAESIAESIIEgBCh4BIESJS9R8IiSheQ0SIAESMBOBKzawKDgYadV5lhIgATsREDKJUl5K8mkuHDhgjaQlmyK6elpSGkhMTJ/9tln9Sb2amZ6yLjE5+HUqVP4l3/5F9y4cUNvgO/btw9f/vKXdcktO3GMtbEsldkhJawyMzORmJios4VCLYUmmSziIyMZR+fPn9cinAhcVVVV+OIXv6hLrS1kbFW8QMFjIWU+JgESIAESIAESCEaAgkcwKtHxGgWP6FhHzoIESIAEbEXAqg0MCh62WmYOhgRIwIYExBS8o6NDl7U6cuSIFhhECBHR47nnntPCx2pmesjmt4gwR48exSuvvKI3wyXjRG6PP/64HpcNMUb9kMzO7FgMzMg4EuNz8ffIysrC4cOHdWm1he+1Kl6g4LGQMh+TAAmQAAmQAAkEI0DBIxiV6HiNgkd0rCNnQQIkQAK2ImDVBgYFD1stMwdDAiRgQwJyYl/8FKS0UFNTky4h9dvf/lYLDevWrdMlpFYz00N8HI4dO6YFDxE9pKTWSy+9pAUP8fGQ52yrT8DszI7FMzAyjiS7R76PcXFxujyWlMpa2KyKFyh4LKTMxyRAAiRAAiRAAsEIUPAIRiU6XqPgER3ryFmQAAmQgK0IWLWBQcHDVsvMwZAACdiYgJSyEv8EMTB/8803cfXqVcgmdG1tLb7yla9g165dulyRlLeyogUCAW3S3dDQoL07pKRVZ2cnNm7ciG9+85vawFo2v2UjnG31CMi6yG18fFyLYv39/RgcHES4nh3hjtzwdplvO4+Z9/8D/s4LcDsdcDoc4XZ53+coeNyHg09IgARIgARIgASCEKDgEQRKlLxEwSNKFpLTIAESIAE7EaDgYafV4FhIgARikYDP59MCh2R6XLt2TZuGi6eH+DK8+OKL2LFjB1JTUxEfH28JHrm+ZBGcOXNGe3eIaXlKSoouqfXVr35VX385ZtiWDDIGOzWEht7eXjQ2NmJ2dhYlJSUI17MjXISGt8vU7XOYPf1/4OxpQHK8C3EuZ7hd3vc5Ch734eATEiABEiABEiCBIAQoeASBEiUvUfCIkoXkNEiABEjATgQoeNhpNTgWEiCBWCZgZHrcunULH374IVwuFw4cOAApb2VlhoWUMpLsgRMnTuD73/8+uru7UVdXh4MHD+LTn/401q9fH5XLYmS2SBkn8bEQs++cnBwkJSXZYr6G4CFrc/36dT2mmpoa5ObmYjUEKMPUvK+vD11dXZhovQR38++QNd2JiqwEZCS6TeFEwcMUjOyEBEiABEiABKKaAAWP6F1eCh7Ru7acGQmQAAmsGQEKHmuGnhcmARIggfsIGJkeYly+cANesi2s3ODu6enBhQsXtH/HW2+9BafTiRdeeEEblW/dulVnFNw30Ch5YmS2iFG3ITDt378fZWVltpihUdJKMjukrJU0I9NHxBm5Wdkk4+jSpUuQbKNz585hvKcZRc4hbMsGnlyfiUolepjRKHiYQZF9kAAJkAAJkEB0E6DgEb3rS8EjeteWMyMBEiCBNSNAwWPN0PPCJEACJGApAZ0h4JuHz+/TXhCygR6sSUbJr99+B6dOnkTDlQYUFBTgq1/7qvbuyC/IR0pyyn0fE0HE7fLA5XTpTXerN97vu7iJTySzQzwxpITXr3/9a10y7Itf/CK2bdum/UokwyaWmiG4ibgyMDCApqYmnD17VpfTEkN7z8wQNmfMY3ehB4eqM1CeScEjlr4fnCsJkAAJLJuAxB0Bv7qpOETFI1DxiKlN4hC3KvfpNCfj0NSxsTPTCVDwMB2pbTqk4GGbpeBASIAESCB6CFDwiJ615ExIgARIYCGBuflZTEyPY2ZuGvNerzYmX/hz43HD5St49f/9L1xSpumz6jObNtfgS3/4JdTtqENCQoISN+7fSIjzxCE1KQ0JcYn6ZyKARGKTUk3ijSEm7SJ4SPbEH/3RH2Hfvn3aPyUxMTESpxX2mI2Sajdu3MD777+vsztu376txbKKigpsznZhV3w31iVNIjfZg6Q4cwQhZniEvWT8IAmQAAnYm4AcuBChY34KgekRBLwzpo7XEZcER3IuHHHJpvbLzuxJgIKHPdfFjFFR8DCDIvsgARIgARK4jwAFj/tw8AkJkAAJ2J6A4e0g99J0xoXbre8XDn5schSdfW0YHO3H1MyUEj3UpkOQdvN6E97671+htaUFSalJ2FCzAYc/8QQqqyqCvBtIS0lHaV45stNzkRifBI/bE/R9dn9RshaOHTumb8ePH9elu771rW/pUl5iGB8rgofhZSKlzaSE1fnz53WJL/Fyke+WGKXv3bsX23OAmvGzyJntNnVpKXiYipOdkQAJkIB9CPjmEJidgH+sF74BJaBPDZs6NmdaPlzF2+BMzTe1X3ZmTwIUPOy5LmaMioKHGRTZBwmQAAmQwH0EKHjch4NPSIAESMD2BObm5iBG43IvLS4uLqipeXd/B85e/QDNXTcwPDaE6dmpoHMbGRxFa1O79omIT4xDRlYGCksKkJp2fykr48NFuaXYvfkxVBdvQFZathY9jJ9F0r0Ygb/xxhvarP3q1avanP173/ueNmsXprFS0srwMhGh45VXXtF+LiKmFRUVaaFjy5YtqKysRO58DxIbfgp371VTl5mCh6k42RkJkAAJ2IZAYG4SgfFeeHuuwdv0PvxD7aaOzVW4CXE7/gfkni36CVDwiN41puARvWvLmZEACZDAmhGg4LFm6HlhEiABEgiLwOjoKDo6OtDf3w8xOBdT8+rqauTm5t7nPdHSfQu/O/8OGpsvoX+4V2V5TAa9nnfOh5nJWVVaOwC3KlOkbx4XnK7gpaoqiqrxxK5PobZqO/Iy85GcGFwYCXoxG714UZXw+uEPf4jTp09jZGQEdXV1+M53voNHH33URqO0fiiG4CHG5D/4wQ8gni4idtTW1uLAgQPYuHGjLvHl6buG2RP/Dm97vamDouBhKk52RgIkQAK2IRCYGYN/tBPy9+Z8w9vw9d4ydWz8/WEqTtt3RsHD9ksU9gApeISNjh8kARIgARJYigAFj6XI8HUSIAESsCcBETs++OADXX5INqdzcnLw3HPPYfv27fd5T4QqeAT8Afi8fu3V4HQ64DBuDkdQANEieIjQ8Q//8A8Q4SMjI0MLHV//+te18BF04lH6olHSqrOzU5uUi4hWWlqKwsJC/d0SbxPJeAl0XqLgEaXfAU6LBEiABKwgQMHDCqqx2ycFj+hdewoe0bu2nBkJkAAJrBkBX1cDZs++Cq+6N7O5cirhqTms6qpuUXVVC+GIj8wTwGYyYV8kQAIkYAYB2Zg+c+aMNtsWc2m38u946qmndPkhOY1fUFCgzcY7+lpDyvBY7pgiXfCQjAYpB3bixAn83d/9HZqamrB582Zdyupzn/scampqloskKt4vQkdvb6+eS35+vs4cWjgxq+IFd/FWxO/5sooXti68HB+TAAmQAAlEOAEKHhG+gDYbvn+sR+1ZXICv+wp8XdfgHx8wZYTO1BwVg2yCq2gL3MU74EwrNKVfdhI6AQoeobPiO0mABEiABEIk4Bu8jfkb78E32BLiJ0J7mwQK7tIdcOVUwZGYCYcnMbQP8l0kQAIkQAIPJGBsTH/44Yd47bXXdAkiKWslm/bPPPOMzlCQDev+sTsUPIKQnJ6exvDwsDYr/6d/+ie9yX/o0CFtVv7444+joqIiyKei/yWv14uZmRk90YSEBC2kLZy1VfGCK1sdkNj4CbiyqxZejo9JgARIgAQinAAFjwhfQJsNPzA1pPYsmvW+hX+wFf6pEVNG6EzKgDO7QsUhlepWDUdSlin9spPQCVDwCJ0V30kCJEACJBAiAf9Ev6qnehVyb2ZzJqrAIasczpRcJXYkAy6Pmd2zLxIgARKIWQKG54KYbv/qV7+CCB+3b9/WJ/L37duHXbt2af8Fr3MWZ2+cxM2Oqw/08FguyEjP8BC/jra2Nhw9elSbdMsm/wsvvIAnnnhClwWTDBkz27xXmcxPT6jbJCZnJiDPzWgetzKrT0hRHirJ2kdFni9s8/PzmJqa0j4vY2Nj2oRdyp+JOCZZQU5ncI+WhX0sfGxZvKDiBFf+Zh0vLLweH5MACZAACUQ2AQoe9lq/wMy48lTpQUDFImY2h4pFnOmqokNCqpndfqyvwNwkApP9et9CYpLA3NTH3hPOC464JB2D6H2LZLV3Eaf2LthWlQAFj1XFzYuRAAmQQGwQCHhnVdAzBqh7U5sSOCRYcLjjoZxvoYrCm9o9OyMBEiCBWCVgeC7Ixr34edTX1+Pdd9/VmR5+vx+VlZW6xFV2UQY6RprRPdxOwWPBl+XOnTva/0QEj9dff12X/3rppZe04FFeXq79PBa8fcUPR8aH0NLdjFa59TRDnpvRMlKzUFFYDRGgKtVNni9shrm9+LxcvXoViYmJ2oR83bp1SE5O1r4cC9//sMeWxQsqTnAkpN2NFx42CP6cBEiABEggYghQ8LDXUvl6b2L+8i/VYcebpg7Mlb8Bnm2fUYcXNpja78c683shsYjsW+h7v+9jbwnrBbVXofcsJB7RexfusLrhh8InQMEjfHb8JAmQAAmQAAmQAAmQAAlEFQEj00M2tI8cOaJ9Pa5cuaJP7tfV1SG3JAvz8ZOYCoxjfGYUc9675YpWCiHSMzxaW1t1Oatjx47h+PHjkPJf3/rWt3RJq8zMTC0MrJTRws/3Dd9BY/MlNN6+e+sfvuuTsfA94TzOzcxHbdX2u7fq7cjNyIcIXpOTkxgYGEB7eztu3LihhTCZs2SuSCaLmNuLEXl8vDqQwEYCJEACJEACFhGg4GER2DC79bbVY/bEv8PbXh9mD8E/5i7bifiDL8NdvjP4G/gqCTyEAAWPhwDij0mABEiABEiABEiABEggVggYmR7i6dHX14eGhga89957+jS/ZH844gPILk1DUk48XIkBOE2qLBjpgoeUAnvjjTe0ablkPqxfvx7f+973tGl5XFycLv1k5ndotQSP7LRcSBmrlpYWiJm9ZP7IXOX7kZGRob1dRPDYunWrFnU8HpO+EGbCYl8kQAIkQAJRQ4CCh72WkoKHvdaDo/mIAAWPj1jwEQmQAAmQAAmQAAmQAAmQwAICcqL/5MmTOHXqFE6fPo2+oTtIzk5Aen4yskpSkZhmzon+SBc8JCPmnXfewcWLFyHlraTE09e//nUtCCzAadpDqwWPDaW1qCxcD3fAg56eHjQ2NmrBo7m5WXt4pKeno6amBjt37tQlraTkmYgdLpcqN8lGAiRAAiRAAhYRoOBhEdgwu6XgESY4fsxyAhQ8LEfMC5AACZAACZAACZAACZBAZBIQg2opZXT58mW9oX/hYj26ejvhSvGjYlsRMvLNMZOMdMFDGEmpJxE7xLBcjLylzJPZZuXGt8hqwaMkuxJpnkzc6ezTJbquXbumvwcidIjIIRkdGzduRFlZmZ6r+HeIYbnD4TCGyHsSIAESIAESMJ0ABQ/Tka6oQwoeK8LHD1tIgIKHhXDZNQmQAAmQAAmQAAmQAAlEAwEj0+PM2Q9w/tI5jHuHUbA+CynZiaZML9IFj+npaQwPD0PupYmZtxXeHQZsqwSP1IR0FGWWI8WVicC0A93td3QZKzErFxFn06ZNOHToELZt24bS0lKIAMJGAiRAAiRAAqtFgILHapEO7ToUPELjxHetPgEKHqvPnFckARIgARIgARIgARIggYgiYGR6XG++ivcv/A4tPU2Yc0zD55g3ZR6RLniI2fvc3BzkXpqUdrLCu8OAbZXg4Z0OYHYwgOnBOYwPTSHgBZKSklBdXa1LV9XW1qKwsBBZWVn6dXp2GCvCexIgARIggdUgQMFjNSiHfg0KHqGz4jtXlwAFj9XlzauRAAmQAAmQAAmQAAmQQMQSaOm+hd+dfweNzZfQP9yLqZlJU+YS6YKHKRCW0YnpgkcAEMP6iaEZ9DWPYHpoDi7l35GXk0+vjmWsC99KAiRAAiRgLQEKHtbyXW7vFDyWS4zvXy0CFDxWizSvQwIkQAIkQAIkQAIkQAIRToCChz0W0GzBI+APwO/zY3JoFgMt49q/Y1vtdtRu3kKvDnssOUdBAiRAAiSgCFDwsNfXgIKHvdaDo/mIAAWPj1hE7SOf+gNm1utTKfbq6FaQ5nQ64HE54Vb3YjRIr8EgkPgSCZAACZAACUQpAXWoW5/s9qp4YV5tePrVfbDmcjkQ73bBpeIFttglQMHDHmtvleDhU74dvlEXSnOrcOgx5dWxZTu9Ouyx5BwFCUQ9AYk/JA6ReEQyziQ+Wdhkn0L2K2TfQvYvZB+DLfYIUPCw15pT8LDXenA0HxGg4PERi6h9NDXnxeD4LKZmVRHeIC3e40J6UhyS4twqcHAwcAjCiC+RAAmQAAmQQLQSuLvBEIDEC6NTc5idv+tBsHi+SfFuZKfG63hh8c/4PHYIUPCwx1qbLXjgnvCZmpiBkswKbCirxY7Nu1FWVE6vDnssOUdBAlFPQOKP0el5HY/Mez9+AEMf1HQ7dRySnuiB7GOwxR4BCh72WnMKHvZaD47mIwIUPD5iETWP5FSEiBsTM16MqY2L4clZ9I/NLCl4JKhAISM5XoseaUkepKngQQQQBhBR85XgREiABEiABEjgYwT0xoKKE8bU5sLY1LwWO0ZUzDDzAMEjNy0BmSpmSFNxQkqCGyKCyClLttghQMHj/rX2+9VpZO/dQ0Vut1sdHFqdfw+mCx73ppWbmY/aKlXKSm7V25GXWXD/hPmMBEiABEwiYGR0TKq9i5FJtW8xMYvBiRm9jxEs49SoTCHxR3aKikdS4tU+RhyS78UizPgwaWFs3g0FD3stEAUPe60HR/MRAQoeH7GImkdyOrNjcBK37ozhavswuocmldgxDzklEay51UZFosruyFabGKU5KVhXmIYtpZnIS08M9na+RgIkQAIkQAIkEAUE+kancaVjGLd6xtAxMIFBdThiWmV5eNXBiWDNI6cq4z0oykrG5rJMrCtIQ2l2sj4kEez9fC06CVDwuH9d5+bmMDl517g9OTkZcXFx97/BomcUPCwCy25JgARWjYCR0dHWP46LLYNo6R3H8Lg6qKliEaPc5sLBGOW3pTJFZmoCKvNTUVeZjfLcVDDjYyGp6H5MwcNe60vBw17rwdF8RICCx0csIv6RcUKia3hKBwyX24bQqG696rlsXvgXF8G8N2On1MFUokd6ShxKslOwpTwTBzYVoDo/DZL9IT9jIwESIAESIAESiA4CEhNIFkdz7xjev3YHV9qG0Tk4gdGJuZDihfzMJNSWZ2GbuslGQ7F6zlra0fHdCGUWbXdacOLCe7jeegUDI32Ymrm72W98VuquS9bDnDpsMzUxhfl5L5wqloxXYllSivqueDzGW++7Ly+swoG6J1FTsQW5GXlISki+7+d2eyJZHTMzM+jr60Nzc7PO7Ni4cSPy8vKwGpkeqy14jI+Po7u7G1NTU1rUSU1NRU5Oji53Zbe14XhIgAQig8CQyuiQWOSKOqR57lY/WtXjcZV1OrdEpqkxqzi1R5GqqlJUqP2K3etysUUdwpC9iyyV8cEW/QQCs+Pwj3bD13kRc43vwt/XbOqkXaV1iH/sJbjVPdvDCVDweDgjvmNtCFDwWBvullzVOCFxvXMY7zV06+yOIXVCYlqliGrTryWuKlZfclpCTm4mqnTQ9UXpeHJrkRI+slCYkaRKVgT/w3SJ7vgyCZAACZAACZCAjQlMzMyjZ2RKCR1DOKLihabuUR0rSCZoKPGCxApZ6mSlZHl8QsULNSWZPFlp4/U2e2hd/R04e/UUmjtvYnhsUH13pu67hM/ng2Q9DPUPo7WpA+OjE4hTsWR2XiYqqsuQnpl+3/uNJ8V5pdizeR+qSzaok7vZKiZNMn5ky/uJiQn09vaivr4eb731lhYB/uAP/gA7d+7EamR6rLbgcePGDfziF79Ae3s7srKyIOLO/v37UVZWZsv14aBIgATsT+C2yuh4r6FLH9bs6J9QZa1m7x68UKblD2pSukoOZUpZ7tLcFH344hNbi1GlMj7Yop9AYG4SgfFeeHsa4W06Ct9gq6mTdhXWIn7nlyD3bA8nQMHj4Yz4jrUhQMFjbbhbclXjhISkg55o7FEnJMYfeFJzqUEUq/IUezbkYUdVDraWZaFAlbYy0keX+gxfJwESIAESIAESsDcBozzEHVXKqqF9CBduD+DszT50qTKYy2lGZmiF2lg4WFuoNxp4snI5BCP7vUOjA2jquI6ewS5MTI1jzjt7d0Jqf0oyO0ZGRvSmeMutVty61qKzPNIyUlG5rhJ7H9uNotLCoACy03KxvqwGBdlFSElMRZzH3id1+/v7ce3aNRw9ehQ/+clPkJaWhj/7sz/DE088Acl+iI+3dvyrLXg0NDTg1VdfxeXLl/U6b9iwAc8//zy2bdum5271fIN+afgiCZBARBKYUwcsJlUWoGR2vHWuTR/ACCWzY/FkjUwPOaj53O5ynemRrLIJ49RBTrboJRDwziAwPQL/cDt8Xep3khI/zGzOrHJ4qg/CmVluZrdR2xcFj6hd2oifGAWPiF/CjyZgnJCoVxsYbUrsGFEpog86qfnRJ+9/JOmhhao+93ZVpuKTdaXYUJiuSlU4VKq+5IKwkQAJkAAJkAAJRCKBu6UvA7jZM4p3L3bgkjog0aN8vmSTYTnNyAzNUKUjypXosVMdkODJyuUQjOz3zs3PaqFjem5aHazxqs1vn56QX5VKm5ufw/Xr1/GrX/0KFy9cRG9Pvy71VFRUiF27d+G5zz6HDRvWBwUQrwSOlCRVTjUuQZ3c9aya+XfQwYTwYltbG06cOKEFjyNHjqCoqAh/8Rd/oQWPxMTEJUt3hdB1SG9ZbcHDmO+pU6fw4Ycf6lJWzz77LPbt24dNmzYhNzc3pHHzTSRAAiQwrDI5ZO9CDmoeb+zW3h26BPdDMjsWkzMyPcTL41BtkT6AIVkemSrzgy2KCQR8CPhU7Do3pYSPUYgAYmZzxCXBkZwLuWd7OAEKHg9nxHesDQEKHmvD3dSrGrW45YTE6x+2oqF1MKTal0sNQtJDE1S5CqmF+bm9Fdhanq1rZMbzpMRSyPg6CZAACZAACdiewKw6USniRkPbIN5Q8YLEDTOq7KXEEeE042Tl1opsvKDiBYkb6P0VDsnI/ozh2SGZHR0dqtzV2bO6xFNraytSUlL0RriUPaqrq8Phw4dRWVkZ2RO+N3oRdt544w0tely9ehXr16/Hn//5n+PgwYNa7HC5XKbO0+AsviFjY2No727D5RsX0Nx1A3fGOzAxO2rK9XIz81Fbtf3urXo78jILdL9DQ0Paq+SDDz7Am2++icHBQdTU1GDXrl16zjJ/We/VMm03ZbLshARIYE0IdKrM0jNN/ZCDmrJ30afKbK6k5aky3BKLyAGMR9bnKl9Se3tArWSu/CwJ2I0ABQ+7rQjHYxCg4GGQiOB7oxa3nJB4p74DN1Ut7nBOSBgIpHyVS2VziJfHp3aWYkdlDoqUIalkfrCRAAmQAAmQAAlEJgERO7qHp3ChZUDHC+Ld4VOnKWUjNZxmnKzccC9eEANzen+FQzKyPyOeHfPz87/P7Dhz5gxu3bqFjIwMPPXUU9i+fTsKCwtRUFCgDb3F3yIa2sWLF/HDH/4QMl8RIGSef/qnf4pHHnlEZ6dIPG1mMzjfuXMHIrBcariI8xfPYWCyF6nFcYhPM0dgWUrwEF8W8S1pbGzE22+/jQsXLkDGImsrmR4y7+rqau3vYea82RcJkED0EWhSmaa/UvsW9c0D6Fbix/j03IommZoYhyIlcuyszsGzav9ivapQwUYCJLA6BCh4rA5nXmX5BCh4LJ+Z7T4xqEpXSdBQ39yPY1d60NY3bsoYy/NS8fiWQhU4qJrKKmjIVqUr2EiABEiABEiABCKTAOOFyFw3u47ayDhYKrNj69at+OxnP6szOzIzMyFlnoI18f3wer1aNJANdNlYl0wB8cEQX4yEhARLBIRgYwnlNWPeInT88z//My5duqTHKRv+X//61/V8Q+kn1PfMzs5qNpJhIb4hLS0tuHLlCq7fuIam5ib44mZRtjUf6fnBhaSAEjV9KrtLOENpmw51qMnlcSmmwQWZpQQPY7xdXV06i0dKWx0/fhwyPsne2bt3rzYxr6qq0mvmdruNj/CeBEiABO4jIBmmPz7ZrPcvwvHuuK8z9cTIOJV9iy/tr9YZp4vfw+ckQALWEKDgYQ1X9rpyAhQ8Vs5wzXu4MzKNS6o8haSEivmonJIwo8kpCTEvl9TQ7aqsVUFG8D9UzbgW+yABEiABEiABErCWAOMFa/nGWu9GxoHh2bE4s0MEAPF2kMwOKXO0VIknETgmJyd11sKvf/1ryMb+unXrsHHjRmzevFl/3uPxLPn51eZuzFv8O/72b/8WTU1NepxSyupzn/ucLvNk5pgMc3QxC6+vr9dlpQYGBjA5PQG/w4fU3EQUb85FWm7wWuPeOR9mVL38eVW+zu8LwB3nQlJaAjyqfG2w9jDBY3p6Wq+RjEcyPcTMXEQvETpefPFFLXzk5+dr0SpY/3yNBEiABKQyxStHbuj9i5VUpjBIGhmnsm/x0pMbtZeH8TPekwAJWEuAgoe1fNl7+AQoeITPzjaflPIU51R2hwgeF1Va6B313IxWoMpY1am0UAkcdqvTElLWio0ESIAESIAESCAyCTBeiMx1s+uoR0dHtWeHGFiLp4NkHkhmRqiZHca8JENgfHxcG2H/6Ec/0v2UlJRo0WPLli2oqKhAdnY2JEvEDhkf4qEhcz969Cj+/u//Xpd1euKJJ7RZ+eOPP67Ha8wtnHujdJSUyRIhQczCRVSQUlIiLsm1k5KSkJ6Rhuy8bOQUZSC7LB1J6cEzsSfGJ3Gnqw8DvYMYGR5BSloyarZsQI76bLCWkZqFisJqVBRVo1Ld5Hmw1t7ejpMnT+L999/XNxG0nnzySTz22GO6vFdxcfEDha5gffI1EiCB2CAgpay+/5trev/CzBnLvsX/enqTLm1lZr/siwRIYGkCvt6bmL/8S8i9mc2VvwGebZ+B3LORQDgEKHiEQ81mn+EGhs0WhMMhARIgARIgARsSYLxgw0WJ4CFJZoOc8JfSRuIpISWoxLMj1MwOY+ri/yFZA5K98J//+Z84f/689oqQkkg5OTlaQBDho7a21hYZH4YIIYLHK6+8AhFAXnjhBS14iI+HZLSspBnm4MJUfEKEc3d3t2Yk5b1ESNi2bZs2SS8uLUZmdgbik1QGjMcZ9LI93T2oP1+PSxcvK9HkKgqLCvHVr39FiRLbgr7f445DckIKkhOT1S0F8jxYm5qagmSanDt3Dj/72c9w48YNLXDIOgmPHTt2aJFqqVJmwfrkayRAArFBgIJHbKwzZxkbBAIz4/CP9iAwM2HqhB0qFnGmF8KRkGpqv+wsdghQ8IiCtbasREVWMnatz9UnJHZUSEkrZnhEwdeFUyABEiABEohRAndGlGF5qyqBqU5Wnm/qR/cQS2DG6FfBlGnLhrxsdMumvJhZV1ZWhuTZsfjiRokoMTo/cuSINsNubW3VfhWyqS5ZI1IuSUpc2SHjQ3xGxLdDBI/XX39d+1W89NJLWvAoLy/XZu2L5xjKc8Or4/bt29ojQ0zBxatDRAVD/JFSX1LmSzwz5HEopaN6eno0U1knKUMlJuNmeo0Ywtfp06dx8+ZNPSYpbfXoo49qcUaycthIgARIYCGBCy0D+I/3VEkrFY/4lM+QeCOtpDkcyptI+RKJafn//MRG7KjMWUl3/CwJkAAJkEAUEKDgEQWLaJUJaWluCvZtKtAlrTaXZCJX1ftlIwESIAESIAESiEwC/WMzuNo5rEtInLp2Bx395pzEKs9LxeNbCtVGQy7WF6YjOyV4aZ3IpMZRL0XAKGkkAoCIEpJ5EIpnx+L+DBNwEU36+vogpthSxkkyBmSDvrOzEyJ8iI+HHTI+RIw5duyYFjxE9JCMju9+97ta8EhPT9cCyOI5hvLc8OqQEmEi/DQ3N2szd5mzCD1GlktZWZkWVYS5ZHw8zBxc/FGkb1knyRRJTk7WJadWmolizMkobSaCioxbBKwDBw5oUaa6uhpZWcFLYhmf5z0JkEDsEbjcNoT/c6xJxyMzyl9IfDxW0twuJxKUL5GUtPrK4+uxrZz/3VkJT36WBEiABKKBAAWPKFjFiZl59KhTmxdvD+Lt+nbc7Bpd0UkJh2IipySqCtPwVF2JDhzKc1KQnhQ8pT0KEHIK0Uwg4EPANw/MTSEwPYqAd8ac2TpU6QiXB464JDgSM+BwUxA0Byx7IQESsIrA6NQc2gYm9AbDby924nbPmD5VGe65SuNE5YbidHx6ZxnqqrJRqLJBUxI8Vk2B/dqIgFF6ScpRyaa23MRnY6UljET46O3thWR8yCa6+FYEy/iQsk779u3TJuG5ubl6I39FeFSsEJibRGBexQsqZoDEDkFac0sb3jlyAqfOnNMZGJVlJfj2//3H2PfIHnjigpirG7GCR8ULcck6dgjSrRYlrl27pktEHT9+XD8XsUOyWySjQzI7whEQjAwaWSdhK14bZqyTMQejf/FwET8PuYZkn0jGT2lpKUQEYiMBEiCBhQSud43g9Q9bdYbHwOg0ppTosZKWpMSOnPREneHxwt4K1BRnrKQ7fpYE1pSAxCCByf67sYiJI5H9Ckei+p0s+xcqNlH/Z2Lv7IoE7EeAgof91mTZI5ITETPzPshJiddO3db3Kzkp4VRih5yS2FyWiS88pv7IqsxGeqIH8R7+B3HZi8MPrDkBETgC0yPwD7fD13UZ/vFec8bkiVf1JNPgzCqHu2g7nKkrq9ltzqDYCwmQAAksTWBWxQqj0/O42DKIn39wG1fbh/WpSn+YpSSME5VykvLFfVX6RGWCihXkdbboJ2CYa8uGd1xc3O9vsqG+kub1erUvhmyci1+GZCYEy/goKirCoUOHdOkk8YuQUk0raRIr+IbbVLygbkPt+pBEsP6auwbwmw+voaGpXZWbGkRVUTa+9Mw+bF1fBqfTqQ8NLfycbC44s9TPMsvhUjc5JBGsGSWtJKNFhA95LlkzeXl5OqNDSkNJVoewXk4zMmhknYStCJXSx0rXyRiD0b9kkkj5LbmGjFMyScRcXTJz2EiABEhgIYE2lWF6QmWa1t/ux43OEQyqDNSVtGxViWJjSYY6qJmLg6pCRbmqVMFGApFKQOKQ+eYTKhZpM3UKztR8uIq3qXikjAc2TSXLzuxKgIKHXVcmjHHdujOGdy506JObXYOTGJucC+vkZqI6ISFBQ52qffnc7nJsUickPC6H+iNOcj/YSCCyCOjTmkrk8PY0wtt0FL7BVlMm4IhLhCMlG67CWng2PAVXdpUp/bITEiABErCKgF/VyZ73BXBNnax861ybEj4G9CbD9DJPVhqZoGnJcSjOTtaZoJ/aUYp1BazVb9XaxXK/izM+pNSVlNOSDfXdu3dj165d2iB7pYKHHIjw9jTA13MF/p5r8E8MBMXePTShPHB6VUm4MczNzaMoKwWP1ZagNHeJ739SFvy5G+As2KRihq1wpxXqMlQijgRrxnzlZ6F4dATrg6+RAAmQgJ0JDIzP6FhEDmCcudGLdiWAyCFOiVOW02R/Qg5ZlCmB45GN+fqgpuxd5KQy8345HPleexHwqX2L2fofq3ik0dSBubIr4F7/BNxq/8KhxA+ddWrqFdgZCdiLAAUPe63HikYzNDGLpp5RfXLzfXVioq13PKyTm/mZSdiuxA6pgblLGX8Vq+dyGkz9j40EIo5AYHYc/tFu+DovYq7xXfj7ms2ZQ3wSnGlZcJXWIa72ebjyNprTL3shARIgAYsISCKHnMbuGp7CeWUUWn97AJeU6NGrni+nGZmg5fmpOKBOUkomqHh3ZNG7YzkY+d4QCSzO+BA/CjHilti0pKREZ3aYUdJKYgVvx1l4Vbzg62hEYKwv6Ain57wYVjH31Oy82pzzIzFODgolQUqqBGvzCRmYyayAL38zPKW7kZBbqcWapTI1jPlKX6F4dAS7Jl8jARIgATsTmJ7zYWhyFldUpulvLnbgWscwxlUG6pzKRF1Oi1NZpamqEsWm0kw8XVeKLapCRVZyvPrv8soyDZczBr6XBMwm4O24iNkPXlGxyEVTu3bmVat9i0/CVVIHZ3oRHPGppvbPzkjAbgQoeNhtRVYwHqNUxS0lepy83ovrKnDoHZnG2PTcA09MGCc1kxLUH2zqNES1OqG5c12urn1Zqk5u0rtjBYvCj645gcDMmBI8OuFtq8d8w9vw9d4yZUyOeJXhkZ4Nd9lOxG3/Alz5m0zpN1o7CXhnIWsBdW9qc98tLeZQ92wkQAKhERAvjw6VCSo1tOtv9aNZZYgOqtOWUzPeB2aGGicp0xLjkJ+RiBq1wbC/Jh/rlNjB0pehsY+Ed0npI6Nclfh0iLAgXhJSpkgMspfKTFituYkXxfDwsDbHljGJZ4iUTVpcosmYhxiej42N6XlkZGToMkvB5uEf6cR822l42+vha29AYDS44BHqPEVglHJxA74ENM2nYyK9CqmVu1FQVav9LcRHg20BgYAyLfYr3zWJF5SXylIeKgs+sbyHjBeWx4vvJgELCRgZp6394/hAZXhcaR9Cp/IYGxyfhWSdPszEXLI6dFWK1HiUKK/RLWVZeExleFTkprIyhYXrxq5Xh4DsW8ye+Hcdj5h5RVf+Oni2fhru8p1K8CjR5bnN7D9q+jI83WTfQsUlkPjEjOZ0Kd9XtWch8YjcO4MflDHjUuzjLgEKHlH0TbgbOPh1fW4ROq4qwePk9TtoVgLIg05MGCc1y/JS8KgKFORkRJkKHET8kNNqHtbijqJvSexNhYKHPdbcP9GvxKarqkRIv6kDcqbkKrFpM+SejQRIIDQC86pshBiEisjRrjYY5ITlaSkp0XevpITs1AZpxknKaiVw7K8pwGYleIjwIWKHxAosfRkEWgS+ZAgKYhr+4YcfaiHhwIED2ohaykgtlZmwWlM1hAzJVhLhQoSOYN4Zxjyk/NXVq1f1+8T8u6ysLGiGhdmCh+9eCblLvbP4r8ZJdPoyUL5hC3btfQxPP/20NiBfLWYRcR3ZYJif1HGC1C33K08VMxvjBTNpsi8SWBkBCTPkv+GT92IRKc19Vh3AkIMY3epAxrg6mPGglpoUhyJ1MFPMyfeog5pSUlP2LpLV3gUrUzyIHH8WCQQoeKztKv3e0032LdQBjICKT8xoDmUWL7GI3BzJ6haXbEa37OMBBCh4PABOpP5o8YmJ68oIrG90SosePlW72zAnFaHDpbw5xIw8JcGDuxsYPKkZqevOcQcnQMEjOJfVftU3eBvzN95THiotpl7alV0Jz8ZP0EPFVKrsLFYILM4MlQMSEzPzkNeDxQtSNiIvPQk1yhiUJymj71tiCAliEi6m2ZcvX0Z9fT0kE+HFF1/UPhmpqamIj4+MjDrJ6ujq6tLzOHr0qDZCF8Fj3bp12htDymBlZWXpjA8RTAKjXaZmeBiCx4U7s/j/GibQHcjChi112PPIPhw+fFhneUTft2jpGY2Pj6O7uxuScSOimXyXJHNIjM2lBeanlVG8ytwZuK1Ki12Af6xn6c7C+AnjhTCg8SMksEoE7oxM4YLy8xDBQ8pyDygT8xkViyzO9JDMjgS1d5Gj/EalrKYIHjtUWc2CjLv/HVml4fIyJGApAQoeluJ9aOf+MSlxek7HI4HpURWfmFOhwpmUAafyUZF4xJVdDYfyeGOzlgAFD2v5rknvi09MdKva3LdV4NA/Nq1PdMrJTmlyGlMyODJVze2izGQUKq8OntRckyXjRS0kQMHDQrjL6NrX1YDZs6/Cq+7NbO7irYjf82W41D0bCZDA8ggszgztUfFC9/DkPX8CrzI4vz9eyE1LRJXaYChS8QJPUi6PdSS828iIuHjxIt58802dFSGlrWpra/GVr3xFm4Mb5aMiYT5Sjqu5uRmnTp3C66+/jtbWVkhJK/H9qKmpwfbt27F3716d8SElsRzjPaYKHhKPyyGjnrl4XJhMxVxODdbtPozSdVuQl5ens0wigaNZYxSz+V/84hfacF6Epo0bN2L//v2av1wjMDsBv1oDX9cVzF//ndpoMPeABOMFs1aS/ZCA+QRE3BhRnh4DY7O4ow5q9g5Po0eJIHIIY2GTQ5qFStzIz0xEgTqAkZMWjwzl2SEiCBsJRAsBCh5ru5K+gVuYv/ZrFY80qLhkWJXZnDZlQM7UHLVnsQmuoi1wF+9QfrCFpvTLTpYmQMFjaTZR8xOjVreuz62MFue99zYw3ErwUEaLInjIqYh0VZPbozI+WJIiapaeE1EEKHjY42tgVeAmHirxB1/WtUjtMVOOggQij4CRGTqqPL/kZVmP/wAABR9JREFUlKU2ZA4SL4jIQW+vyFvfh414cWbHmTNn8Nvf/hYjIyM6G+KRRx7Bs88+q0WCYF4ZD+t/rX4+OjqKjo4OnaXy7rvvorGxUc9JymAVFBTo+Tz66KPYsGEDsrOzke6cROLwVbhV+cVAZyMwZk4Jxqm4dAyklCvPr10o3vE00gqr1wSJZFYMDAxgclKVjVJm65JZsZrCS0NDA1599VWdcSPXF+7PP/88tm3bhrS0NMQFZi3xXDNgM14wSPCeBOxLwMg8lX0LOYQRVPC4d+iC3mH2XUeObGUErPq7mR4eoa2Lr/ca5i79XHuoBEYH1YEMcwQPR3oeXGVbtQesp/xRODNKQhsQ3xU2AQoeYaOLnA8atbrnlNDhU39gqJLCujmVW7lLpfDHKeFDTkVIxgdrXkbOunKkoRGg4BEaJ6vfZVXgxg0Mq1eO/ccCASMzVOIFOWX5oHiB3l7R941YnNkhG9MTExOoqKjAc889hz179qC0tFRnRwTzyrArkfn5eV0+qa+vDy0tLbpMl2SviDeJlO2SJsJHVVUVtmzZokqjpGN98hhyZrvgunMDzolBU6bmT8nBfEGN/gM3Zf1BxGWXmdLvcjsRL5OTJ09qFpK5I14mq1laq62tDSdOnNAZN+INI4KLCGn79u3Dpk2bkKPMh/2jnZB4Yb7hbeX7dWu5U3zg+xkvPBAPf0gCtiBgZJ7Oqn2LGXXwwmtsXNwbnVttYCSoA5vxav+C3mG2WDIOwgICVv3dTMEjtMWi4BEap0h4FwWPSFgljpEESCBsAhQ8wkZn6getCty4gWHqMrEzEiCBGCIQrZkdi5dQNvclq0E2/EXwEEFHTMzF30OEHTFiF9FjfXEmarKBdYlTqAj0IwOTi7sK67ldTvRdv34db7zxBi5dugTxN5GyXl/96ld1aa+wJrbMDxklxj744ANdMm1wcFCPYdeuXTh48CDWleYjyTcCZ48qaUXBY5l0+XYSIAESIIFoIWDV380UPEL7hlDwCI1TJLyLgkckrBLHSAIkEDYBCh5hozP1g1YFbhQ8TF0mdkYCJBBDBKI1s2PxEkr5JK/Xq7M9pExXb2+vLnUlxuznzp2DZB5IuSd3YB5ZiQ7sLvTg/9qcjNpcz+KuwnpuN8Hj7Nmz2jxcBI9vfOMbOoMnrIkt80MiPInAJKXF3n77bVy4cEFn2hQWFupMj73bN6EyJx5p460UPJbJlm8nARIgARKIHgJW/d1MwSO07wgFj9A4RcK7KHhEwipxjCRAAmEToOARNjpTP2hV4EbBw9RlYmckQAIxQMAQAKSsk2w+nz59Oio8O0JdOkPokdJWUlpJGIih+fBAr/L9GkVdrhP/c1cmdhQmhtrlA99nF8Hj5s2b+OUvf6lLSkm2h3hofO9739MlpR44AZN/KJk1IrqImfzx48cxOzuLuro67NlWg8e2lKPMNQJX0+/gGGw19cqMF0zFyc5IgARIgAQsImDV380UPEJbMAoeoXGKhHdR8IiEVeIYSYAEwiZAwSNsdKZ+0KrAjRsYpi4TOyMBEogBAkaJJynv9Nprr+kyT9Hg2RHq0hmlvGTOUmapp6dHZ3n0tN7EYOsVFPh78YmiACpTQ+3xwe+zi+Bx+/ZtvPfee1pkEJFLynj91V/9FQ4dOvTgCZj8UxGchPvly5d1poeUGJPMm8qiHHz+qUewM9+N7P4LSJy867Ni1uUZL5hFkv2QAAmQAAlYScCqv5speIS2ahQ8QuMUCe/6/wEAAP//Zkr5AwAAQABJREFU7L1nlFvndf77ABhgML33Rg57GVaJKiQl2ZQtWy4pUooSJ87fseP4xjdfnLXywZ/9KU5uluP8k9zYiX1vYjnrWkksF8m26KhSIin2ziGH03vvGLS79zs88nA4MwQGBzMoz7sMnwFwzotzfi/Es7GfXRxhGeAgARJIXAKhAMIBHxAK2nuOThccGZmAM8PeeRNstvDsOEJjnQi0nYX/0isI9t2y5QwdmVlwFJQgo/4APHt/E66KHbbMm6qTKH/fW/+MQPtZWy9R+Wce/QIyGg7YOi8nIwESIIGkIxChvTA9PY2hoSG89957+Ld/+ze0t7djw4YNePjhh/Hss89i+/btcLvdcLlc8whS3F6YnJxEX18f+lqvYeDaO/AO3cQW1xBKnDO2fAUcBeVw1TcZe8Hd8CichbW2zBvtJLrO77zzDl5//XW89tprqK2txVe/+lU89dRTyMjIgNPpjHbKmPa3zuftt9+GPpyBGTz18C48XJuFnc4eVLkm4XY54HI6Yvoc62DaCxYJbkmABEggTgTCIeOzCIs9YnwX+tyO4ZD7k9oi6reQrfxhx6wJO0e8fje7KjbD3fRx87vZWVALhzc/YRms54kF+65h7sJ/Gr9FeGwIYV9q2YPryXatP9tBwWOtkfPzSCA6AuG5KYSnBhCem47uwAfs7fBkw5FTBocn5wF7JvfbFDwSY/3iZbjRgZEY68uzIAESWH8CkdoL4+Pj6OzsxPnz58XxfRyhUEic3k9i7969qK+vR2FhoXF+OxzzjuZUtxcCgQBmZ2cxM9CK6ZZ3ga6LyBm6BffMsC2LmiiCR3d3N86cOWMEjx//+McoLS3FX/zFXxjBIycnBx6Px5brjXQSFd4GBwfx/vvv46WXXsL1K5fgDvuwrTCMTzS6safcjaJsN7xuexxbtBciXRnuRwIkQAKrJBD0I+wX34X4LdQmgTy3Zbjcxmdh7BG3+C7keSqPeP1upuAR2beGgkdknJJhLwoeybBKPMe0JhCa6ENQfnyHxvts5eDMr4CrZg+ceRW2zptok1HwSIwViZfhRgdGYqwvz4IESGD9CURqL2hGQ29vL+7cuYOrV68iKysLR44cwcaNG43T+4PMjruXlC72Qmi0E/6290xEX7D9EsJj/bYsaqIIHv39/bhy5YoRPH7wgx8gNzcXX/7yl43gUVJSguzsbFuuN9pJmpub8corr+DdE2/jhogepeER/Nr2HDxck43qgkzkee9mGkU78aL9aS8sAsKnJEACJGAzgbBvEqGJHuO3CE9IwKZPRA8bhiMzB468Mqg94syrgiMz14ZZE3eKeP1upuAR2ZpT8IiMUzLsRcEjGVaJ55jWBII9klJ37iXo1s7hqtoBz/7noNtUHhQ8EmN142W40YGRGOvLsyABElh/ApHaC1ZGw9TUFDTbQwUOjfbXKH8ta2RldlhXlC72QqoLHsPDw7h9+7YRPLSUmZax+vznP28Ej5qaGuTnr09pi7GxMXR0dODc2fdx/GevwN9zHY+UzmF3iQONJVmS5WFP6VXaC9Z/0dySAAmQQHwImMCLnksIiN8i1NuM8OSQLR/kyC2Bs3ILMsRv4apqSvmAzXj9bqbgEdnXkYJHZJySYS8KHsmwSjzHtCYQrxteuvzwo+CRGP/58HucGOvAsyABEkhdAvx3Nra1TXXBQ8Wtrq4uI3h861vfggpfn/nMZ4zgsWnTJhQXF8cGcJVHB4NB+P1+tDRfx1vHX8XYrTNoCLSj3jOF2sJM5HspeKwSLQ8jARIggTUlkOr30bWCGS97joJHZCtIwSMyTsmwFwWPZFglnmNaE4jXDY+CR2xfKzYtj44fv8fR8eLeJEACJBAtAf47Gy2xe/dPdUeN1az+dWla/s1vfhNa2uz55583gseuXbtQXl5+L5A1eib9JE0fmcmRfgzcuYLZ1jPIbD0B70Qnstwu07jcjlNJF7vXDlacgwRIgARWQyDV76OrYbKaY+Jlz1HwiGw1KHhExikZ9qLgkQyrxHNMawLxuuGlyw8/Zngkxn8+/B4nxjrwLEiABFKXAP+djW1tl3PUzAXDmPIFzeQ5mS54XPPN3CP9tETp4TE3NwctY/bGG2/gb/7mb0zD8GeffRZPPvkkDh48iOrq6kgvKS77xctes042Xexe63q5JQESIIG1JrDcfTTW80iU+2is1xHp8fGy5yh4RLYCFDwi45QMe1HwSIZV4jmmNYF43fDS5YdfvH5AM8Mjuv8s+T2Ojhf3JgESIIFoCfDf2WiJ3bv/co6akekAWoZmzM6r6SmRKI6aUChkyli99dZb+Ku/+it0dnbiiSeewNGjR3H48GHU19ffC2SNn8XLXrMuI13sXut6uSUBEiCBtSaw3H001vNIlPtorNcR6fHxsucoeES2AhQ8IuOUDHtR8EiGVeI5pjWBeN3w0uWHX3huCuGJPtM8LdD8NkLD7fZ8nzxeOHML4arcAffWY3CWbLRn3hSdhd/jFF1YXhYJkEDCEOC/s7EtxeJmq77hXkxOTeNO3whO3+qDSxq6H95Rg42VRfB4PKbZeySfmGjNVs+fP4/vfve76OnpwZ49e7Bv3z7s378fVVVVkVxO3Pah4BE3tJyYBEiABNaEAAUPezAHpen73LmXoFs7h7O4Hhlbjpjm7468Cjg8OXZOnzJzUfBImaUEBY/UWUteSYoSoAMjxoUNziHsm0RovA/BwRaEp0dinHD+cEeGG/Bkw5lfAVfpZjiy16fZpy0XswaT8Hu8BpD5ESRAAmlNgP/Oxrb8xlaY6DH2QnhiAEN9Xbh9px2nL93Az09cQJbXg9/92BE81LTNNPjOysqK6AMdmTlw5JUZe8GZVwVHZm5Ex8Vrp97eXly4cMGUt9IyVpWVlSgrK0NOzvo6Pih4xGvFOS8JkAAJrA0BCh72cDYBGF0XjT1iz4zzsziyi8Rv0WjsEWOLuDx2Tp8yc1HwSJmlpOCROkvJK0lVAnRgxLiyoSDCQT/gn0Z4ZhThwGyME9493OGCwzUvejiyCuHI8Nozb4rOwu9xii4sL4sESCBhCMTr31ln7T64HvtfyGg4gIyMDDgl0yElh9gKYb9khc6JvSDZoa0tLXjjrXfw1ntn8M6Zy6goL8Wf/uFv4eijB6MSPCC2gkZROiRIwuEWUUFth3UcMzMzGBkZQTAYRG5uLlS4cbvdEWesxOvUKXjEiyznJQESIIG1IUDBwx7OpkLF1ICxR+yZcX4W9Veo3wJusUfUFnG67Jw+Zeai4JEyS0nBI3WWkleSqgTi5cBIl5JWCIeBcEged4UPEUBsGQ5pWuoQp48YCsZgEAGEY3kC/B4vz4bvkAAJkIAdBOL172yocjf8+18wgoc6yLWcU0oOtRU0SCIUMNvz589J6af/ByfeO4WhkTHsbtqN//NLX8Tjjx6KqqTVB7aCM2PeuaC2wzoOFTq0gXlY7CMVsFwulxGxHGrXrOOg4LGO8PnRJEACJGADAQoeNkDUKcQOCQd8xhaxacb5aRb6LdQWWef7vq3XZuNkFDxshLnOU7Gk1TovAD+eBB5EIF4OjLQRPB4EmO+vCYFg1yX4Tr+IgGztHBk1Tch8+AW4ZMtBAiRAAulMIF72wkhWHW6XHIajdi82b95syh9F08Mi2dZExYDJyUmcOHEC//RP/4SrV6+itLQUjz/+OD772c+anhfJdk3JcL5WSbFg12X4r/+PlCG9Y+tp016wFScnIwESIIH7CFDwuA8JX0hCAsHBW/BfexXqvwhNjEimzYwtV+HMKxWfxQ64qncjo2a/lBZb395ptlxUgk9CwSPBF4inRwLxcmBQ8OB3ay0JBIda4L9xHMEhex0YLmkW7952DK6SxrW8HH4WCZAACSQcgXjZC1dGXPiPO5nwl+/AJz/5Sezduze6kk4JR2rlExoeHsbt27fx5ptv4vvf/z7Gx8dx5MgRPPHEE3jyySexYcOGlSfgu6siEPbPSOlRKbUl/dYCHeekdnnPquZZ7iDaC8uR4eskQAIkYA8BCh72cOQs60sgNN4tdsj78/1fZ8ak3Klk29gwnNmFcJZsEL/FRnlsYg9YG5g+aAoKHg8ixPdJYJ0JxMuBQcFjnRc2zT4+NDmAYN9V6NbO4cwtg6tiJ3TLQQIkQALpTCBe9sKpzln83ckxDGZW4+mnn8ahQ4ewfft20+za6/WaskipxL29vR3vvPOOETxef/110+fid3/3d43gsWnTJiP2pNL1Jsy13O2honZCaLgNIem7ZuegvWAnTc5FAiRAAvcToOBxPxO+knwEtO9rcETsEPVbSE830w/WhsvQXm5qi+jDkSMP6e/GEV8CFDziy5ezk0DMBOLlwKDgEfPScIIoCGgdUq3PDa1HaufIyITDmy9N4zPtnJVzkQAJkEDSEYiXvXC2N4B/vuDD5RGncf7v3LkTH/vYx0xpp8rKSvNa0sFa4YS1hNVLL71kSlq1traaMl5f/KL07pCSVindw2QFJmvyltVDRe0FcTBABBBbB+0FW3FyMhIgARJYTICCx2IifJ6UBDQAQ4UOq4+K2id2DO2hoj4LtUd0q73dOOJKgIJHXPFychKInUC8HBgUPGJfG85AAiRAAiRAAolCIF72wq3pbLwyVIbT3T60tLQYp786/w8ePIjdu3ejtrY2pYSAW7du4Wc/+5np3aG9PLRvyXPPPQcVejhIgARIgARIgASWJkDBY2kufJUESGB9CFDwWB/u/FQSiJhAvBwYFDwiXgLuSAIkQAIkQAIJTyBe9sJkfiN66j6CC4Nh/PznP4cKAuFwGBs3bsSxY8fw0EMPGVGguLg44RlFcoIqcvT29preHYFAwIg5Kurk5+dHcjj3IQESIAESIIG0JEDBIy2XnRdNAglLgIJHwi4NT4wE5gnEy4FBwYPfMBIgARIgARJIHQLxshccNXvheOSzaPXn45e//CVOnjyJK1euwOl0mgbmKng8+uijaGxsTKlMj9T5Ztx7JaFQCCrkjI6OorOz04hX1dXVKCwshMfjgcvluvcAPiMBEiABEiCBCAhQ8IgAEnchARJYMwIUPNYMNT+IBFZHIF4ODAoeq1sPHkUCJEACJEACiUggXvaCq24/3If/GLMlW9Hf349Lly7htddeMyWfxsbGTEmrZ555xjQz1/JPqZLpkYhrbMc5zc3NYWpqCufPn8cPfvADBINBfPrTnzY9WYqKipCVlWXHx3AOEiABEiCBNCNAwSPNFpyXSwIJToCCR4IvEE+PBOLlwKDgwe8WCZAACZAACaQOgbWyF9rb2/H222+bpt6a7aEO8/3795um3h/+8IdNqavUoZp6VzI7OwsVql5//XX87d/+LXw+Hz73uc/hqaeeQl1dHQoKClLvonlFJEACJEACcSdAwSPuiPkBJEACURCg4BEFLO5KAutBYK0cGOtxbfxMEiABEiABEiABewislb0wPT2NwcFBXLx4Ea+++iquXbsGfW3Pnj34kz/5E9PM3J4r4izxILBY8JiYmMBv//ZvG8Fjx44dKCsri8fHck4SIAESIIEUJ0DBI8UXmJdHAklGgIJHki0YTzf9CAQ6zsP37ncQlK2dw1W3D5mP/REyZMtBAiRAAiRAAiSQ3ATW2l6wMj20xJX+XV9fj9/7vd9DU1NTcoNM8bO3SlpphsfXv/51I1598pOfNILHwYMHof08OEiABEiABEggWgKhsW4EOk4j0HlefBdXEB7vj3aKJfd35JfDVbcLGbX7xHfxMJwFvE8tCYovkgAJ3EOAgsc9OPiEBBKPQLDnCnxn/wO6tXO4qnYh88DvQLccJEACJEACJEACyU1gre0FK9NDyyPp39nZ2Ub0YEmkxP4eWU3LVfD42te+ZhqXP/3000bwOHz4sFnDxL4Cnh0JkAAJkEAiEghN9CHQc0n8FpcR6rmG0OSgLafpzC2Fs2qH+C12I6OqCc68Clvm5SQkQAKpTYCCR2qvL68uBQiERtrgv/0WQsNttl6Ns7gB7k1H4SxqsHVeTkYCJEACJEACJLD2BGgvrI65ZjxMTk7C7/fD6XTC4/EY8cbtdq9uwiQ56s033zSCR0tLCx599FE88cQTOHbsGBobG5PkCniaJEACJEACiUQgPDOKoPgu1B4JDbcjPDNmy+k5sgrgLK43fguX+C4cWYW2zMtJSIAEUpsABY/UXl9eXQoQCM9NIzw1AN3aORyebDhyyqBbDhIgARIgARIggeQmQHthdes3PDyM27dvm0beKnYUFxenRfPuEydO4K//+q9x8+ZNbN++3TSd/8QnPoGtW7euDiSPIgESIAESSG8CQb/4LKYQ9ov/Qn0X8tyW4XIbn4XDLf4LTw4gzzlIgARI4EEEKHg8iBDfJwESIAESIAESIAESIAESSCkC4XAYWt7pzp07eOONN9DT04P8/Hxs3LjRNF5P9V4Wp06dwt///d/j6tWrqKysxKFDh/Dcc89h586dKbXOvBgSIAESIAESIAESIIH0I0DBI/3WnFdMAiRAAiRAAiRAAiRAAmlNIBgMmjJWZ86cwXe+8x2T5aEihzbuTodMh7Nnz+Lb3/42Ll68CK/XiwMHDuD3f//3sWfPnrT+XvDiSYAESIAESIAESIAEkp8ABY8EWMNQKAx/MIS5QAi+QBCBYBgadRa+e24O2TocDmS4HMjMcMGT4YTb5ZQ6w/oOx3IEgsJVec7557nq84VD8bm0VrPw9Lpdhqlylv9xkAAJkAAJkEDCEbDsBZ/YC7NzAQQW3dcse0FtBK9n3l5wyc3OyRvbimsZEBts1h8UmyEEvzxCYoMtHMrPLbaCR7h61F4QprQXFhJa+m8rg2J0dBTt7e1GXCgtLUVhYSFyc3NNr4ylj1ybV2dmZjAyMoK33noL//iP/4iOjg7j7D969GhaCB4qdPz7v/87VPiYnZ011/7Hf/zHRvhYmxXgp5AACSQbAb096r/tfrE/5uS+OSf3z5Xum5l3f2dnyP2TY3kCaneor0L9QbNzIsYL14X+IOvIDLE/vJ4M8QnRH2Qx4ZYESIAEliNAwWM5Mmv4uk+MhbEZP0YmfRicmMXkbEBuckFJs5//wa3ChtvlQq43A6V5XhTlZqIgy41M+dHNsTyBaXEGDU3MMx0SrtO+wD07q/MiWwwG5VlZmC1MPcJZHEPCm4MESIAESIAEEo2AZS/oPa1nZFrshXtrI1v2gtoIlUXZKMqR5suZGUbQT7RrSaTzUY49o9PGZhibnoNyXjjU3irI9gjPTJSIHZbnddNeWAhomb81g0Ibgp8/fx4vvvii6ZFx+PBh7Nu3D5s3bza9MpY5dE1eHhoaQnNzsyln9f3vfx8+nw/PPvssnnzyybQoaaWlrF566SVoaave3l5TyurP/uzPTGmrNVkAfggJkEDSEZgPvAhjQu6baouMTPmw0n2zJC8TVfI7O1fumxzLE1CBQ30VI1Nz6BX7Tn1DC/1B1pHKsUrsO7VF6A+yqHBLAiRAAksToOCxNJc1edU4LuSHtYoc6rjoH5vF4LgKHnqD+1WEoYkslKgIvcGV5ntRXuA1NzoVP/QHOIWP+eWyIk5U6BgW8WhAeCrXvrEZY5Dp6wuHRsCqI6g414uakhwxxrKEbRbyxVHEDJqFpPg3CZAACZDAehJYbC/0jswYB/19godmIsi9rVBsg6ribGMrqKBfSOHjnuVbbC/0js6gfWBC7LAZ42RYUvAQ26BY7K4KsRPUVqC9cA/SJZ9Ygoc2x/67v/s7tLW1Ye/evXjooYfw6KOPorGxcV0zPfR8NLvjzTffNA/NPPnDP/xDPPHEE2nRtFzFnldeeQW6Pip+bNmyBV/5yldM8/IlF5QvkgAJpC0BK8N0XBzxeq/Uh/7GHhY/hjrnl7tv6r2yvixPgguz5Dd3pgk2ZIbkr75GltAxqkKHBF6o76JneBqj4iNa6A+yjjCCh9h1lUVZ9AdZULglARIggWUIUPBYBsxavKyGwuWOEVzvGsWt7jFx0M+IsRCSEhV3UxjvVlTQShSmpJWUX8p0O1EmhsPm6gJsrynE7roi86N7Lc430T/DijjpGJrEqVsDuClc+zRC4m605v0lrRxwSUaHih6FErW5qSofh7aUo7EinxETib7YPD8SIAESSCMCi+2FfnHQawkmLcW0cFj2gpa/zBUHfV1pLpo2FGNLVQHqRNjXIAkOmAxav5QPteyFG2Iv9AxPYUwcDsbBsKhU2HzmzHyQRIGIR42VtBci+R5ZJa20dNL3vvc9nD592mR51NbW4plnnjGZBOuZ6XHp0iWTeaIO/+7ubmzfvh1f+tKXjMM/OzsbbndqRyQvFnwaGhrw1a9+1Qg+kawv9yEBEkgfAibwQoSNlr5xnGruR0vvuLlnalbCSvdNvWdWFedgm/gtDm0uE1sklxmSC7426qfoGJpCc88YLrUOo2NwEpMqIElZblPS6t4Km1LifL4Ud7kISPQHLQDJP0mABEhgCQIUPJaAEu+XLCW/pW8C71zvxaW2YbTJ36OSEhrJUOd8Q0UemhqKcXh7pTjo81iyQsBNicE1IBky1zpH8ebVHlzvHMGIlLTSOucrDWM4iOixsTwPj26rMFyVabFwZgTKSuT4HgmQAAmQQDwJrNZe0MxQvbdVSNmDXWIr7JHHvo0lqJHnzGCkvRDP7+xSc2v/jrfffttkEpw8eRKBQGBdMz1CElik56Dn8g//8A84d+6cadr9yCOP4Atf+IIpZ7XUdaTaa/39/bhy5Qq0abuKPuXl5Wl1/am2nrweEogHASsjclj8FOq7UL/Fezf6cKd/ArPy23tx4MXic9B+E0VS1mp7bRGe2FmFHbWFKJOKFTny2zudh5Ux0yXBmefvDOGicL0iDw3WVKaLe4ktZkV/0GIifE4CJEAC9xOg4HE/k7i/Yin5l9qH8faVHtzuGRdnvZSxkiZVkQztPZGT6TYZCUd2VaGpvpiRmwJOU0DPiMFwQR6X24ZMOqhfoiMWZ3YsZqyihjZ1LZQ02/qyXOzZUIInhWtjeT4jUBbD4nMSIAESIIE1I7Bae8FqXp6lZRulDNPO+iIca6o2DgfWfKa9sGZf4LsfND09jcHBQWimx6uvvorLly+va6aH9hWZmpoy5ay+8Y1v4Pbt2ya7Q5uV/8Zv/AZ27Nix1ojW5fN0XbSPSU9Pj2kqr1kt+/fvR1VV1bqcDz+UBEgg8QhYFRRa+sfxhvgtLrYOSQnISYxK+Wj9ja1ZCCsN/Y3tlqxTLbO5u6EEeyX44qA8tA9FOg8rY0YDNI9f6sbV9hFTHmxGRKSlmpUvZkV/0GIifE4CJEAC9xOg4HE/k7i9YkVIqJJ/5vYgzrYMinN+0Cj5q/lQjdzcu7EUBxpLcXBTqYncTMeMBDW2NO2zWYSj4xe7cEEMsW5JDZ2QFNFohkeakuZJCZAtknL71K5q7BYHkdYbZZO1aChyXxIgARIggVgJWPe1riGJ/JN7mjoYLoqY3yf1naMZVqZHfXkuHt9RiX0i6G+W8lalIvCno72gtsKElIq4JfbCW9d6cVkCT2KxF3ZIWdGP7Ksz9oJmhWZ5XNEsT9rtmyiZHmNjY+jo6MDrr7+Of/mXf8H4+Dg++tGP4qmnnsJjjz1m+nekw+JojxW/34+ZmRlMTk5KmVcXioqKkJWVlQ6Xz2skARKIgMDMXBCa3XFZHPK/ON+Ba1KOW++jc1JWM5qRJyU1q6W05m4J1Dwq9shmKSWtv7u1BGc6DcsfNCiC0S0pY6U23gmxR9r7JyPK7FjMqkL6eewRAUkDNtXGqynJNkxVaOIgARIggXQnQMFjDb8BVoTENakV/eP32yR9cRBDUoJJlfzVDI3cLJGU0H0ienzyoQbsEEe9W3pSaK3pdBrajHxISlddlKyOV892SCmrUcP0QSm2ixkpNy0Boo3hN1cXmvIfR7ZXoF5qoHOQAAmQAAmQwFoRsO5rV8Sx8D8i5Ot9bUwcDtq3I5phZXpoPw+t96xBEh/bX4etInqko70wKM1Vb0jPNC3J8b7UIG+TKFW1wVZrL2hW6CNSClPLhakNVirZNBzLE0iUTA8VO959910jePz85z9Hfn4+Pve5zxnBo66uDgUFBctfRAq9Y/VYUeFDS3ypCOrxeIzwkUKXyUshARKIgYDeN9V3oWWXTkopK83uMCWXFvW6etBH6G9s9V00yH3zIemZqaW5t0lP0nS7b1r+oJsidrx6rsMEv2pfNu3bEUlmx2LOXgnYLJCAi+1SKuxDe2qwSwIxSqSEWLaUEuMgARIggXQnQMFjDb8BVuqiGgz/+W6LSV2MpEbjcqdoRW5qqYrffKzR/OBOx1IVwxohIQ3UzkrWzOuXutAq9UVjGVat0f2SOfPrhzaYWqMaJaG8OUiABEiABEgg3gTsvq/RXphfMRU4NLPjbMsAboiIpEEnsQwNOtkmToYDjWUmYlUdORwPJrBcpsfDDz9sGoY3NjZipabhpgdH0C/lVKymriuXVFl8Rjdu3MDLP/wRTrzzDm7cvIGNGzfiS//Hl3DkyBERPwqQ5c2SUqcuIwAsPpbPSYAESCCdCPC+ae9q2+0Pss5ug/QffaqpBgek6sfminwUSyYvxxoQCEkJsoD04RV7xNahNkiGrKGTwpWtXDlZ2hGg4LGGS661uNsGJ00pq9fOd6JFSiqsRsm3TtmK3GyUlNCn99Wa0lYNko1QICmj6TQ6h6dwsnlABI8BXJK0UI2SiGVYtUb3bCjG8483Yq+kh2ZLRIo2euUgARIgARIggXgTsPu+RnthfsWuS5Tqf59qNQESg2MzmF5lhq21/moblBZkGQeDBkhslywPjgcTWC7To6GhAZ/61Kdw6NAh1NfXL5tpMef3STSsNMydm5H+dwGoABLNuHjhEv79u9/DhfPn4RfhZHfTLvz+H/4+HnroIeRm5yHHmwNvZpZk/dLREA1X7ksCJJB6BHjftHdN7fYHWWenWbxN4rM4sKkMj2wpQ21xjvUWt3EkEJ6bQnhqAOG56ErOPuiUHJ5sOHLK4PBwHR/Eiu+TwEoEKHisRMfm9wYkkvCqNKbS3h1aq7FDIg3tGHUSUai1ubWXx87aIpRJxGE6jRbJ6HhNMjs0w6NVMj20iZodY6ekhD5/uNFEbhbmeKApoxwkQAIkQAIkEG8C8bqvpbu9cFFKWf3bG83GDptdRSmrxeuuJTq8Inqo/fWZJ7dgj5To4IicgJXpcfLkSZw7dw65ubn4+Mc/jkceeQSbN29GcfHSPMenxtDZ34ahsQFMz06L6OGP/ENlz5vXm/Hj//opWu/cQXZeNrZu34oPHXsKO3fuRElBmZSLLTXbbG96N9WNCip3JgESSEkCvG/au6zx8gcVSkbHBsns0AyPpyXTo1EyPjjiTyA00Ydg10WExvts/TBnfgVcNXvgzKuwdV5ORgLpRoCCxxqueK80Gz0nGQjqmD8jGQndkplgx6gWBf+gKPl6g9svyn6lNK9Kp9EsNTB/Ir07VEjqWUWz8uVYbZNIzU9JxKZyrZAIzhxxanCQAAmQAAmQQLwJxOu+lu72wjnpnfavx28YO0wbw2uWbSxDex5oVqjaCf/r2Dbslx4pHJETsDI9mpubcerUKdNHYs+ePdiyZQtqa2tNb42lZuse6MDpq+/idtcNjIwPSx+W6CIrR4fG0NrcjomJCWRmeVBYXIiq2krU1zZgU802bKrdah7F+SVLfTxfIwESIIG0IcD7pr1LHS9/kDaFr5Km8BqA8YkDddgivdo44k8g2HMNc+degm7tHK6qHfDsfw665SABElg9AQoeq2cX9ZHdI9N4X8ouqWP+vIgevfLcjlFZlI198mNbb3APSRpjtTxPp6ENSH8kTeBVSOoTplOz0UX6LcdqizRSe1aawStXZZonTV85SIAESIAESCDeBOJ1X0t3e0HthG/94pqxw+xcQ7UTPv+RHUb4sHPedJlrYGAAV69exczMDCorK1FWVmayO7KyspZEcKf7Fv7nzM9w5fYFDIz0SZZHdAFEgbkgZqd8UnI7jAyPa/4hWbwVpVXY1bh3/rFpL8qLKpf8fL5IAiRAAulCgPdNe1c6Xv6gHK8bFeKv0ACMT4n/QhvCc8SfQKDtLHxv/TMC7Wdt/bCM+gPIPPoFZDQcsHVeTkYC6UaAgscarni8bnDp7sCIl2OIgsca/sfBjyIBEiABEviAQLzua+luL9Bx88FXLKH+8Pl8GB8fRzAYhNfrRWZmJjweD1yupUuJxip4hCW7JxgImQwfp2ToOO4+yosrKXgk1DeDJ0MCJLDeBHjftHcF4uUPouBh7zpFOhsFj0hJcT8SWB8CFDzWkHufNMi81D5sMhFO3uhDl5RfsmPUSPriI9sqjKLfVF9syi/ZMW+yzHGrdxw/u9BpuHYMTGB8as6WU99eW4jfeHSjcJV6znmZyPawpJUtYDkJCZAACZDAigTidV9Ld3vhgpQV/e7/3DT2gj8QhJa1imVoOSt3hsvYX5/90FbslbKiHPEnEKvgsdwZlhVVpKXgYZUWm5qaMg3gs7OzUV5ejpwcNktd7rvC10kgXQjwvmnvSsfLH5Qv/UbryvKMPfLM3lpsrsy398Q525IEKHgsiYUvkkDCEKDgsYZLMSqO+DvikNdIiePioG8RR70do1FuaMfkxqYpjBvlRqcNttNpdAxN4h0RkJTrtfYRDIiwZMdQx8UfiANDuWaKQ0MdGxwkQAIkQAIkEG8C8bqvpbu9cLVzBC+9d8fYCyMTPszOBWJaSq8EQhRJQITaCc9JgMTO2qKY5uPBkRGg4BEZp0j30ubx77zzDu5IE/e5uTnU19fjQx/6EDZu3BjpFNyPBEggRQnwvmnvwsbLH1Qm/UZ31BcZe+SwBMLWleTae+KcbUkCFDyWxMIXSSBhCFDwWMOlmJYf1kPyA/uc9PB4+VQrrneOmujC1TbNtJplaibCp6W59n6pIZ2OmQgD47NQY0wFjxPXetExOBnTqroznNKg3G0MhheObkZTQ3FM8/FgEiABEiABEoiGwAf3NbEX3rveh46BSVN+Z7X5CFq2J8PlhNoLn3q4AfukuXY62gt3+ifwy0vdpodHS88YRiZ90SzLffsW5mZiQ0W+sReebqpBY0XeffvwhdgJhEIh09BcS19pNkJbbwvONL+LW53XV9XDY7kzStcMj+vXr+OHP/whLly4YEqLbd++HX/wB3+AvXv3LoeKr5MACaQJgZa+Cbx2qcv8zm7tG8dojPfNIrlvNkpDbe199eGmamwsT6/7puUPOn9nED863Wb8QYFgSLLrVmfhaTim+oTqynLx6Hap+CFcNfiiLN+bJt/Q9b1MCh7ry5+fTgIPIkDB40GEbHxfSyf4pITCxdZh/H8nWqAporO+APQmt5qhzgtvZoYpofBbjzdiz4bitMxEmJoNQNNDz7YM4Een2nCja3Q1OD84pjAnEw3itFCD4SN71YHBlNAP4PAPEiABEiCBuBOw7mv6g/inZzpwU+5r5gdxeHU/iD3SkDkvyy12Qokp1bhbogDTMXOxX2yFyx0SIHFXSOqMMUCiujgHB7eUieBRhv3CtrJw6Sbbcf/CpPgHaNbB5OQktLm5ZiN0Dbajb6YT/eNdFDxsWHtL8Dh9+jS6u7uhgseXvvQlPPzwwzbMzilIgASSmUDv6AzOic/i7O0BEZoH0D0cW0nu2tJfOeZ31xWhXDIT0mlY/qDLUpXivyTj9KKwnZjxY84fXBUGp4gd6hPaWlOIZw/WmYCWCmGa42Up7lUBjfIgCh5RAuPuJLDGBCh4rDFw/bhmiSr8yZl2EynRI0aD3uRWM9R5USU/trWUwicO1mOLREuk4/CLYDQtwtFl6Y/y3ydbcUkEpSmfH35pSBnNsCJgtcb5wc1lYjCUIB17okTDjPuSAAmQAAnYT8C6r10XoeNn5zpxsW0IQ5LNOCP3umiGFfmnmQiWkH8sjTMRJmf96BmdNnbC8YtduNk9ZphGG3hi2Qubq/Lx4T21xl6oE9uhIDu9SopG812MZV+rx0RzczNOnTqF3pEuuEvCmHNOY2RiSNZwOpbpPzi2KK8Um6q2YceGJuzdfhDVZTXIyMiA0+n8YJ9U/OPmzZv4yU9+ghMnTkDFj61bt+IrX/kKHn/88VS8XF4TCZBAFATGpufQIX1Hz98Zwi8vduJWz/h8AEaUGQnqlM+SQM2t1QU4tqcGTRKoWVWYjVyvO4qzSZ1dNXPmuGbOSABGm/ytmTNa9SPasBZlWiLZHHsaSvDM/lpsF+EjW15zC2+O+BOg4BF/xvwEEoiFAAWPWOit8tg+iZS4IM4LvcGdvtm/6ubl6ph/eGu5yUTYKze5ijSNLAyJcaDREi2SZqulKtQgM4bDVHSlKqwI2O2SBvq09ETRCNh0LPmxyq81DyMBEiABErCJgHVf6x6exlnJ8jjXMoQLsu0bic6xa0X+bZCsxaO7qoxjfpNkLRaLAJKOQ4WNWYmi1MATtRcutg2jWxw5E+LQiWZY9kKT2F6fPtSAXRKlSgdDNASj23d8fBydnZ04efIk/uu//ssIHo1ip+WWeSXAZQL+YHTrt9ynZ2XkosRbiS11O/DovsNobNhkGnd7PKktZLW0tOD48eN488038d5776GxsRFf/epX8cQTTyyHiq+TAAmkCQErAOOKZEe+LJUULokPYzUZCXkSEFAtvos9UipaS1lpoKZXsk9VCEnHMSwCx23xXajf4q0rPWgV0WM1mbwVRdnYK2VK9zeW4IBsq4uzTd9Rtf844k+Agkf8GfMTSCAWAhQ8YqG3ymOtCMMbXWM4JYLHbfnhrTe9qbvlrZar4WhFFOaIaq/Oik1iKBwSwWNbTUFaR0hYy2CVqrgmvVGaJSq2U5wYWp9bI2JXipiwIk5U3NA02931xXhMmn1tkAbwbpdDIvtoMFiMuSUBEiABElg7AlZkpWZ6nL01gJbecWMvaFajCv3L9QCz7IX8LI8JhtguDvnDUtt5s9gNBZIdmilOhnQevZLlcU6cDOrAuSVZHj0iLI1JkISKISsN5ZYnTEvyM1EpToZddcV4UoSkBqmdzRE/AlrOqre3F++++y5efPFFtPfdQcPuKuSVZyPo8CPsWHndHnRm+t9RKCj/Pc2K423SjfL8ajRt34uGug0oKipCfn4+srOzP3h4vV6oCOJypcZ/R5aY9Prrr+PVV19FZWUl/vIv/xJPPfUU9Fo1y4WDBEggvQm0SS+xN8Qxf6VjWETnack69YnwMQffA+6bKmoUSLnoKnHEb5bsDg0Q2C9VFColuyOdh3Ibkyoft8QP9I70arsu/UgHpOzm+LRWqQgaG28pPlbmbraUrCrJ82JTpfQRk8oUmtnBTNOliMX3NQoe8eXL2UkgVgIUPGIluIrjrQhDFTk0elMdGafFkaGNwFaKmLAiCrVB5sN3b2yq4qv4kc4REtYSGMNBojT7x2bRLnW5r4nh8L5w7RqcWjFiwoo4UUNBuW4Ww0ENCBWWtAkYAyQswtySAAmQAAmsJQErsnJowrqvjZr7mjoeVuoBZtkLGhhxeHsldoqDQbNAVezQMgfpLuSrsDEqAkfn0DRuirPhmggfF0UA6RMhZKVRmp+FHcJSm79rWY56CZLQxqCa3cERPwKBQACzs7O4cuUKXn75ZVy7fRl+7xTCWQG4s1xwuWMLTAlKCVSfOJ7G+6fQf2sUQSlRX5BXgOLiEpSXl6O6uhr19fUfPFQQUCEkKys1as8PDg7ixo0bUMHj+9//vhE5/vRP/9QIHhUVFcjNpaAXv283ZyaB5CCggRYDUlpTf2NrOcjrEmCo987B8ZkVL6BChI09InDovXOr2CS1JdnQfpnqu0jnoQGuauOp6KHVP9QfdKq53wggIxMSgDG3dAlTK3O3vlx6oUiAplakUFtEfRfMNF37bxQFj7Vnzk8kgWgIUPCIhpbN+1qODHVcqOBxWyI3R8SpMS03OO1LakVuWk73bE8Giu4q+eqY14hC3tjuXxTlNySGgkZMqOChfKeX6OmhBoNLsje0tnm9sNwmggcjTu7nyVdIgARIgATWl4AVCXhHAiP0vqa1nzUjYXFk5WJ7QZ3yzFhcfu2sDBp13pyXMqPajFVts8WZtioQqVCkEak7JQtUM2sbpUxYkThtONaOQFdXl+nhcbn5Au4M3MCobxAOTxiOGP1mluAxOTiDodYJTA/PIugPi43oMs5/FTdU9KitrTWih/5dVlaG0tJSEUWKP8gAcbuTsxa9lgxTtip4fOtb34IKTJ/5zGeM4LFp0yZzjWu3yvwkEiCBRCYwIraH2iBaqeKq9M/UjMmV7pvV0m90X2OpCRJgBsL9KzsvfISlT8okTol91yz2SL8w1YogC/1B1pHuDKf4f9zGBnlUM3crmblrsVmPLQWP9aDOzySByAlQ8Iicle17WjW6NWJCsz2GxUk/NDkrN7jAPYaD9UM7V1MXc70oltJLmtWhYoc67Fmj8d6l0TIfPkkFnZSICS1pNSQPjUhRzguHOi+yM13Qkh8WU0acLCTEv0mABEiABBKBgBUJqKUv1V4YlHualnHU5wvHYntBSzUyY3EhoXv/tgJPxqSEhDJVR46KIIuFJC1lpQ3JC3OknJXYYQU5bskCdcMjjgeOtSMwMzOD4eFh3Gq/gZPX3kJLz03JjB6T9ZqN6SSsklYZIQ+ywgVw+tzwTfgxOjRuSmlNTEyICBYypZ20tJWWuFKhY/PmzTh06BB27tyJuro6FBQUxHQe63WwNoUfGhoygsc3v/lNaAmx559/3ggeu3btMlku63Vu/FwSIIHEIjAnGXFTEkg4NuU3fovRqbkV75saGFAqmZAF2W4Gai6xlJaooQGbat9p0OagBMBq1Y+lhCT1/2hmaakEwaqNp03fmbm7BNg1eomCxxqB5seQwCoJUPBYJbh4HGZFcOoNzy/GhBVhaBwYquZLhgdrb0dP3sr4uE/wuMs0y+OiARY9Vh5BAiRAAiSwTgSWu6/RXljdglgRlsp1JcFD7TD29lodYzuPutN9C/9z5me4cvsCBkb6MD0rNahsGPnZRVIDfSMKM0uREcjExMgU2tvb0dfXh9HRUajwoeKAZkA4nU5o9sPTTz9tRI9t27aZjA8bTmPNp5ibm8PU1JQRPL7+9a9DS1x98pOfNILHwYMHTXbLmp8UP5AESCChCfC+GZ/lWc4fZH2aCh4qdKg9wrH+BCh4rP8a8AxIYCUCFDxWorPG71kRnIG7jUhV8dehPSS0TEXG3ZIK6tDgiJyAlfERlIaUC4dy1AwZ68FMmYV0+DcJkAAJkECiEljuvkZ7YXUrZkVYqv21VESlEZIkK1TtMKts2Oo+iUfZQSBegkdJQRm21u1CY9VWKXW6URxKuUbgUKFjbGzMCB8qgGiT7+7ubtPH48iRIzhw4ACSWfDQ7BUVcbSk1de+9jVzfSrkPCVNyw8fPmzKeNmxbpyDBEggdQjwvhmftVzOH2R9msvlQGaG9K6iP8hCsq5bCh7rip8fTgIPJEDB44GIuAMJkAAJJCCBkPT6CfgAeZhtKGjPSUrNckeG1KWXh9k6GUFkD1jOQgIkQAIkYAeBeAkeZUUV2NW4d/6xaS/KiyrN6VoZEAMDAybjQ0UPfXg8HlPOSktbrVTSyirF5fP5TFksPc7r9SIzM9PM4XLF2ITkQVAjtBfeee8U/ur/+jvcvtOGPXv34fBjh/DRDx/F5g0NS38C7YWlufBVEiABEiCBtCBAwSO6ZVafRXh23PgvojvyAXur38KbP++7eMCufDu9CFDwSK/15tWSAAmkCIHw3BTCUwMITc4/wnPTtlyZw5MNZ26ZeThyyqQhbI4t83ISEiABEiABErCDwFoLHlYGhAoWWtLKemhZK+3nkZubC+3tsVzTcm0Ifvr0aahgovtq/4/KykrT+FwbomdlZdmBZdk5IrUXzl+7he++JKXCbnUgJ68Qe3duwm9/9DHs3FS75Ny0F5bEwhdJgARIgATShAAFj+gWWv0Wwb6rxn8R3ZEr762+C1fFTuO/WHlPvptuBCh4pNuK83pJgARSgkB4ehjBodvyuIPQUCtC06O2XJczuxDOkg1wSR1zV8kmOLKLbZmXk5AACZAACZCAHQTWWvCI9ZyvX7+OH/7wh2hubjYZHdrcXAWPiooKI3oUFhYawURFE32oAKIZIBkZ9mRYRmov3OkawGunr+NWxwDmpAxsY00pPv7YTmyuLVsSAe2FJbHwRRIgARIggTQhQMEjuoUODrXAf+O48V9Ed+TKe6vfwr3tmPguGlfeke+mHQEKHmm35LxgEiCBVCAQGu9BoOscgt2XEey6htDEoC2X5cwrhatmB1zVu5FRsx/O/Cpb5uUkJEACJEACJGAHgWQTPM6fP4/vfve7OHnyJMbHxxEMBo2gkZeX90G2R319vemVoduamhojhmg2iB0jUnthdHIWrX2jGJmYRUgK9BfmeqWfSRGKZLvUoL2wFBW+RgIkQAIkkC4EKHhEt9LBrkvwnX5RfBiXojvwAXtn1DQh8+EXxIfR9IA9+Xa6EaDgkW4rzuslARJICQKh0U74295DoP0sgu2XEB7rt+W6HAXlcNU3IaP+ANwNj8JZuHQpC1s+jJOQAAmQAAmQQJQE2nrv4K1zx3G99TIGR/sxPTsV5QxL715aWIHtG3Zjhz427kZpYfnSO0b56o0bN/CjH/0IZ86cQW9vL0ZHRzE7O2sahetUKmxoxocKHSp41NbWoqqqymz1uWaExDIitRfmgiFM+YImu0M/zyPNcXMyXbJ1LvnxtBeWxMIXSYAESIAE0oRAoOM8fO9+B0HZ2jlcdfuQ+dgfIUO2qTQoEKXSaibHtVDwSI514lmSAAmQwD0EInVg3HNQBE/owIgAEnchARIgARJYNwJdAx04ffUEbnfexMj4EGZ89vSwKs4vxabarXcf21CcX2LLNU5MTKC7uxs9PT3o6+szoocKH52dnWhtbcXg4KARQBwOhylppQKI9gZ56KGH8MILL6CpKbaIxUjtBc3qCITCkt0xf9lOB5Ah/+eU81pq0F5YigpfIwESIAESSBcCwZ4r8J39D+jWzuGq2oXMA78D3abSoOCRSquZHNdCwSM51olnSQIkQAL3EIjUgXHPQRE8oQMjAkjchQRIgARIYN0IDI8NornjOnqGujA5PYG5gM+cy+zMLIaHh6FNxlUw0F4Y2gfDoZ77CEZeVj4qS6pRWVqDqpIa5GbnRXBU5LvMzMxgZGTENC9XwaO9vR23bt1CR0cH+vv7MTY2ZoQPPX8970OHDuGLX/yiET4i/5T796S9cD8TvkICJEACJEACsRIIjbTBf/sthIbbYp3qnuOdxQ1wbzoKZ1HDPa8n+xMKHsm+gsl3/hQ8km/NeMYkQAIkADow+CUgARIgARJIRwJzfp8ROmbmZhAIBkTgCBoM3V3dOHX6FObm5rBz505TIio3JxdujzsiTG6XG95MaRjukYdsM1z2NA23Plx7d+i5+Xw+I2xMT09jcnLSCB0LhRDt8xEIBNDY2IhnnnkGmzdvtqZY1Zb2wqqw8SASIAESIAESWJFAeG4a4akB6NbO4fBkw5FTBt2m0qDgkUqrmRzXQsEjOdaJZ0kCJEAC9xCgA+MeHHxCAiRAAiSQpgRUHNCeGFeuXDG9MjST4siRI9i1a5fphaHNwRN5qAgyNTVlslM080MzPfS14uJi7NixA2VlZUuevt/vh4omKpBoZotyyM7ONpktXq/XbPW5a6qPPb+WJMgXSYAESIAESIAE1ooABY+1Is3PsQhQ8LBIcEsCJEACSUSAgkcSLRZPlQRIgARIIG4ENEtCe2O8++67+N73vmfEg6effhqPPfaY6X9RUVERt8+2Y2ItYaVihYocKtyokKGveTweU5orMzNzyY9RYUTLYV29ehWnTp0y2SLa5Fybn1tN0Ovq6pAXnqDgsSRBvkgCJEACJEACJLBWBCh4rBVpfo5FgIKHRYJbEiABEkgiAhQ8kmixeKokQAIkQAJxI6D9LzS74/XXX8cPfvAD8znPP/88nnrqKZPlUV5eHrfPXs+JNavj9u3bOHnyJH7605+apugqdFgPFT5U8CjODMIzehN5Yy0onmhD1tyoLafNnl+2YOQkJEACJEACJJAWBCh4pMUyJ9RFUvBIqOXgyZAACZBAZAQoeETGiXuRAAmQAAmkNoGWlhYcP37cCB5vv/22cfh/+ctfNoJHSUmJKfOUigS0lFVXVxdOnz6Nl19+2Yg+miGiY2FJq+IcN2rzgd1FQRwt86M+J2QLDgoetmDkJCRAAiRAAiSQFgQoeKTFMifURVLwSKjl4MmQAAmQQGQEKHhExol7kQAJkAAJpCaBcDhsSj9dvHgRL774oilppT0wtHfHn//5n+Pxxx+H2+2Gy+VKSQDaq0Sbnd+4cQMq9Fy/fh2Dg4OmB4j29tD3VQDJygijujATh2oy8ZvbsrCjxJ5m7BQ8UvJrxYsiARIgARIggbgQoOARF6ycdAUCFDxWgMO3SIAESCBRCVDwSNSV4XmRAAmQAAmsBYFgMGj6XZw4cQLf+MY3TIaDlnPS3h0vvPAC9uzZA6fTCYfDsRans+afodevfT8mJiaM0DE6Omr6lwwMDKC9vd1kf6gANDU6AOfsCHYW+Cl4rPkq8QNJgARIgARIgASUAAUPfg/WmgAFj7Umzs8jgWUIzAVCmPL5MTUbkIcfPnkelKaV4UWVB/R3u/54z3A54fW4kJOZgfxsD7LcLvN6iv6uX4Za+r5MwSN9155XTgIkkN4EfIEgJmbm7YWZOWl2/QB7wZ3hRJYnAzneDORlueHNSA17YWpqCurc194d//t//2/TuPzIkSOmlNWxY8fQ2NiYVl8USwDS3h4LBY+R3nbM9t9CdXiAJa3S6hvBiyUBEiCB+BAIhcLwB0OYmRN7RPwW0+LD8MnfgWB4yQ90Oud9F1niu8gVO0T9F17xXag/gyN9CFDwSJ+1TpQrpeCRKCvB80h7AiNTPrT0TZhHa984BsZnMSuOjIA4MhYOy2DIE5GjvDALGyvysbuuCFWF2XC7HBLNmJqRjAsZ8G+Agge/BSRAAiSQngQGJ2Zxo3sMd8Rm6ByaxPCEb0V7oSAnE7WlOWIv5GFbdSHK87NSwl7o6enBuXPnjOChPSy0dFU6NCtf7ltvlfjSrI+FJa18w52Y6zyLzIHrbFq+HDy+TgIkQAIkEDEBnz+IMQm86Bqewk2xR9oHJtA/OoMpeW2p4RFxQ30XVUXZ2FpTgIayXOO7yPW6l9qdr6UoAQoeKbqwCXxZFDwSeHF4aulBwMrsaB+YwoXWIVzrHEVr/13BwyeCh0RPLBzOu9kdedluETyysaW6AAc3lWFLVT4qCrJMxMTC/fl3ahKg4JGa68qrIgESIIHlCFj2Qmv/JE7fGsD1rhF0Dk5heFIEjxXshYJcD2pLcrFZ7IW9DSVorMxLCXvh5s2b+MlPfoK33noL2sejuroan/vc53D06FFUVFQgNzd3OZRp9TrthbRabl4sCZAACcSNgLTOgorrQ2J33JYATRU7rnaMoK3/ruAh2R5LDSN4SGZHVXEOtootsqO2EE0NxXcDNp0M2FwKWgq+RsEjBRc1wS+JgkeCLxBPL/UJWJkdV9pHcLq53xgMU+K40MiJoKSLqlGxcGj+hilpJSUqNBVUszzUibFHnBiPbClDjRgSHKlPgA6M1F9jXiEJkAAJLCRg2QuX20ZwqrlPgiMmMCP2wnxJq+XtBVPSSspHlEtQxKaqAuNkSAV74ezZs/j2t7+NkydPmowG7dnxhS98AY888gi8Xi8yMuxpzr1wDZLxb9oLybhqPGcSIAESSDwC86WswrjVO4bjl7qg9sjA2AzGp+eM72JxoKZ1BVaFClPSSrI6dkh1iqf31mKnbAtECMkUnwZH6hOg4JH6a5xoV4a9FMsAAEAASURBVEjBI9FWhOeTNgSsCImOoSm8e7Mf51oGcbV92BgN0UDIEaNBRY/dEiVxrKkG2yRNNCfTDY8IIgkxQgGEAz7pUuWb34aC9pyWU2qQZ2QC8jBbZ3o5NujAsOdrxFlIgARIINEJWLWy2yWb45QERpy/I9mgElE5OD4T1alb9sKejSX42L46Yy9kSj8PV6KUwgz6EZ6b+pWtsLiJ2d2rVYfK7Jwf754+g7//v/8V169dR1VpAR47dBAv/O5vo2nXrnu50F6Av+09BNrPIth+CeGx/nv5rPKZo6AcrvomZNQfgLvhUTgLa1c5Ew8jARIgARJIBgIalNknAsfF1mH84kInbnSNLplh+qBr2VCehyebqrG/sRSbpDx3Sa78npcqFonSi1R9F+HZceO/eNC1RPW++i28+fO+i6gOTI2dKXikxjom01VQ8Eim1eK5phQBK0LiaucIfnS6TRwYgxiROtzagDSaoc2+NCpCa3M/vqMKezcUo1H+LpKa3YkwjPNiagChyflHeG7altNyeLLhzC0zD0dOGRye9MpsoeBhy9eIk5AACZBAwhOwamVfkaCIV892QDNCJ2bmoymjOXnLXtgupSQ+frBe7IUSlORlIlsamifCCM+MIjjSZuwFqPAhAshSY2rGh77hCbx99hr+9T9fw9DQEA43NeDIge04+uhB1NdU33MY7YVOCh73fCP4hARIgARIYDUEtGfHyeYBnBO/xdW2YfRJ346lKlI8aO586edRJ3089koAhgZsbq4sSKjeYuq3CPZdnbdHHnQxUbyvvgtXxU7jv4jisJTZlYJHyixl0lwIBY+kWSqeaKoRmJkLYlgalWuk5ssnW020pkYthhaVsIr0usukVMXO+mIckEiJx7dVoE4alCbCCE8PIzh0Wx53EBpqRWh61JbTcmYXwlmyAa6SjfLYBEd2sS3zJsskFDySZaV4niRAAiQQG4HRqTnckYagZyUT9Pj5TrT0StRhDKNBIiuP7qoy9sI2KYlZkueNYTb7Dg2NdyPQ8T6Cgy0Iz4wh7Jfs0CXGvOAxjou3uvGLk9ehTbof21WLPZtrsKm+CkUFefccRXuBgsc9Xwg+IQESIAESiIqAlWl6Q3p2/PRsOy6I/8I0KV+mZ8eDJtcADK+U2tSSVp98qEFKcxejMMdjynU/6Ni1eD841AL/jePGf2Hn56nfwr3tmPguGu2cNmnmouCRNEuVMidKwSNllpIXkmwEBidmcU3SQLWU1YlrvWiXJqTar+Pejh2RX1WWRGgWSaTmgcYyPPfYRtMMLPKj47dnaLwHga5zCHZfRrDrGkITg7Z8mDOvFK6aHXBV70ZGzX4486tsmTdZJqHgkSwrxfMkARIggdgIaOnLEzf6cPb2gJS+nK+XHcuMxSJwbBKhQwMkPiTCh5aWSIQRHLwF/7VXxVa4JLbCiJS3WrpkV/BuSauxyVnJ9BhHKBRCSX42CnKzkJvthdt9b8YK7QUKHonw/eY5kAAJkECyErAyTS+2SqDmqVaTaaqvLdez40HXqeWrtJzmBqlK8cSuauzbWCpZHnkoltJWiTDUDvGdflF8GJdsPZ2MmiZkPvyC+DCabJ03WSaj4JEsK5U650nBI3XWMmmvxOplEZAG3X7NcJDtwqFNrvSGaD2ciVLcceFJruLvjqFJvGMcGIO4ZoMDQ7lotITW5v69JzaL4VCCRKjNTcf8Kr4cERxCISkCSNyFBEggpQhEYi+45T6YITZDItWCjnURbnSP4mUpfXn29mBMEZXWeXitAIlNpXju0Y3YWVtkvbWu22DfNcxd+E/TayI8NoSwb2nBI9qTTPdeE7QXov3GcH8SIAESWJmAlfGg/gsTsHjXfaFuCrU/1A5Re0T9GKkwxmf80HJWaoe8cqYdt3rGbLmsiqJsKWtVagIwHt5chpribFvmjXUSOuZjJbj08RSSlubCV+NHgIJH/Nhy5ggJWL0spqV3xdj0/TWp3dJ8W+tLZ3lcyJbURzUeUmHckpIUP5NmX2o4dEipinEpWRHLUHNKDaztdYX4tUc2GsMhEWpzU/CIZVWXP5alwpZnw3dIgARSk8CD7AXtZ1UgdaHVZnC7HCnjaNCIyv/3jWZjL8QSUWl9KzSAxC3Nyg+I4PHZD201vTys99ZzS8EjPvRpL8SHK2clARJIXwJWxoP6L/yBXwVsqsBh+S4Kstymz2YqUOqXRuWXO0ZMac33rvehc3DSlssqkJ6jDZLloRmnH9krZSmlgXkiDAoe8VkFlgqLD1fOujwBCh7Ls+E7cSbgCwSl6aYf4yJyjEzOYVS2SwoeInBkZ7qQl+UxjbiLcj1S4zETWeLYSOYITq2B+aP35yM2+0amMbXKGpiLl2mLlKl4VmphquFQLVETeWJsreeg4BEf+mwGHx+unJUESCDxCERqL1iCh973cr1uET/cKWEvaGDEt35xzTga7FwdtRM+/5EdRviwc97VzkXBY7XkVj6O9sLKfPguCZAACTyIgJXRMeULQPtqjUz6MCRlFSdnRfBYUKHCCB7iu8iRIM1CCcAokL4U2ptCbRKv+C60GkMyjm7xVbwvZTW1l9h5sUl65bkdI0e4aJaHBmB8SvwX2lcsEQYFj/isApvBx4crZ12eAAWP5dnwnTgT0B4W6vS/KaUamrvGoJEDCw0G6+O1VJNGI+aL0VBVkoMtVQWmXFNNUU5SR3BS8LBWeHXbdC9RgVAA4YA0dJWH2YaCqwO5+CinCIkZUj9VHmbrvLcW+uLd+ZwESIAE4k0gYntBIyvFmaD2QqX8gN6cIvYCBY/YvmG0F2gvxPYN4tEkQALpTsDK6GiTqgznpWH3nb4JjIgvQzM8rHKbysgKxvSILaLlI2tLc0wW5aaqfFQVZhvhIxlZUvCwZ9Uy6g8g8+gXkNFwwJ4Jk2wW9VmEZ8eN/8LWU1e/hTd/3ndh68ScLNkJUPBI9hVMwvOfk7TPKZ8frdKk+/StAVxuH8ItET6GJ8R5u8LQCIDywixsrSnEo1srsK2mABUFWSaCYoXDEvatm1L78sdSA1MdGb1SE3NSsl3sGNuEz6cObTCREonAhxkedqwq5yABEiCB9CNAe2F+zc/dGcS/Hr9h7IXg3XrhsXwbrBKYGlH5x09vx37J9EiEwQyPRFgFngMJkAAJkIBFwBIzhiSj43bfuGnWfUYyHdr6J0ylijlp3L3UsHprVklPir3SV7Opodg8VPRIxt4evaPTOCflNdVvcaZ5AN3iu7Bj5N0NaNWM008cqDOBrXbMG+sczPCIlSCPJ4HEIEDBIzHWIa3OYmTKhxaJirjcNoJTzX0SITFunP3q2FhpaAqolquwRI+9G0rwyBZtbpWz0mEJ+5728HjlXIdJDe0amDSlvew42Z11RXj+cKOUtCozKbSaPrueg4LHetLnZ5MACZBA8hKgvTC/dhfbhvFv2sNDSknMSjmNgJTPiGVYjhgVPP7ow9tM1mws89l1LAUPu0hyHhIgARIgATsIWL3DbvWO4filLlxqHUaPlHPSktx6L9b3lxpWYIFXepBqKe6d9UV4em8t9Hd6Mvb2GBifxdXO+R4eJ671Sv9Re3p4FOZmYoP07VB75OmmGjRKP49EGBQ8EmEVeA4kEDsBCh6xM+QMERJQo2BWoiDapcnVGYkOuCgGwzVpfjU4PhPhDPO7WZkeajg8tava1HrUJqUqhiTTaBVD4Y2rPSZSorlrVDJcZmM6fasJ6Z4NxXj+8UaTPpsITd4peMS0rDyYBEiABNKOgN32gkZWqqNBa0Mnwn0x2gW9LjbCf59qNfbCoJT/nBbRI5bhEXtJ+5wc2FSG3zm8CbvFnkqEQcEjEVaB50ACJEACJGAR0H6jWs5JAw9+ebELzVKhYTWBBxvK8/BkU7XpsanluYvF0Z9MQ/ustokPRwMvXjvfiZaecSnlFcbSck/kV6aBrE0SxKr2iAay1iZIICsFj8jXkHuSQCIToOCRyKuTYuc2KU25eyQd8kr7CN680oOb0rdjYmYOWhMzmmFlemhNTC3DsEdukrslWqJcylsl0+gdncEFMZ7Otgzg9M1+dA/FlhqqdUKL8jINk1+XklY7agtN7xON5FzPQcFjPenzs0mABEgg+QjYbS9o7eyndlcbe6FOeoFpkEQyjTYJkHhLIirVXrjROYohibSMZWiPk5rSXBNR+fH9ddhcmR/LdLYdS8HDNpSciARIgARIwAYCrVK66nXxW5wTR79WpdAS3KspLan33boyue+K7+KZBLrvRorI6mGi/Uv+890WXBV/jslw0ZpfMYwNktHxlGR2aIbHZsn0SBQhiIJHDIvKQ0kggQhQ8EigxUj1U+mTqMRL7eLgl+yOkzf60BWjg1/TQxvkJqmixzG5UW6Sv61GYcnAUiMlOoSBGg6/vNiJWxIpsVJq7HLXZKXMFud7sVmiV5XHkzursEGMqkQYFDwSYRV4DiRAAiSQPATsthe0hvaBzWWm1OMBqaVdJQ3Nk2lo0/ZrkuWh9oLaT+0igMRiL1TerSmu9sJDElVZnSA8KHgk07eS50oCJEACqUvAyjS9LI59zbC8JP0rNNtjuZ4dDyKhAZvezAzskYxTrcSgWy07ra8nw7BKe6kt8uP328QeGTTBFzOrzDjV684SHtslQPNj0rtjT0MJSiRwM1sCOBNhUPBIhFXgOZBA7AQoeMTOkDNESOC29Kz4maRAaipkx8AExqbmIjxy6d3cGU5pWO42jcB+S0oyNNUXSxMwB5zO9c1oWPps73/VLyW+tCzFFSnr9fKpNlxqW50hZdXi3liZhyekxNc+ceZo/csiEYQSYVDwSIRV4DmQAAmQQPIQsNteSNSMhkhXZGYuiGHpf6aOl1+c7zDlQFfjeLHshS0SHPHR/bViL5QasUPLWyXCoOCRCKvAcyABEiABErAyTTXQ4GdnO3Cze2xVgQYWSQ3K1PLTW2sK8PED9djXKMEX0sA815sY91/rPJfbWs3bu6S8l5YmV3/OBRE9+uT5aoY2K6+WjFvtyXpsT400K89HZobLMFrNfHYfQ8HDbqKcjwTWhwAFj/Xhnpafqj/U/+Od25LhMRBThMRieLslQuKFJ7aYFNEciRTwiBCSTMNKldXaoF1SG3N40geNltDIkpWGCjsaHaGOijIp57WjtghHdlRCHRmJ1AyNgsdKq8j3SIAESIAEFhOw215I1J4Vi697uedWZGWrBIu8LaWtNFAiFnthl5QB/ZDUEtc64onU04SCx3LfAL5OAiRAAiSwlgSG5Pe49utQv8Ubl3vQJqWt7BgN2stjd5XpWaH34JIk7OWhFSquSXnN95v7oQEqI3d9F5H09NCeq3lZKnZkY2t1IXZJD7H9EqxZKeJPIg0KHom0GjwXElg9AQoeq2fHI6MkoBES3/nlDRMRsJpSDMt93DZJhfy1RzYawaNMyjqp6JFMw2qG1iwlrc63DqJZIki0n8eElLxaaVgOnI1S7/LQlnLTs6NOanIX5Xgk08WZMJkuFDxWWkW+RwIkQAIksJiA3faCFSCgtbP/6MPbTCbk4s9M5OdWZOWE9ELT/l+x2gs76wpRr/aCOFo04nS9e31Z7Cl4WCS4JQESIAESWE8C8702h4zfwo5em9a1aFbDw1vLjd9ir5RxqpSm3ck0rAoV/WOzuC09Ta5IufL3bw1IEMbUfAbMA3p6lOZLkKYEXeyUh4od9dKTVcuUa3mvRBoUPBJpNXguJLB6AhQ8Vs+OR0ZJQHt3fOsX14zhEOWhK+6uGQ3PPtRgDAetQ50opRlWPOkFb1qRm9rQ/bJEbV7vHMEtET36pefJrJSxMOKQGA+W/eCSsl2a8lkgwkalXO+2mkIjeGjPjkSK1LQukYKHRYJbEiABEiCBSAjEy15QwePzH9lhmmNGch6Jts+y9oKIINNzAfgD92aGmprhHrEXpHREuURPbpNSGhogkaj2AgWPRPvG8XxIgARIID0JdEuppvclu0NLN50XH0bvKks3Laanv933SYNutUcSqYfW4vN80HO1OYakgbuW+jp5UzI9JBtmREpvarlubequ9ooOqeRlgio87vlS5PXir9gr5TR3SMBqIpXgXny9FDwWE+FzEkhOAhQ8knPdkvKs4+XASHbBw4rcnPEHMS5ZHV3D07gpRkOblK7oHZnB+MyccWJYhoM2+NKmXprNoamgDbItL/AaoSeRIjWtLykFD4sEtyRAAiRAApEQiJe9kOyCx3L2wh2JsuyQ6Eq1IRaOXCl5qWUiaiWitFGyQXWbyPYCBY+Fq8e/SYAESIAE1osABY+Vyauo4QsEpZyV+i6moHbIdWlo3iO+CxVDAncDMDTDVvuuqu9C7ZBGKeml1SnUFtFerIlaipyCx8rrz3dJIFkIUPBIlpVKgfO0u0SFhSTZS1pZ12Ftx8RhobUxVfjolawPdWBo+uhiwaOmeN6BUZrrTehm7RQ8rJXllgRIgARIIBICdtsLyV7Sajlmlr2gNkOH9AC7T/CQZqgqeFSLvaBlI4qkbIRbskSVRyIOCh6JuCo8JxIgARJIPwIsaRXZmlslrpTXje5RU3ZTszysXqRG8JBS2yV5XpPRof4LFT+yPYldgpyCR2Trz71IINEJUPBI9BVKofOzuwmphSbZm5Zb12FtLcNhRspZzUrWx30lrcRRkSlpoVliKGhkRKZETTgkX1RTRhNxUPBIxFXhOZEACZBA4hKw216wel4d2FSG3zm8CbulbnQqjIX2gjoY9PnCkSHihtedIfaCy5S89IjTIZHtBQoeC1ePf5MACZAACawXATYtj4x8SFJPNdtDy3BrnzHdBkMSqDlf0epXJa3EX5EjQRhqj2hpbq1KkciDgkcirw7PjQQiJ0DBI3JW3DNGAlrj8Sdn2k0tzB5JfZyc8cc0o94o3XLD3LexBC88sQX7NpQkdORiTBebxAdT8EjixeOpkwAJkMA6ELDbXtDSTlUSVaglrT5xsF7KQRasw1XxIx9EgILHgwjxfRIgARIggbUgMCF+Ci1rdU56eLwi/otm8WOExbl/148f9Smoe18DDrQU98fFDtkv9kgy9h6N+sKT9AAKHkm6cDxtElhEgILHIiB8Gj8C7VJu4e3rfTgrDcCuS3PuwfHZmD7MKxkORZISqQbDbz6yETul+VUiRy7GdLFJfDAFjyRePJ46CZAACawDAbvthdJ8L7bXFUmz8jIc2V4h5Z1y1+Gq+JEPIkDB40GE+D4JkAAJkMBaEPBJDwoVPbTE5kvvtuBK2/AHVRdW8/lOETsyJMtyV0Mxnnus0QRs5kkwhlZq4Eg8AhQ8Em9NeEYksBoCFDxWQ43HrIrA4MSs1HYcwwUxHN693itNuSfnDQcr5zHCWa0IiRJxYGytKTSCx9EdlWgoowMjQoRrultovAeBrnMIdl9GsOsaQhODtny+M68UrpodcFXvRkbNfjjzq2yZl5OQAAmQAAmsLwG77YX68lw8LnaCBkjsELuhVGpJcyQegeDgLfivvSq2wiWxFUYQnpux5SRpL9iCkZOQAAmQQNoQ0N6Z/mDYNOLWChUX7gxiYEwackv5yNUMr5RyKpQ+Wns3luLXH9kggZpFrEyxGpBrdIzaIb7TL4oP45Ktn5hR04TMh18QH0aTrfNyMhIggaUJUPBYmgtfjQMBX0BqO0qkxJX2EVPa6kr7sHk+J30qohlWhMSmqnwc21trIiTqSnJQkO2JZhruu0YEwtPDCA7dlscdhIZaEZoeteWTndmFcJZsgKtkozw2wZFdbMu8nIQESIAESGB9CdhtL+yQ7I5Pi4NBS2AWi8NBa0hzJB6B0Hg3Ah3vIzjYgvCMlA/x+2w5SdoLtmDkJCRAAiSQNgSkepUpYdUjzbgvtg2Z0lbvNw+gW8pyr2Zo0+4tNQV3AzWrsEECNVmZYjUk1+aY4FAL/DeOG/+FnZ+ofgv3tmPiu2i0c1rORQIksAwBCh7LgOHL8SPQ2j+B16/0iPEwjC4pczU86cOMREtoc+6VhlN6dmgqqKZ/lhVkYZc4MD7UVI0tVQWmGadb3uNIPALhuSmEpwYQmpx/hOembTlJhycbztwy83DklMHhybFlXk5CAiRAAiSQGARWay+orZDpdhl7oVicDLvri/GRfbXYKvaCWxp5qz3BkXgEwjOjCI60GXsBajsEY+v1Zl0h7QWLBLckQAIkQALREJiURtw9o9O43jkqFSr6oD3GRu76Llbq6WFVpMiUAIt8CcqsF4Fjj/Qb3Sn+i23Sx4OZptGswtrvq36LYN/VeXvExo9X34WrYqfxX9g4LaciARJYhgAFj2XA8OX4EbCagDX3jON866BpAtY9NIWJ6bkVP9Rz13mxsSIfh7aUi8FQaOpwF+VmQhuYa+YHRwISCAUQDkiUpjzMNhRdRs+yV+R0wZGRCcjDbJ0Zy+7KN0iABEiABJKPwGrthRyvG+WFWVB7oUnqZWuT8g1leSjK8TCiMpG/BiJwmCAJtRnUVgivHAgT8aXQXogYFXckARIgARL4FQENyJyVahT9Us5KfReXpULF+7cGJGhzasWeHlZFivKiLPFZFBu/xQ4pY1VTnG2CMTIzmGn6K8qJ95f6LMKz48Z/YevZqd/Cmz/vu7B1Yk5GAiSwFAEKHktR4WtxJWDVxNRoicvSvPxm1yju9I1jSJqY+8SgCC7q6aEGg0siMnPFgVEqmR3quFDBQ1NBszMzJFqTmR1xXTBOTgIkQAIkQALrQGCxvXCjcwQtveMYFHvBL04IfX/h0MwNtQmKJRCivjwPmyWjY3d9EaqLsmkvLATFv0mABEiABEiABCImMD0XwNCEz2R4nLzZb3wXk1KqW0twmkyPu+aIxl9qqSoVNHKlKkVdaS6aNhSbihQswR0xbu5IAiRAArYQoOBhC0ZOEg0BqybmjIgb45LV0S+Oi86hSfSOzIghMQs1KBYOdV6osKG1L2tLco3jorzAa6IjmNmxkBT/JgESIAESIIHUIbDYXuiVQIk7fRPQ7Zg6GsSOWDi0jFWBOBgqCrNNRkeFZHloKQnt2UF7YSEp/k0CJEACJEACJBApAQ3IVHFjZHIOXdLHQ3t59AxPY1R8GSYAQw0WGRqoqb6LQrE9qiSbo0oCLirFJimUDFMGakZKm/uRAAmQgD0EKHjYw5GzxEDAipgYFLHDCB7Sz2PhcGeI4OHJgJauUoOhIMvDGtwLAfFvEiABEiABEkgDAlYtbY2yHBMnw5KChzgZSvIyUSX2gmaGcpAACZAACZAACZCAHQRU3JgWX8XI1JwEa84HX/iDwQ8yTuczTeeDLypF7NBSmhQ67CDPOUiABEggegIUPKJnxiNsJmBFTMz5QyZy4v6SVpDITCc8Inx4JXpToyY0VVRTRjlIgARIgARIgATSg4BVS9sXCMEvj9DdiErr6k1kpdgKmXftBW1ezkECJEACJEACJEACdhBQu0N9FXNig8zOBU12x8Lm5VazcvVXeCW7VP0XzDC1gzznIAESIIHoCVDwiJ4ZjyABEiABEiABEiABEiABEiABEiABEiABEiABEiABEiABEkgwAhQ8EmxBeDokQAIkQAIkQAIkQAIkQAIkQAIkQAIkQAIkQAIkQAIkQALRE6DgET0zHkECJEACJEACJEACJEACJEACJEACJEACJEACJEACJEACJJBgBCh4JNiC8HRIgARIgARIgARIgARIgARIgARIgARIgARIgARIgARIgASiJ0DBI3pmPIIESIAESIAESIAESIAESIAESIAESIAESIAESIAESIAESCDBCFDwSLAF4emQAAmQAAmQAAmQAAmQAAmQAAmQAAmQAAmQAAmQAAmQAAlET4CCR/TMeAQJkAAJrJpAKBSGPxiCLxDC7FwAAXm+1HA5HcjMcMHjdpqtPud4MAGL76w/iBnhO+sPISC8g4s4K88MlxNe4ZvlyZCtC2557iTnB0PmHiRAAiRAAnEnoPctXyCIObmP6Xbxfcw6AdoLFonottHaC1keF/Ky3PCKbeZwOOQR3edxbxIgARIgARJIJgJhcVOE5f/m5Lf0tC+AOfFf6PPF3gu9Hep90ZPhRHZmBjzym5r3ychXWrlO+fziu1CbL2j8QyHlfBe02htO+T/1VShftUfUd6G+DI6VCVDwWJkP3yUBEiABWwn45CY2NuPH0MQsekamMTnrX3J+vZmV5HlRKo+SvExki1Oe48EELL79YzPoGJxE//gsxqfnoK8vHJliJORne1Ce70VdaS7KC7JQII4MfZ2DBEiABEiABNabwLSI9kMTPgyKvaA2gzoblhq0F5ai8uDXorUXaoqzsa26UOyGLHE6OBgg8WDE3IMESIAESCCJCcwHBoQxMuVD++CU2fqDQejrC4cGDLpdLhTlZKK+NMdseZ9cSGjlv5VvS98Euoanjb2n/iENkLU4z/N1Gq51wrda7JGqwmzket0rT8x3QcGDXwISIAESWAMC5oe1ON7VcaFCR+/IDHpGVxA8ROBQwaO8wIsKuaFViEO+TJzz6tjguJ+AZnFoVofybe2fFKNscl7wEOFjfNq/jODhNkKHCh718thQnmsEJkZM3M+Xr5AACZAACawNARU2BkSs75P7V5/YCf1jdwUPEUCWGhoQQXthKTJLv7Zae6GmJAc7aorEVshDdVG2BE24odk1GnXJQQIkQAIkQAKpQsC6T46J70JtEPVd6G/rkUnfvCPeSj24e8FW9kFRrgoeuaiSe6T6MAokuJC/q5f/Vlj2nrK92T0mvospDE3OmoBYv2R93CN4SPZMUY4HdSXzPovGynwjeihjBmwuz5iCx/Js+A4JkAAJ2EZAMw4ud4zgetcobskNrX90xjjo1aBYapgSFZJtkCtZB+rI2FFbhCd3VaGhLHep3dP+NY2EUAHpeucoTt7sxx2JkpgRp5GKIMp4cSmQX5W0ciFLRKSNFXl4ZGs5ttcWMmIi7b9NBEACJEAC60egbWASb1zpwbXOkflIP8kK1aCJxfcx6wxpL1gkItuu1l7I8WZAnTnbRfR4cncVNouzQYNQtMQEBwmQAAmQAAmkCgHrPnmzawzv3xpAW/8ENOv0g5JW9yZ4mBKPH5S0kiCMBgkMeGhzGbbWFPB39QpfCsveu9IxLMGw0xibmjOM1XexZEkrLRkmfCslw0N9Fuof2l1XZAI4V/iYtH6LgkdaLz8vngRIIN4ErAiJ233jePtaLy62DqNNnPGjkroYyfCI6KE1o3fVF+MTB+tlW2Sea38PDhhjQJ1AvSJ2XGobxvk7Q3i/eQDdw1NR4akuzsFDW8qwb2MJmhqKUSlZNYzcjAohdyYBEiABEoiBgPbpmBBx40r7CH5ypl22w+a51nOOZNBeWJmSOg9isRc0glXrZTdW5ePDTTXYK/ZCnWR9FEp0JWuVr8ye75IACZAACSQ+AU3c0B4dPRKYebFtCOdaBmP6Xb2/sRR7GkpE9MjifXLB8luVPzQY9pWzHbgapb1XKKXDGiRYU30Wh7dXolH+ZgDGAsAL/qTgsQAG/yQBEiABuwlYERKXxRn/y0vdaJZICW1KpWmKkQyt2ag/sDWz4zG5oekP7G3VBab0UiTHp/o+Wt9S00FvSObMzy904pIISgOSTbNcrfPleKiRUCZlw5o2FOOje2uxraaQhsNysPg6CZAACZCA7QS0JOMNyQC9IML9u9d7oZF/JspvUa3s5T6Y9sJyZOZfj9VesJqyFklftY0V+cYeO7qjChslkpW1yldmz3dJgARIgAQSn4DVs0MrUmjgxYX/v70zcY7rvK78JbHv+0psXECCC7hKsmRLw1iWPCPZ0ngmM5VyVVJxyv6z7EpSk6pUaiqJLcVWYkvyKLIsUwv3DQQX7Pu+byTnnA/4RKAJgugFje5+5yup0AC6X7/3e028++4999wHI1HdV5/aX+4Emy24r9Z18sn5984fTqh5d8h6YGUVTryXgU6PvKwMOwgBxqtwAGmFMJYCDNpbaW0koILHRh76TgREQARiQiBWCgm/M7S1akZb6GkoJV5F4YMFEHUgmFO/9qEF9DICst9e6rF2JIt8G6hnt52vXrnZjGLS98/UodOj3Hl0s7tGSwREQAREQAR2ioDvPGCB4w8odFyGopLiCA4qj2QpXticGrtnYhEv+E6aI7CSYKfHCXTecsZanmasbQ5ePxUBERABEUgKArStGp1edI4J73/ZYbe7J6K6r26pL7Z3XmxyDgplEAvQjinIy8d79+H8QSEsCx7hOH+EsuOc15MQw9Kh4tzBctsHxwrlhzZSUsFjIw99JwIiIAIxIRArhYTfmezMNGP7YmtTmb0Na6tj8G1U66K55MVX94Zdyy1VsQNjc64VN8Ra1GN85lev3KQnJrto2IL7wsEKV/R45ov0CxEQAREQARGIkoDvPLiJGVS/gaLyWseos71cWNqelVXo2yteCCWy+j2LHbGIF3wnDYeytrpEQ7mdw1d+ryUCIiACIiACyUpgEC4J12CvdBHCiy8xE7MXnQe0uIr0vnpfeZ69iBmZZ3FfzS6EKrgpBHn5eO86GP/yQodzpgjH+SOUHQfCF7n80Kr1+THM81B+aCMlFTw28tB3IiACIhATAs6bEWpCVu7/5fP78GYcj0gh4XfGdyCsKiUaXQeClBJmdwem7INL3Xbx3giCshmbmlvyyCL6WohW0H3l+XYWKom3ztS7oaQRbUgvEgEREAEREIFtEHiiqByx97/sjFhR6d9K8YInsfGr4oWNPPSdCIiACIiACKwn8ADDydl5wILH/f5JG5/Z3szR9dtY/7gkPwtzr4pcweP11lpnAbn+90F7PAsb7uGpBZe3+NWFB86SOxYMaMX937+13+Uv1HG6kagKHht56DsREAERiAmBSSTeO5GAZ8Dw4eUeBA1TESkk/M74DoQD1RiWeWqf60DYX1GAro9gezVeRyHpnz67h8BhOKzhrp5r6FdvVXEW3R1/8Z2Dzqoi9Dn6XgREQAREQARiRWBidskeDE+7TsWPr/TafRTyI1FU+v1RvOBJbPyqeGEjD30nAiIgAiIgAusJ3EKn6b8iEc/8xSgS8/NI0EezcmD1WAbLR3Z4/A8k5I/CoSLIi3Zh7Sgkke8n1/usEwWmWKxGzBI7f6LWcW5GgYmiWK1VAip46JMgAiIgAjtAgNX7mz3j7oL2x1sD1g1v7liseszu+PbRandBOwb/aFbxg7zYQfN3H7c5pUQksztC2XllLDs8fvL6EeeJGfocfS8CIiACIiACsSKgeCFWJLfejuKFrfnotyIgAiIgAsEmcLVzzP7hk3aXv1hAsYP31tGs9LS9lo2iBwsef3m+2U42lkazuaR/7cDEvF0BYwo1v2wfsr7R2ZgcUy0Glr/YDOswCDZPgXF1cbCtw9ZDVcFjPQ09FgEREIEYERiYmLNL8OGm1dLX7cPWNxajCxqGUZ1rrnAti2cwz6Maw6qCvC5BIfGLD287ztEoYj1Dr4xlweOnb7S4Thr/O30VAREQAREQgVgTULwQa6Kbb0/xwuZc9FMREAEREAERIIFLD0bsbz9aFRI+fITZHZjfEc3as2ePG6LN++q/+d4RO7O/PJrNJf1r+zFL7GswZn7oEooe/Zg9GotVgxmkZ1DsIOdzYKyZYk+oquDxhIUeiYAIiEDMCPjhmGxZvIyL2gAucLFY1RiKeRoXMyolNFQbgZkKHrH4WGkbIiACIiACu0RA8UJ8wCteiA9nvYsIiIAIiEByEmAi/ue/u+U6PGJ5BMxb/OzNoy4hH8vtJtu2VPCI/xlTwSP+zPWOIiACASCgBEZ8TrIsKuLDWe8iAiIgAiKwMwQUL+wM19CtKl4IJaLvRUAEREAEROAJARU8nrDYiUeytNoJqltvUwWPrfmk5G/Znra48tAWlh7a3NKKLS0/soePHhl+vGGhA83oZ58B771ceO/lZKZZdkaa0YtPSwREYGsCg5Pzdq2LHo0jdqFt0Hpj5NG4Dx6N3zpS5RQSrQ2lVlUUbI9GMv7HTzG0/P6wzc4v2/JKdF6jGel7LS8nAx00Ffbj1w4aGWuJQFAJ0Lt3YfmhzTNegJfvMr5/hPb20A53xQtB/YTouGNBQPFCLCg+fxuKF57PSM8QgUQjwHiDtjpLiD8YhzAeWVjmbIGQxMXajqft3WNZGZgbkJFuuZnplonH/BlzGloiIAJbE7gCO+6///0dl79YRr6QecNoFv/tZaSnubzFX3/3sJ2CHXeQ18j0grX1YWg58kOf3ui3ruHYDC1vqCiw147XOM5HaousvCDYM17Xf8ZU8FhPIyCPWeQYnV60fswY6B6ZxeMFF0CEDiXayz9QKG6U5GVZfXme1cIbrgbzAvKzMwJCSocpApETmJhdsge4iPGC9tGVHrs/MBX5xta98kB1oX3vVJ27oO3Hxa04L3Pdb4P3kEHD+191utbbQdiGsegRzWKxowq2YWy9feeFRmPQoCUCQSUws7DsYoU+eMwyXhifXVwteoTcACleCOonRMcdCwKKF2JB8fnbULzwfEZ6hggkGoFHiDeWUdxg/NGFOIQzETn3iPHJZisHIs2ygiyXs6gvy3ePKdxkTkNLBERgawI3e8btn//0wOUvxpEvXEDeMJqVjaJjCf49crbEn7+8347VlUSzuaR/7TTyFOzqpeX5b5C/aEceIxarGfmKt5G3YP6iFnmMAuQztFYJqOARoE+C7+wYgvL8Dv5x3R+cRgJjxhU/WARZCVFGuwQG1M4lSKgyYGiqKrBmJFs5Q4D/iLJQrdUSARHYnIAvLF7GYKr3v+y02z0TUCNBHR2SKNz81U//1A/9aqkrtndfanLDtBnQU70U5NWFv2F/uD3oOjxud4/byORCVDjKi7Ktpb7EdXi82lJlDeX5UW1PLxaBZCTALlAG5Zw91I5ibQfjhdEZJByWXBdV6N8xxQvJeJa1z4lCwMcLnDHx3hcdLl6IZlio4oXNz2ys44UKdNgea0C8gEGh30bnbT06cLVEQARiS4CFDdrAsNhxD/EIcxeu4PEMgdM3BQ/kKxoRwzdWFlgTBGLMZ/Bvoxo9Ynt+tLXUIsD84IfXel3Bo2NwyiZmFqM6wOL8LOQQC13B443WfXYA+cQgr0V0zU/ibxc7aX6JwtKNrnHcV0XeSUPnnSw48BxHLML80El00BQxT4ufaa0SUMEjQJ8Ef0N1C5Xb/0QL1d3+SdfZsYRCB2+sQhMY31hUoOjBpCqtdE40ldpRVGbVKhWgD44ONSICvsB4HReyf8UF7SoubEwgLuFCF8niBS0bCiW2gv7vbx/ABa3UFR3ZKhrkNYpArB1/y6iU+ORan3UORdcayhuj8621TiHRXFNkZQjUtEQgaAR8yzXjhesdY86SjzEELeO2tLRSvBC0j4qONwYEfLxwFf/W/u8f77sb4QVYt4R2Xm/3rRQvbE4q1vGC67g9jY5bKCrVcbs5c/1UBKIl4AuVTAz2QXgxhrifttzP+vuYlgZLK4gy2dVRkJNpxyBiehP/Tg8jps/A7yjQ0BIBEdicAIuLl5CzuHhv2L5uH3YdVZs/c3s/rS3Ns3PNFU4YcAY5jOriYFtxr3asPbKbEMK+B0EshbHRdNLkwXmnEkxP7S+zt882uBwtu9n0d+7J51MFjycsUvaR974cmlrAP65xo4Lscyiie6CQCGeVQk1+CO1Sp/eX22tHq60JiUF5YoZDUM8NIgEqJT6iUgL/7jrxmEoJetGG64jJrqoaBA1sCf3BuQZjMl7L3BwiWvRd6xyz317qdsrY2cXwZ3m42R1ZGcYOmu+fqbfWxtLVNviAd9DoMxYsAixmMPnagcLhp7cGXCB+Fx2hY/g3Fs5SvBAOLT1XBFYJsHj/66+7nLKyH7YtFElEshQvbE7NC78ijReYJqVCPAszDQtzM+04EqnfP1OHhGqpFJWbI9dPRSBiAr7T9BYSg7+93GPXMbMvnMQgZ3aw+HsEcf0PYPVyGgnBisJsy0MhREsERGBzApNzS+jonkX8P2ofX+2BQHoqIocKJtz57+9QTaG9frLO/ftjF2QRrp1aZh3DM/bJzX67jPwQbc9Hkafl/RdzRNtZfjZKVUkO/saV2GkUk76FwtI+5Iq0NhJQwWMjj5T8brWS+BgDcibsg4vdLoExhOrt7DO8L58FIRPKzXwkXVsby1zL1Am0TskT81m09HMRWCVAJdI9tIQycOBwKlrDOGurbV7QPEd2WL14uNIpCU/h32BVwBUSnotXxt4fmHaBAztpXGEJXr/hrGLMKmpEmy1bQc8fq7ED1QXqoAkHoJ6bEgQ4lJxDQdmZRmuda52jNsPOtBDLy+cdrOKF5xHS70XgaQKDiM2v4N8cBRJf3hlynVVPP+v5P1G8sDmjaOMFn0CtRIKBRQ522p5FEpUJBikqN2eun4pApAR8pymtXy60DaKDeyYs6xdfoKzBDNLTsJ07g06sc/j3WgOrKy0REIHNCfj7gBuwiX7vi053HxCJQ0UmLJUovljNGzY6gYDyhk+YcyYRRbFXIdj84+0Be4DH4XT2+tkoR/YV26vIWxxDYbcKNpsq6D5h7B+p4OFJpPDXWSQvhlE1ZML11xiO0+ZnCYSZcPWIDkFZ/hYU5lSaM8gvxB8zrdQj4FvuFmDBRP/UxWVan9HOZOOxeuszZ6GAi1sOlG+6oD1h5L0aaSH3GTqrOGeCSY2p+aUtFRNeGcELVylslQ7i391LKHgc2VfkBvHlo4VR6wkBzia6Dra3eyeMinQONeQgWCZvN5ud4vnys8rB72y5ZQdbCwKHE1BtViJo0BKBoBGYQnGjF/92Lt4bsQ+gNOffrWiW4oVo6CXPa30imTYjVNEvPSdeYHKYf3sZL2QjbmD8oGUu1urHMN623kn7AgWPe/j3R9EE4/jNrmOemb+eKV7wRLb+Gmm8wLirHArx/ZhnSHvRw4gZpFjdmrV+KwLhEohVp6l/3wIoymshGmOHx5tQmjdDca4CpaeTOl+Z1qI6fmlNuDOPeGRhmdfOkMTF2iFTIe9zF/nZ6W7mgZxLnnweOtmBAKHmje4xN89vdGoRXadLyAdtbc3N2RG0kisrzHJzf49DHHD+eI01Vmgm5hO65jhylscDiGK/ujvs5isPIv5j7mIeMR8thNc7gvgCLh0pOKeIsQhno9Cy76VDFW7esiz71hN+8lgFjycsUvZRP4aOfo1iB62sLsOPr39sbsM/oHAPnD5xx2H3cvZAhb2CBGwdggit1CPgE/UcDMdWO1qi+eTx+qPljTYDR7b3VxfnogiWqxvAdYB84YgXNRY6biIp/xkq+UxkbKWY8MoIXsxexIWMifhasGXxQwmidYDXHrrPK9pwqQjj3zy24LLI2zU8vSlnz7cBgwx5E8SWW6q+yguyXbuthn09zVg/SX0CPWhj/xyJ1ov3h+0GVEfsBo1mKV6Ihl7yvNZbBTFZ343BsqP4O7xVvFCCjrr68jx3TatB3KAC/uq5ZlGDIhMWOfoQq7OA/yVuhDk4VPFC7P49RBwvwMqX8zo4x7AOw5A540sCn9idF21JBEjAK8yj7TT1NJnUZoKQFnQ/fKnRTqJLXkN9PZ3U+eodTaic54B7Ct/ccPtnOJrwPm81d5GDQdqFVokEsv6eP/k8MIajYJozdO5ASHgbgulbyGGMTG19X1BemGNH8W+NFtEUBTTgWkkrObLVekLA54coaGHMRyvhq+jwbe+bsh7MKpqcWRPGrgnUfYdpUX4mcq/5dhgC2DMYM8Ah8MwNcd4yLTcpRNbaSEAFj408UvK7u0hWfwBveyo2e/FHawpJwWhWHjo6qpAYZND/DjwxGfhrpQ4Br9QcwUXuAf74ssXuPm62hyaRwIBycyXE2sQVPFBtLkQ1vxpt/vtxQ8jB9ix8sJWRg+O0zHwg1oEE/OdozWbwMM6kEJh6VQo5+YsVL1wlSL4fhJKQBQ8qIxSIPf+T5At1neC8WvCYsWn8zQsdFu8KHijSNYArCx6NKHzoBuj5fPWM1CbQhr9L76MTlJY6gygczqJQG81SvBANvcR/rY8XqJjnNY3t+d2IMzlXaat4oQRddfW4YWvCjVozrnHViCkVLzw53z7hR4UlCx73EMcrXnjCJ1aPFC/EiqS2IwKxI+CdKZi3+NWFB+h4m4jJxpuRr3gbeQvmL2rXrjkx2bA2khAE6EbBgdssdvCayVjEFTyeEceuFjwwHxOfBd5rs+jRhHtBxif+XjwhDmyXd8JbL7Hz9Cbm6JApYxTmNdYvL4Cl+PVYQ6lzpGAyngIXrecT8J2n/Oz24DM8icLd+s5e38lbBJ51EAzxMytHiudz5TNU8Ngep6R+FhUS//TZPRQ8hrdUiG33IN1wXySy2eHx49cOWiv+qGmlDgGv1GQl/1MMU2Inwgyqz7wxZHIj9AK3wdIK9hT0juYcBLbYsRhGxbwW22xXW20ZyFP9yoTQ6MwCLCzQtrgucPABA9try/KzjcN/XeUeygi12j7/k7ReMRGOpRWtQNTi/ny+ekZqE7iGm5l//BTxAjo8WOxgS3U0S/FCNPQS/7U+XrjVM27/CesDWqBRFciZL1vFC/xcsKjPeOEE5iBQJKF44cn59pYuZEnl35jihSdwYvhI8UIMYWpTIhAjArw/ase1hMKLT673YXbHdEy2zI7u12CtQ0tuXW9igjShNsJOhD/AOvoG8l59UMjz2kmbTSaNN1ve0opiwiIUOWi99ObpOjsMC2lZAz0hxnhudnEZCfhll7fgvTUHmzMvtH6xgMSB5LSJZv6iKC8D8yQyjDP9tJ5PwAkwwJV5oXmIYb+xtFqrKzHfxkKcs7RC/Mw8EXnLkeL5bFXweD6jpH8GVc5/93Gb6/BwlcK11qhID8y3VDFg+MnrR5w6OtJt6XWJR4DtizeRvGCg+cdbA9YNhWE4iwl6zkKgv/ErR6qsCR0f7PJgYKH1hIBXFjJhxIuaLyT5jhkmg9Rx8ISXHomACOw8AcULO884Fd7BF/Bpdcl4gZapnyPR0IOEQzjLxwun0Zb/2tFqFy+osP80QcULTzPRT0RABFKTAFX6V2CpSaHml+1DSF7PxuRAOcfjxeZKFDwq7BSsuath0a2V/AQWVx46Qe8tCDV/e7nHrkO4M46i2QLur7ezfF6rGRZB/+1sA2yCytxnQ1abG+mtCgQeu+7drQoezF+oYLSRnb7bXQIqeOwu/7i8O29Ef/HhbVfwWD/8JtI390NzWPD46RstdgatoVqpQ4Cqmm8s0BBk0g4onMVKfj46gFqg2KRS4gQ6gMpQBOEFUOsJAa8sXEHXjPt3GVLBT1+bjcICiJYIiIAIxIOA4oV4UE7+9/A3vm19E/bBxW7YB464eS+zz/DKftYR+3ihFZ7q777UhHihRNaNm8BSvLAJFP1IBEQgJQmszh4dcXmLS2uzR2NxoDWwWj6DYgfzF+dQZKeVkVbyE+DsRtqxXukYtQuwjO4cmoGQcNWVYjtH5/Na5UXZdgS5C+a1Xm2pcrMntvP6oDzHC12Yt1jvTOGP3ztUMH8hSzBPRV8TgYAKHolwFnZ4H2KdwPC7Sw/Mn7151AUO/mf6mrwEfMvi1Y4x++WFDqO1yQLsFJ7VCvq8I63HbIRvQ7HJz8kxBBAcWKUlAiIgAiKQuATomf3z391yHX6x3EvFC7Gkufvb8h7r7Aj6NWa+tEFZGU0H8SFYSLx1rsHFk/tK8zATLGP3D1J7IAIiIAIiEHcCO1Xw4Kyo0yh2MB55AYUPzvHQSl4C3vqRw54/hSMFhRd3UfigBWQkKxvCzBIINCnAePtsPaw2iyXAiASkXiMCCUZABY8EOyE7sTuxtqjw+6gEhieRGl/9UKpL90edZ+oDDCqnBze7DyJZBfAVpD83lTRvnam3ZiQ0tERABERABBKXgAoeiXtuEmnPVhNSo87K6vKaAjeaDuJKWIsch8UIZ8O9crjS6hA7aImACIiACASPwE5ZWqngkVqfJXYZcM4VZ9W+9wWEmp2jNoPZcxRwRrJop5kBC+5DNYX23ZP7nDV3PWIRzknQEgERSF4CKngk77nb9p7Hemh5etpeNyCHiey/Ot/sBlRve2f0xIQl0Dc+Z19B3cuE12UMrB3A99Esfk6yMQjsNGZ5/MWrB+0kkhkaCh0NUb1WBERABHaWwFVYAvyfT9rddYBzAyLt8PN7qXjBk0itr3cHpp5YX2Jux1SY1pehNPLQ0VEFtS2FNO+80OgGyoY+R9+LgAiIgAikPoGdGlpeV55vL8OqiNeZE/UlVlmkGR7J/GnynabMW/zqwgNr652IyeG4WS8QXlCAoVkvMUGqjYjArhJQwWNX8cfnzWN+Y5qdYVTjseDx7ou8MS2Oz4HoXXaUAFtCf3+j31mZ3HMtoQtRvR/9G6mWOA5P7v/5ygHniakh3FEh1YtFQAREYEcJcCbDe192uoLHEAaHhjuTIXTn8hQvhCJJie9jLaTJwOwvFj2YYPjxawetFbO/tERABERABIJHYKcS2bJOTK3P0k4VxkoLsq15X7HLc50/VmNNsOjWEgERSF4CKngk77nb9p6vKveHnfXAFfgtD4zNrQ5J3vYWNj6RQ51aoIzgjamGOm1kk8zffVMYw5D73uHoFZuexRF4YP73b+13gUMFgog8dH1oiYAIiIAIJB6BLqj1/3B7EIXvYbvdPW4jk9EVvhUvJN45jsUexdoqdS8EEuwGopDmJ68fsdP7y2Kxm9qGCIiACIhAkhF4YlW0NlMSsyVnF5cxiDo6qyIK8H708n5nVSQBXpJ9KDbZ3Z2yPiukJTeKHOwEoiX3oerCTd5dPxIBEUgWAip4JMuZimI/p+FnyKIHhzn99lKPtUO9H81wycbKAjvfWusuBJzLUJafFcXe6aWJQuBO/6T929ddTtk7MDbrfDBjsW+HoZL4ATqBGDjUoDMoH4pfLREQAREQgcQjMDqzaO24FlxE4fuTa33Wic6/aJbihWjoJe5rL+Hz8YsPb7t4IZrZHf4I9+ABu0JZ8PjpGy2uI9T/Tl9FQAREQASCQ8APo76PWZIfIw5hgb1zcNomZqMbRn16/6ozxTEI8WSxnPyfp50abp+PbtPq0tUZpD8812CHNYM0+T8sOoJAE1DBIwCn3ysl7qDQwcDhRteYjUwt2MzC8mrhA4Opt1r+RjQ7M82K87KsBYHC+RO1dgxdHmUFWZabKcX+VvyS5Xdt+Hy8/9WqlckgCmTRWpn441bBw5PQVxEQARFIbAJzSytGm4Cb6O745Hqf3e6ZcEmGhaWH2+oMVbyQ2Oc3VnsX64KH3y8KI3725lFX+PA/01cREAEREIHgERianLfriEWuI29xvXPMetCBGs5Qaj9DjJ2m+6sK3cxROVOkzudIBY/UOZc6EhHYSQIqeOwk3QTZtldKMIlxD4Mmb/aMO/VmF5Sb7P5YwmDSrZa3GqgpzbVTsBloxfDp4yh2VGPAZFZ6mpvTsNXr9bvkILBTBQ9ZWiXH+ddeioAIiMBDCCAWVx7aAIreN5BouIYkA60w+2GFuZ3OUMULwfgMxdrSylNTwcOT0FcREAERCDaBReQnJueWrAM2yyyy3+ges7tuxuT2Oj38DDHOY3ipudJaaousWk4DKfOhkqVVypxKHYgI7CgBFTx2FG9ibdwFDihwcDg17SrY8dELtcQYLCzmF1dcMmP9HntlBFv72NlxEB6G5w6V22EEDDXFubImWg8rBR7fQ+vw7670us8GW4cnI2wd9ig0tNyT0FcREAERSC4C7ADtn5hzccLXd0ecWIJ2ElRXMpZg8WP9UrywnkbqP4710HL/+aGl1V+db3ZK3NSnqCMUAREQARF4HoGR6QWjKO8WBJvXMc+jG7mLKRRC5tF5SpEGbRW5/H1nZvpey8G8yEoUNw5WFzlHCs6F2leSByurPbZ3L3tRtZKdgIaWJ/sZ1P6LQHwIqOARH84J8S6PEBTQ3mo1Y1YIAAA6vElEQVQaiYxhWFrdG5i2yx0jbqZH3+isTSN4WL+8MqIBMztaoI5gwaOxPN/ZWGVnpLkBk+ufr8fJTaAXCt4v7w67gscVzHuhrVU0iwmMbAScp5vK7C9ePWgn0Rkkz9RoiOq1IiACIhAfAixoLKCwwRvKTiQX2B16u3fC2Bk6NDH/lOWh4oX4nJdEeZe7+Dx8cKnbzfCgcIbJp2iW//yw4PEuZn4dqS2OZnN6rQiIgAiIQIoQYNcpHSnYedqOa08bYpGbXeNuPunCOsGmv+8sxWzRuvI845zRk7gHbcIAago3c5C7YFEE/2mlAIFZnHvmsy7eG7FfXXjgPhexOKzasjx78XAlZo9W2CnkLtgVpCUCIpC8BFTwSN5zF/GerxY+Hjv1Jr0x72FA6aYFD3R2UB3RUFHgujr2YYBTEX6WhYBB6/kEvDUIvc/pi760/AhKlEcWOjKFgRdtQFgMyEWBIAezUnajoMROn7sogrFt+JPrvdaBLo9ohpEW4LNSszb06wcY+sXAU0sEREAERCB5CPjO0N6xWdft0TW8VvBA8mH9ylO8sB5H2I99gYmK1TncxFOcQjvSNeHqN9ujMDVt717LzEC8gPlpnK22G9aifUg8fXVv2MULtDwbgGAimniBHustsEplgkEe69+cbj0QAREQARFYI+A7Tx/g/pRzxvpw3VnA/fXKymrHaTo6O7JxXSzFfNG6snzM7ShA8bzIyguyxXAbBLwFOvMVzFssLK+go5e5i81nvaYhIMlCLJKdke7iEcYl/BlzGvFYfkYtZ7z88kKHXUP3z+zisi2vfR7C3Qd2/rBodqim0F4/WWfsCqpH8aMoNzPcTen5IiACCURABY8EOhnx2hXeQPPGdB7qTaryGEDwJtsHDH4/0tH2mYWb6dysDCvIznCJeCn0PZ3nf/XDX2kL0j0yC6XsgktkhFqB8AJLriVQn9RDkVKLWSm7YRlGNe/E7JJdQvLil1BK3IJ6hvvKACiSte8bhUQ5FBJlViWFRCQY9RoREAER2DUCvjOUMQK7Q+dwM7nIeOHhxuuC4oXoTpFP5DCBw3hhHPZhrugRkmjgzTiFEWVI4DBeYKxQhuQOix/xXFTbsuhxGd2gv73U4zqFo4kXGtFJfL61FgWPcieOKINCV0sEREAEREAEPAEvDJhdWLGpeW9p9cgerzls7tm7JgigpRWuiXnZ6UbxHUUBWs8n4AsI7OztHp1xwlg+pu35Zou2YYw/GIfUo8DkYhH8jDmNeCxfoLkPS+6Pr/UhHhk1WnLTfjWSlQlBLz8vrchZvPtSo5tXy3grXscTyT7rNSIgAs8noILH8xnpGSIQFgHf2TE0Oe8Usfdx8aXfKIMGFkFCC0uu4IHgrCQv0wUMTVCkNMM+jEPh4xmo+c6fO+j4+XdYVVzrGLURtIoyEeMSGSGJl1Ao1HOwVZiKU7YON0NV852j1Xa0vnhXCjih+6fvRUAEREAERCCRCIRadbCzkomGcYgPqFLkdXn9ooKVxQ0mFuphMXoA8QLnqlUW5cS108MnRjgLjomGG1BYRhMvtNQV2/kTtc5rfTcKOOsZ67EIiIAIiIAIBIWAF8Iy7uhAF28nrEtpZdoPUcO2Ch7IV9DynMKFJriCMJ8RT+sw5lvoWMJOj+udY9aDfee8uaVtdnpQSEL3EtcZhOM4BRu0PzteY004Hi0REIHkJ6CCR/KfQx1BghHwnR0crvafN/rtLgoItKjghZfFkNAExjeWVmuJDHZGnGgqtaN1JXFtxfUBzwitrbDPNxA8cLg9Pdup5lxCB8hWiy2sDBpq0KFyCm2gJxp4DCh2IBDaDYuurfZVvxMBERABERCB3SYQOoy1F/PUGEO4YgcuyqENlhRI0DKCQ1mpPDwEq8j/ghtzxgvxLBR4ZSWTIZzvchPxTjTxQit8so/D0opCj92w6Nrtz4HeXwREQAREQAR2g8B6wePvLvc4u7BpdNAwd0FRxsOQjl6/j2l0AkH3DGORgpxMJ1h483SdHUZcEs/h8M56FY4lHcMzzmbzRveY3YUYYwzxyXaWnyFGoeYLhypd7qV2TXS6ndfrOSIgAolNQAWPxD4/2rskIuALBkPoiuDNP2dhfH570CkNwjkMKgwO4aJ7en+5vYYOCSoM4umJ6T3bO1DoYAKDCk4OJR1HIYS2V+xQWe/VzX3LQMCTjzZQJlwOVhfZuUPlTnW6G9Zc4bDWc0VABERABEQg3gR8wYDX2U9vDThrqHBu0P3+1kGN+EpLlZ2BFdQxFD0qC7Pjqqx8VrzAmWC0wWB36PrllZSMF9gJehDdrIoX1hPSYxEQAREQARGIHwE//JuWUL/+qtPaeibCsrT2gscjEDn+4IVGN/uiArFIHgoh8VyhAhK6a9C6nZasFJwyd8HlHSk4cyQPtu2VJTkud3EMogvO7dhXkhfXgk08Gem9RCCIBFTwCOJZ1zHvCAGvkGjrm7APLna7BMbQxLzNwhIqnEXlJpMBqx6STeiUKHHqiXh5SK4exyPn1z6M4s09DDK/3DGC4fZTNoR5JNNzaxZXa4EDB8SVoNDBVtZWdHVQIcHWVhY/1NkRzpnXc0VABERABIJAwFtCXcesrPe+wLDNztGwLBg8I69MpEDirbP1UCYWx/VG/VnxQjuEEn3oVplGsmH98vvbgHihZV+xK3goXlhPSI9FQAREQAREIH4EaF31NYodFGpevjds/Zgltl7Y+Lw98QUEOjycPljhBBjnUDigw0M8V6hFaFvvhN1EjMV5YwvrBBi+QEOBKW3EjyAWOQkbq6aKfCfEyIG9VTwtueLJSO8lAkEkoIJHEM+6jnlHCESrkAjdKVpVvHWuwc4eLLd9pXlWiCJIPJcv4HDoOr0xH2AoGAs4TGCsn+mRDQUHCx4N8O08AXUEfcWLsK/0w9QSAREQAREQARHYSGAKNpG9Y7N28d6IffB1l7OR3PiM7X3nb9x3W1kZGi/cgy3mpgUPxAaVxTkuXuDsEcY2ihe2d671LBEQAREQARGIFQEvWGiHoPF3V3vc0O/Nrtvbfb+C3EyrhS03uyTePFlnzTWFbuA3rTjjuTh7lLmLB5iJdhP5iz4UcBbWzVDl/rDbtLQg2xU82Gl6BPFIOb7XEgERSD0CKnik3jnVEe0SgWgVEqG7zaTAcfhanz1QYa8crrQ6BBHxXN6iax42VmwJZUFnAW2hLHY45cfaLFV6eGY4P/EMK8rNcANV2Y0S7wAnnmz0XiIgAiIgAiIQKYEedD98fmcItpHDdgNDNikmiGQlirIyNF5gwoE2ErTAXL/S6fmdSc/vDCvIzrAcPFa8sJ6QHouACIiACIjAzhPwlpRX0WH6b190utmdm1lRbndPWETIgQiS87h++FKjnWws2xVBA/MUtOCeXVixKcwiWbW0Qu5iLRzh7FR2cNBRg12nedmcQQKhJuy5tURABFKPgAoeqXdOdUS7ROAuBnd+cKnbKTY584JFgmhWHi6+VWgHPQtv7nfgiUn1gZYIiIAIiIAIiEByE2iD5dP78MrmnKxB2C3MouMjmlUIZeU+dFeyI/StM/V2CIpFLREQAREQAREQARHYjMA04g7aPTEO+Q3iEVpRxmLR2vpt5C2Yv9Dw71gQ1TZEQASiIaCCRzT09FoRWEeAXtz/9Nk9FDyGjUHEEtQF0Sx2TbDowQ6PH7920M3HiGZ7eq0IiIAIiIAIiMDuE7jWNWb/+CniBXR4sNixHNIJEe4eZsJCkgrFs/DP/ovvHHSzv8Ldhp4vAiIgAiIgAiIQDAJ+yDetNT+90W9dw9MxOXBaXL92vMYJMGQVFROk2ogIiEAUBFTwiAKeXioC6wlcxsCvv/u4zXV4uBkXa0O91z8nnMfem5uKzZ+8fsR5Yobzej1XBERABERABEQg8QgoXki8c6I9EgEREAEREIGgEBiAleYVWGpSqPll+5CbuxWLY+ccjxebK50A4xSsuath0a0lAiIgArtFQAWP3SKv9005ApfQEvqLD2+7goebcRHlEXpvbhY8fvpGi51Ba6iWCIiACIiACIhAchNQvJDc5097LwIiIAIiIALJTGB19uiIy1tcQtGjH8O9Y7FqSnPtDLpNmb84t7/camDPrSUCIiACu0VABY/dIq/3TTkCsU5geED0wPzZm0dd4OB/pq8iIAIiIAIiIALJSYAWEj//3S3nnR2LI5BAIhYUtQ0REAEREAERCAYBzu/4CoUOzvC4jJhkAN/HYlWjwHEaxQ7mL15A4YNzPLREQAREYLcIqOCxW+T1vilHINYWFR6QCh6ehL6KgAiIgAiIQPITiHXBQxaYyf+Z0BGIgAiIgAiIQLwIqOARL9J6HxEQgd0koILHbtLXe6cUgVgPLU9P22tZGETKltC/Ot9sJ5vKUoqXDkYEREAEREAEgkjgaseo/Z9P2p2VxOLyQ+Pcr2iWhpZHQ0+vFQEREAEREIFgERianLfr3eOuw+NPtwetZ2QmJgDqyvPt5ZYq1+Fxor7EKos0wyMmYLURERCBiAio4BERNr1IBJ4mcHdgyj641O0SGL0IGqbmlp5+Uhg/ycvOsEoM+mLB490XG+1IbXEYr9ZTRUAEREAEREAEEpFAW9+Evfdlp4sXhjA4dHZhOardLMzNtH1IMjBeeOtMvR2qLoxqe3qxCIiACIiACIhA6hKYml+23rFZF4d88HWX3e2fjMnBHqopsrfONbh4ZF9pnhXmZMRku9qICIiACERCQAWPSKjpNSKwCQHfGspZHlcejNoAhn9FM7y8vCjbWqCMOHugwl6FUqIByQwtERABERABERCB5CbQBVHEH6CovHh/2G5DYTkyuRDRAfnZHdUYEnpqf5mdkWd2RBz1IhEQAREQAREIEgF2l06i6HEFHae//NMDu9E1bssrD+3ho8cRYUjbu8cy0tPseEOJ/ejl/XYKzhRFKHbQrUJLBERABHaLgAoeu0Ve75tyBKYRNLDocfnBiP32Uo+19006m4pHjyMLHBorC+x8a61rCW2GWqIsPyvlmOmAREAEREAERCBoBEZnFq0dakoOC/3kWp91Dk1HhMDP7miuLbLvn6mz0/vL3YDQAikqI+KpF4mACIiACIhAEAg8QmFjGXaaN3tWO06ZvxifXrSFpZWIDj87M91KCrJcHEJnimN1xZYBe+69KIRoiYAIiMBuEVDBY7fI631TjgCDhrnFFbuDQsfHSGDc6BqzkakFm4FVBf25GVhstbxSMzszzYrzsqwFgcL5E7V2DF0eZQggchFIaInAThOgsmcRCp+FpYc2h6B3afkR1D74/IZ8fPfgA8tkG4PZ3Kx0y8HnNhsqHs6e0RIBERABEXg2Af5tHUVi4Sa6Oz653me3kXCYmGWi4eG2OkOZQODf2nxYX5YXZkNRWWqvQyBxGIUP/j3m32UtEdhpAooXdpqwti8CIiACO0vAd5xyttiDwSnXcRrObDE/c5TOFPurCt3MUTlT7Ow509afEKCumI4qS2t5uHnE0QvLK8i9hSQu1l7CTqSsjL3IWaS73FomHvNnzGlopSYBFTxS87zqqHaBADs5ePPHJMY9zPO42bM6CKwLyk12fyyhdXSr5ZWaNWvWFK2NpXYcxY7qklzLQoso/xhricBOE/CJuP6JOesemcXnecEV8kKH6jLhxqRaCYpz9eV5VovPbU1xrkvA7fQ+avsiIAIikMwEfKJ4AF2hN1D0uNY55qww+2GF6QQSz+kM9UPKG9AJehY2VsfqSuwg5nZQHKEbt2T+ZCTXviteSK7zpb0VAREQgVACFGYOYJbYbQg2v2gfsvbeCQtntpifOdq8r9heaq60FggvqjGDlIIMLRHYaQKrnUqPbRyioS7kLfowl2YAOQx+rjdbORAFMVZmzqK+LH9VVCyh0GaoUuZnKnikzKnUgSQKAe+J2YFCB+0q2PHBIeZjsLCYRwdIaOLYKyPyYUHBzg4mLc4dKndKTSWQE+Wspv5++ATc0OS8+8zeH5xGwWPGFfCY1FhZebQBgit4pLPgkekChqaqAmvGZ5cFOtqpsEinJQIiIAIi8GwCvCFjcZlxwtd3R5xYgp0eMxBJbKawZLzAm7VSWFxySDk7OljwaELhQ17Zz+as38SWgOKF2PLU1kRABERgtwj4hHHv+CxsuUdd5+m9gUlX9GDeYgn3f/ybTxU91x4o4SmsyMQ9IOORShQ3DlYXOUeK05gltq8kD4I4KOYl1NytUxqo9/UFOxY7KDhm7sIVPBBHb7a+KXggX9GIOJoW8k0VBS6fwc+2Gj02o5bcP1PBI7nPn/Y+AQl4T8xpJDKGYWl1b2DaLneMuJkefaOzNj23tGGvvTKCSs0WqCNY8OAfYFafZRG0AZW+2UECXql5C51J/3mj3+7CX54WbT7QDbVkY0DgLK0Q8NJubV9Znp1oKrWjUBofQRKuvCB7B/dWmxYBERCB5CdAAcQCuj/ZGdqJmzTerN2GupKdoZspLAtyM60Wf2s5s+N0UznihQKrgKVVAZSU8spO/s9DshyB4oVkOVPaTxEQARHYmgDrGCxmzCMWoeCiY3jGaG/FOWM9SCJTsLmwTrBJ4UX2mvCiDh3+nDN6EgPKmyrynXAzB/bGShxvzVy/jR0Bb8l2o2vc+kZXBca0hw0VGPt3TEMxjqJM2r8W5GS6Qt2bp+vsMD7HKtR5Sqn1VQWP1DqfOpoEIuAVE1RvXodlxT0EDpsWPKCGpzqiAdVlqjX3leZJqZlA5zHVd8UHukMoztGG7RK6kj6/PYggdyasQy9Fge4Qk3AYmvva0WqnOJa1SlgI9WQREIGAEvCdob1oxWe3R9fwWsEjRKHmCx4HcWN2ApaX7ALVDVpAPzS7cNiKF3YBut5SBERABOJIYARWxm2IQx6g07+HCeS1Qea+0z8dQjcOKOd9Xx0sgfajw19CtzieIL2VI8B5o7SMv4UZeL+93GPXMTt3fO2zuh1E3kr+CGbm/uCFRuQvypyAKA+FEK3UIqCCR2qdTx1NAhHwN4ZUTEyhq4Mtdxyk5AMGv6vprDRj4HNuVoZTaXL4s5Sano6+7jQBX5hr65uwDy52o515ZFNl8fP2g63NtGVrbSyzd19qshMNJRqe+zxo+r0IiIAIgIDvDGWMwO7QuUVYWjmF2sahi0w0MEagN3Yhuj2kpNTHJ54EFC/Ek7beSwREQATiT8AnkmcXVpC38J3+j+zxmrPxnr0GS6u9q5ZWKHzkZVMpLyvj+J+pYL+jL8xdQTfShbZB6xyasWUUQWi/tp3FybjsROLs3NMHK+wM7GHPoehRA6srrdQioIJHap1PHY0IiIAIhEVgFm3KtF6jb+uvv+q0NigltjM091lvcgjK47fONdjZg+WuW6kQQbCWCIiACIiACIhAchNQvJDc5097LwIiIAIiIALJTOARFMUsanBW7qe3BpxQ8y46ktiJFMnyndPs8HjzZB0s2golPI4EZAK/RgWPBD452jUREAER2GkC/eNz9jWKHbSyunxv2PrH5pyX6/b0EU/vHe3ZjjeWYpBuhb1yuBLtznlPP0k/EQEREAEREAERSCoCiheS6nRpZ0VABERABEQgpQgsY/YdZ4xex8yO977osGudozYDayvOHI1kcSYNB5kfh03sD19qtJNwqihixxJm0WilBgEVPFLjPOooREAERCAiAncxJPeDS9128d6I9WJuB+3Xoll5CBKq0A56Fq2h78ATk76uWiIgAiIgAiIgAslNQPFCcp8/7b0IiIAIiIAIJDMB32nKvMWvLjywtt6JmBxOM/IVbyNvwfxFLfIYtGnTSg0CKnikxnnUUYiACIhARASokPinz+6h4DHshn8tYeZMNCsDHvMserDD48evHbTWhtJoNqfXioAIiIAIiIAIJAABxQsJcBK0CyIgAiIgAiIQUAKjsK5q75+0i3Cm+OR6H2Z3TMeERENFgb12vMZZclOsWV6QHZPtaiO7T0AFj90/B9oDERABEdg1Apzd8Xcft7kOj2hmd/gD2IsBYGwP5QyPn7x+xOiJqSUCIiACIiACIpDcBBQvJPf5096LgAiIgAiIQDITGJiYtyudY06o+WX7kPWNzsbkcGphwf1icyXyFxV2Ctbc1bDo1koNAip4pMZ51FGIgAiIQEQEOLvjFx/edgWPxxgEFunsDv/me/BgD4oeLHj89I0WO4PWUC0REAEREAEREIHkJqB4IbnPn/ZeBERABERABJKZwOossRGXt7i0Nns0FsdTU5prZ1DsYP7i3P5yq4GtlVZqEFDBIzXOo45CBERABCIioARGRNj0IhEQAREQAREIFAHFC4E63TpYERABERABEUgoAip4JNTpSIqdUcEjKU6TdlIEREAEdoaALCp2hqu2KgIiIAIiIAKpREDxQiqdTR2LCIiACIiACCQXAVlaJdf5SoS9VcEjEc6C9kEEREAEdonAta4x+8dPMbT8/rDNzi/b8sqjqPZEQ8ujwqcXi4AIiIAIiEBCElC8kJCnRTslAiIgAiIgAoEgMDK9YG19GFp+b8Q+vdFvXcMaWh6IEx/FQargEQU8vVQEREAEkp0Ag4b3v+pEwWPEBsfnXNEjmmPKy8mwKvhensXsjndeaLQjtUXRbE6vFQEREAEREAERSAACihcS4CRoF0RABERABEQgoASmIc7sQ76CeYvfIH/RjjxGLFYz8hVvI2/B/EUt8hgFyGdopQYBFTxS4zzqKERABEQgIgLdo7P2x7ZBKCWG7WbXuA1Pzke0Hf+i8qJsa6kvQcBQYa+2VFlDeb7/lb6KgAiIgAiIgAgkKQHFC0l64rTbIiACIiACIpACBBaXH9okih5XO0btvS867AZyF/zZysPIHCrS9u6xjPQ0O95QYj96eb+daiqzIhQ7sjLSUoCWDoEEVPDQ50AEREAEAkxgYnbJHqAdlEqJjy732P2BqahoNFYW2PnWWqeQaK4psrL8rKi2pxeLgAiIgAiIgAjsPgHFC7t/DrQHIiACIiACIhBUAo8ePbZlFDfYcfqbi1125cGoDU3M2+zCckRIsjPTraQgy07vL7d3X2y0Y3XFlpG21/aiEKKVGgRU8EiN86ijEAEREIGICHilxM3uMfvtpR670T1uU3NLtrj00B4/fmyPt7lVN7sjK8NaECh8/0y9tTaWWhkCiFwEEloiIAIiIAIiIALJTUDxQnKfP+29CIiACIiACKQCgd6xWbvQPmyX0enR1jMOW+55zCF9aA9RENnO2rNnj7G7o6ww2w5UF9ppWFmdP1ZjTRVyptgOv2R6jgoeyXS2tK8iIAIiEGMCXinBwOEiVBJXO8aMxY8hBA5sD32Eosd2VnFeljVWFdhJtIIyYDhQXWBZaBFlMKElAiIgAiIgAiKQ3AQULyT3+dPei4AIiIAIiEAqEJhdXLFB2HDf7JmwP9zst7beCRufXrSFpZVtHV46ujiys9JtP3IX326ptpMQah7A4xLkM7RSi4AKHql1PnU0IiACIhARgUl0ddCf+w5aRK9ALfEA1lYjUws2gxZRV/gIUUyw1ZPBQi6CheK8TKstzbNDGPjVsq/YTmCGR2VRTkT7oReJgAiIgAiIgAgkLgHFC4l7brRnIiACIiACIpDqBFYFGI+Ru5ixL+5iDikcKjoGV3MX8yiGLK882uBUQfkluzroSJGzlruoKs61w8hdvHCoAoWPQs3uSNEPjQoeKXpidVgiIAIiEA4B+mHOIUAYnVm0npEZ543JuR5dQ9M2jeFgSxgItn5lYphXAYZ6NVQUwPeyzA7VFFpNSa6VF2RbUW6mhn2th6XHIiACIiACIpAiBBQvpMiJ1GGIgAiIgAiIQBISoAEFrbfn0NExhtzF/cFpu/RgxO70TloPiiCTM0sbnCr2othBoWZRfqbVleVbc20hujrKrAmzR0sxbzQPRRDN7kjCD8I2dlkFj21A0lNEQASSn4C3YlhCxX8RHo8rDzGfYt2MCl/5T0/b46yYMqEACOKFz3t0d2KQ+WVYXHUNz9g0uj82LXigsNEAr0sWPBpR+ChCASQLhRAtERABERABEUhWAj5eWES8QHuElZAORx8vMEbIzkwzxgu0b+QNdZCW4oUgnW0dqwiIgAiIQLwI+IT+MuIP3oMvQZjIroVQq2nGHexayML/2bgHZ1I/iGsI9lbX0eVxDw4VPSOzNjm7uMGhwjtTFMGyqq48zw5iboccKYLxSVHBIxjnWUcpAoEn4G/Mx6ECGJmmVRPaHR8+NCY2uHghzEhLs/zsdNelUIJqfxAT+D7RQ2/Midkl1/WxHUsrKSMC/09MAERABEQgJQj4eGEUsUL/+Jyzdlx/YD5eYIxQjc7GEtg60t6RBZAgLcULQTrbOlYREAEREIF4EVi9vj62aVhLMxYZRwKfdpKMT9YvCg3prFBWkGU1sGjKz85Y/+vAPHZxG/gwvzMPoco3llZro0ipR/nG0ioz3eV75EgRjI+HCh7BOM86ShEILAF/AWSRg4mLocmFb2ZT0JbBKyWcQgLJCgYK5YXZmEGRLYumwH5qdOAiIAIiIAJBIxAaLwyMz1v/xCYFDyoqES8UI8lQU5rrYoVqJBo4zyqIhY+gfU50vCIgAiIgAiKwEwS8kGAKdtLsWuD/HM49hjzGJH62acED4gvOzqTNdHVxjrNoykVSnwl+Jvq1RCDIBFTwCPLZ17GLQAAI+BbH270TdhcDuYcRNCwuP4JFxdowq5DKf/petIVm7LUKBA4awh2AD4gOUQREQAREQARAIDReGJqYtwWoKdnluH55pWBWOrpCkWioL8+31qZSa64psvqyPKe2XP98PRYBERABERABERCB5xFwwgsUNu5jAPcX7UN2HxZNk2uOC06oGWKxudpxitkUEFzUlObZkX3F9hKGcNdjTkUGbLr5ey0RCDIBFTyCfPZ17CKQwgT8UE0Osfrs9oBd6xyzTjyeQEvodlYxPB4bqwqstbHUvtNSbQfwWMrN7ZDTc0RABERABEQgeQhEGi/4IZhVsLU6jljhJP7nTKt9+D6IM8CS54xrT0VABERABEQgcQj4mR1jyFMwd8G8xZ/aBu3B0LQtwGY6VHgRuufZ6Ogoga1VS12J/ZdjNXa0rtgq4FhBy2ktEQgyARU8gnz2dewikMIE6HPZPTpr17rG7A83+u1e/5TNLi47T8ftHDYHgOVlZdjBmkJ79XiNtTaUSrm5HXB6jgiIgAiIgAgkEYFI4wXqJmkZkYOEQmlBth1rKLHvtda6hEMQZ4Al0SnXroqACIiACIhAwhDwMzvuD03ZJ8hbXO0Yta7hGZvA7NGH6Op4zIrIFiuNs0jRdUqbzRONZXYK4otz+L8GAgwtEQgyARU8gnz2dewikIIEvEKiF/M6vr43Yhfvj9iVByM2iO8jWVRuntpfbmcPlNu5g+VOuSlPzEhI6jUiIAIiIAIikDgEmERYXHlovaNzdhnJBSYYrj4YtUHM7Qhn+U6Phsp8+/bRajvdVGaHYG9Vnp8lD+1wQOq5IiACIiACIhBAAvNLD43dHde7xu13l7vtVve4TcPaailkSPnz0BRgtlgtrDVPQKj5GuKRQxBuFsB6kxacWiIQRAIqeATxrOuYRSCFCXiFxC3M7Pi3rzrtMoodo1MLNo920EgWlZtlaAk9jaLHD19otKPwxpQnZiQk9RoREAEREAERSBwCc0srNjq9aDeQWPj91V673TMBr+xFN7cjnL30nR6c51GJgaEUSfy3M/V2GEUPxQvhkNRzRUAEREAERCB4BEYwlJy5i8sQXVyAlRW7O2hjxbxGOCs9ba/rOm2syLcXmiudNfeRWggw0IWqJQJBJKCCRxDPuo45oQl4xeESBmtTecjv1y/OnkrDYO1MWC5lZ6Q5n2h1HDwh5Id9MWD4l8/v200oJVzA8JxW0Cdb2PjIKzdpVfE/Xzng/LllVbGRkb4TAREQARGIPwFe2zhUe3HlkbNrfBRyneP1i/aMmbgBzmS8gABC8cKT8zQGq4i7GAx6Ed2g/+9ar3XANzuapXghGnp6rQiIgAiIQLIRYNzBXMUS4pAFdClwJhbtlzZmL8zSEX9wzkQWYhLNuHr6LHeiwPHprQE4UwxbG8QXFGtGsyjWPII5HmcPVLhODxZAtEQgiARU8AjiWdcxJzQBrzhkpX8U/8+FdCYweZHLwVSwSqguzrWinEwpCNedUXpxd47MOCurDy/32H3M7tgs8Fr3ki0feuXmAbSEvnG6zllbNZbnWxFaRrVEQAREQAREYLcIzCwsWz/sl9ilwGsfC/7rVxaKHLxWleRlWRnUfQXZGYoX1gHqGZu1C+3DKHgM2zXYWQ1NzK/7bfgPFS+Ez0yvEAEREAERSF4CLHAwVzE+u2QDsI+ehA3T8sOHT3Um5CP+4DwJxiISDj59vm+ju+OXX3Q4AcbI5PxT+Z+nX7H1T3LhUFFelGNnYcf9o5earAUOFVoiEEQCKngE8azrmBOKAAWZTMiz0EG14fDkgvUjYBjExc4VPPDz9YuqCF7ESvOzbR88Gmtgn1CJC1ohrBSkmDAbhiLiZs+4K3j8EUqJbigmYrHqoYygNzdneRyrK7EKKCe0REAEREAERCBeBELjhQEk6LuGp20I8QKTDJsWPBAbcKB2FeIExgqKF56crfvo6PgQnR3s8OhApweHg8ZiKV6IBUVtQwREQAREIFEJ+ELHBAsdEF4wd9E/NmcTEF/wd6Edp67gAaFmdUmOK3zQYomCDAoztMyudo7ZP3zS7vIXCyggsYM3mkVrq2zki5i3+MvzzXaysTSazem1IpC0BFTwSNpTpx1PFQJ+5kT36Ix9cXfY7qDCzwHbXq35tKXVHktL2+OKHsVQbR5E58FL8Gg8UFUoxQQ+FAy6LkGpyQTG11Bu9kHBGYtVW5pn55ornFLiDAaSsrtGSwREQAREQATiRSA0XmhDvNCPa9wkEg4uwRBqgQkLCS+SKMrLtAPVihfWn6v2/kn79cVul2DoH521aSRqYrEUL8SCorYhAiIgAiKQqASYp+jGdZPX0WsdY9YNd4UZCi9gx+2cFUI8rVwCHsUNzrk6hJkS7Dg4UV/iRBiJeozx3K9LmDn6tx+1ufwFcz9kGM2ifWkaYkB2ePzN947YGcwW0xKBIBJQwSOIZ13HnFAEZlHFZ1fCLfg1/ufNfgzNHLdx2FMshHR2hO60r9zvryywl49UuaFUB6oKrBRFkCB7dPehWPQV7Cku3h+xyyh6sL02FqsabbinETRQKfHCwQqrxfdaIiACIiACIhAvAooXYku6rW/S3v+q0yUYKDSZhUVYLJbihVhQ1DZEQAREQAQSjcCq8OKR9eKayXmZ7Ey4gf95Dd3OzEyKNRuRr2hFx8F3Wqoh2CxwIk6KM4K8KNT8+e9uufxFLDkwb/GzN4+6wkcst6ttiUCyEFDBI1nOlPYzZQmwBfRrBAxX8P/1zlHXDrq8ybDyUAC+cl+MWR4NsFs6ia6D88dr7EBlYaA9ulXwCP2k6HsREAEREIFUIKB4IbZnUQWP2PLU1kRABERABFKbAK0zaaFJgeZH1/rsZte4jWHm6DwEnNuZmclZpHlZGc6h4lXkLVobSq0eFt1Bn42pgkdq/7vR0e0eARU8do+93jngBNiuyLbPdgzV/uhqr12BDVNfBJYKmWgPLYBHdzNaQ//seK2daCiB3VKO0SsziIuzT651jTnF5oW2QesF01gszkv5Fjpp2BrK4Ix+6FoiIAIiIAIisNMEGCtMI8FwF/HCp5hNdR3XuGjihaOwkXjzdL2LF9gVmpMZTA/tuwNT9h9Xely80I1ZKFOwBovFUrwQC4rahgiIgAiIQKIQ8DPERjDr6i5srC4jb8FZmV1DM9vq7Ag9jipYQ5/cX+YEm6ch2txXlmtZ6WnOhin0uUH4nnmgv//9HRePbEf4+jwmtLPKAE/mLf76u4ftFBhriUAQCajgEcSzrmNOCAIcUj4K66qr6Or4d3hI34alFdUR4Q6p2osLGu2tyjFE+1BtsZ1G8PBqS5U1lOcnxHHGeyc4PO0BEhdUSnyERMZ9JDRiseh9/r1TdS5w2F9RYMXwQ9cSAREQAREQgZ0mMAL1JLsRrsE24qv2IescnokqXmBXKAv4jBeOQizB4aFBXJyd9hmEEYwXbkGlOgzBRCyW4oVYUNQ2REAEREAEEoWAnyF2B8WOf7/UDWeKERuamHdzO7bT2RF6HNkQbBZBcNFSV2zfPbnPjkOIUVaQZbmZ6aFPDcT3N9Ex889/euDike1Ymz8PSjY4loAnCx5//vJ+O1ZX8ryX6PcikJIEVPBIydOqg0oGAmNUSAxOuQvb/7vWax2D01Httr+wnYFX449earKjCCBY3d+LoVVBWr6QdAkzPN77osMVkqIZ/uWtwxiQvQuu5BvkgCxInyUdqwiIgAgkAgEWONjZcfH+sLVBHDGKuV/RrDIIJI7gmnb2QIW9drTaGlEACeLi/DQmGTjz60+3B60bnCNJ3Hh2XoDCeOGdFxtRUFK84NnoqwiIgAiIQPIS8FZWnNvxL5/fd1ZW25nZ8bwjbsIMjz9r3ecS84eqCq0UVt1BXPeRB/oQ+SAKMDqQH5pAniiaVQKOB2qK3OzR11trjTNftUQgiARU8AjiWdcxJwSBnrFZu9CO4doYsH0NbYxUSUSzfOviyaZS+1/fPuBaF3Oz0jHPI1hDwLxV2NWOMfu/f7zvrMIWIuic8efCD4dnK+j/BlfyDXLLreeiryIgAiIgAvEhcLt3wn6JAj5vhEfQhTCHa1o0i7FBOWwZqfyjQKIFXR5BXLMLK0YbzMtQqv7m6267A87RJHC8xShnqv0PKCppMap4IYifLB2zCIiACKQWgcm5JescmXECgQ8vw0EBFpvRCAQ8nUrYcLfimnn2YIV9q7nC6krz/K8C9XUAeaBLyAcxL/Q18kN9yBNFs+rg9PEyHD84tPwEumcqZcUdDU69NokJqOCRxCdPu57cBGJdyfc0juGi9r++c8ApN2m7xJbRIK52tNz++usulyDqR9BA//NIFuej1CD4YmLoB+carBlqCS0REAEREAERiBeBq7Cy+odP2l2iIZoCvt9fX8jnjfBfnm+2k42l/leB+rr88JErHrGg9B+XepzFKLtnaC8azmIfLbtBi6GobIRalVy/B8XqATzWEgEREAEREIFkJ7C+I5KzO9gRGYvF62YTOjt4n/1GgK+bLCh1Y+4oO2g+vtrjZrY5AQZmvoazGN/lQNRyuLbIvgersFYINWswLyWos13DYafnpiYBFTxS87zqqJKAgEvIY3YHrRT6IxhW/qxDPAKl5jtQbDJw4GDtPFz0grgGoZS4gvko5PvlnaGIh5dz+OiLhytdAuNUY5lVQYmiJQIiIAIiIALxInAJHQh/+1GbK+BHY9Ho99dbNTJO+JvvHbEzsF4K4nqEKazk2Tc2ZxfB+NL9UedLPjg+FxYOWocyyUBrjteO17jZKAcDbM0RFjw9WQREQAREIOEJDEzMrXUgjMSkA8EfcEFuptXgXptCgR+crQ+ssNALMG50j8OSuxMz20adWHNp+aFHta2v5FkLnhSy0MqKQk2KXxmjaIlAEAmo4BHEs65jTggCHED6/ledLoHBm+vZhcg6EEIPphkV/bdfaHSBQ21JrrFDIYhrBjz7EZy19U7aFyh43EPHB+emzK7ZW3H42mbLe3CzUEQf0YMIFF5CwePIviIpJDYDpp+JgAiIgAjsKAFaWf38d7dcAT+Wb8QEw8/ePOoEErHcbrJtyysr2elx8e6w3R+YcvECrcO2KjD5eKEwJ9OJIVrQYfsdWEgcQtxQhNgrK6Adtsl2/rW/IiACIiACWxPoQ67iK9gtUUh4GTHJQJjCgGdtPS87w6qQr6AA4x3kL44gjxHkxZltn9zotxvdY47x6NQiCh9LxhkqWy0/BL6mNNcOgSGHwJ/ZX2bV6O7QEoEgE1DBI8hnX8e+qwRU8NhZ/GwDXUBwwCIH1ZtMZHyJRAYHgdHe6lmKCe/BzfbaFw9VOG/zWgQPLH5IIbGz50xbFwEREAEReJqACh5PM4nlT7yycnR6wbrgUX4Lg+G/QrzAxMNWFmI+XqAw4jst1UZLUXaBstjB+WksiGiJgAiIgAiIQLITUMEjPmeQQgvahzEWuQNx7G3EI7fQ9TEytfWs1yoUNk6iwHEUcchhxCR1ZblWnLeau4jPnutdRCAxCajgkZjnRXsVAAJ3oSD8jys9rsOje3japmaXYnLULXXFblgmh3+VFWRZbmYwLa08TJ/IYOKCBY974D6OpMbc0gqGrZkbuMbn0uID/zleJQXZdrB6teDRWJFvQRz+7vnpqwiIgAiIwO4SuIJBln//+zsuXlheeei6DqLZozQk4jPS05yi8q+/e9hOYWColjkF5SQEEQ8gjGDBg7PWJmcXn1JWhsYL9Mp+5UiVNVUUoNCxR4UOfZhEQAREQARSisDg5Lxd6xpzcciFtsGIraJDoRRi3mg9rp3s8Pivp+rsEO6/tczGEXswBqFTxU1wp6UYcxqhDhUUVlBgUYt5o6fRtct4pB6WVkWwttISARFAju8xlkCIgAjEn0D36Ix9hoCBys1bXeM2jEAiFouJi79CAoOBQxYSGkxsBHl5j24qJtjtMTa9aKMzCzazsLIhcPABQ352upXlZ1spikXs6mCxgwzp0a0lAiIgAiIgAvEmcLNn3P75Tw9cvDCOa9gCCvbRrGwIIUpwjWOc8Ocv77djdSXRbC5lXstEAhMKtL5kvDACleUQYjN+v36FxgsUl5RBKEErTF8MWf98PRYBERABERCBZCYwAWHmAwg0mbf4CIJNWj/GYlVg3ujRhhIXj3wHwoH6svxYbDbpt7G0wlhkGaKLZZe3IH/ab4ZaW9E6k8WNEnRzlBdm43GGhJpJf/Z1ALEkoIJHLGlqWyIQBgG2KzKJwcDhj7cGrButi9GsjPS9uNnOcAHDj187ZK0YVqX1NAEGClRwssNjGcGEV0q4BAYYsiNG3ttPc9NPREAEREAEdofAg6Fp+/han/POvo95VONIxkezilHMp20jCx5vtO6zAxi2rfU0AcYJoygwUTCxfileWE9Dj0VABERABFKdgL8eXn4wYu9/2emslmgf7e+jwz1+yggpEKiHk8LLmH3FmWIUX1Qgaa/1hMCqEOOxy1tsVfBg/kIdpk+46ZEIeAIqeHgS+ioCcSYwiw4DtodevD9s73/RiZbFiaj2gD6NjUhaMGB48xQTGGoJ3QyoV3CuQMnJBjff48YGDgZe6WutoUxoaImACIiACIjAbhNgl8F1eDhzWOifbg9aT5QCCVofnGuuQMGjws6gK7Qacye0nibAgeWLtBB7uLEZXvHC06z0ExEQAREQgdQl4K+H1+FK8a/oOL0Kq82tZmI+jwSdE9JhxXR4X7G9fa7eTu8vtyp0e+TBaUHrCQFvv828xVaWVsxfqMP0CTc9EgFPQAUPT0JfRSDOBPxsievwZfzlhQ671jHmWhfZdRDOYmKeAcM++DWew5Dt0xhY1dpQ6oKGcLaj54qACIiACIiACCQegZmFZeuHfzPjhI+u9rpBlvPoOqC6Mpzl44VDNYX2+sk6Fy/I6zkcgnquCIiACIiACASXAOdKfHSt1wkwOvF4Ah2nTkAYJpIcWECWoZvjZGOZ/dczddaCwodmZoYJUU8XARF4LgEVPJ6LSE8QgZ0h4GdL3MdwTFpVXH4wai5wwJCqcFYmvBsLcjKsBW2gb2DY1wn4YGpYeTgE9VwREAEREAERSFwCLGwswI6xHXZWjBeudo5Z3+isTcPPOZzl44VWJBjefanRjteXKMEQDkA9VwREQAREQAQCTIDzre4hd8G8xac3+q0DRQ9nbeUtE7bJpqok106hq+PMgTI7i6+1pbmamblNdnqaCIjA9gmo4LF9VnqmCOwIAW9Vcatnwtpha9WDJAb9uane3Eoxwa4Op47AsMy68nwUOkrtFQz7aqookIfjjpwpbVQEREAEREAEdo/AALo8LiHJcAP2Vnf7Jq1/bA4DLTHEHMWQrRaHWhbkZEJNmWXVSDIcry+188drrBHe2VoiIAIiIAIiIAIisB0CfhbmXQgwPoPF5m3MIx2G7ebU3DJmY8ICEtZLmy0/syMXllVlBdl2sBpzxOBMwc4OdZpuRkw/EwERiAUBFTxiQVHbEIEoCLjAASrNockF64Iv9y0EDl/dHbbekdktFRMFuZlWCxsrBgovImA4hMCBAUQeWkTl4RjFCdFLRUAEREAERCABCbCwMYECR8/onN1BsuEWCh9XUQAZRCFkq1VemGNH0c3RUldsh2uLrAEiCQ4GpX2ElgiIgAiIgAiIgAhsh4CfhTk5v4zYY95uQ6z5RfuQsQAyPg0BxtLKppvxMzsaKjGkHAJNOlIwFmHuQlZWmyLTD0VABGJAQAWPGEDUJkQgFgTmECCMIlBgwMCCR+fwjM0tUi2x0aObAUMa5nYU52dZA9SZR1DwOIO5HdXFubHYDW1DBERABERABEQggQlMQiTRjW7QO+jyuIxB5n1js1sOs2R8cAxdoEf2FdmBqgIryctK4KPTromACIiACIiACCQygdXCx2PEIjP2BfIW7YhHhiC+4MwxP2h7/f5npO9FYSPDxSAvt1RBqFlkRbDkZgeqlgiIgAjsFAEVPHaKrLYrAmESYAvoIlpBZ6CYoKXVKP4fnlpA0WOjUiIDVla5WWlWCHuKUthZlaLwUYzkRbYChjCJ6+kiIAIiIAIikHwEljHTg7HBJCwkRhAnjKPrg0UQdoyuX0wkFKEbtDgPdlb52VaUl4Eu0AzLROJBSwREQAREQAREQAQiIeCLGhRscq4HRZsj0ws2jTwGYxQWRNYvdnGws7QcHR2cNZqfnQEL7r22FyJOLREQARHYKQIqeOwUWW1XBKIk4Ds+nip4UCGRmW45mWlqAY2SsV4uAiIgAiIgAslKwCssGS9sVfBgzJCRtkeJhWQ90dpvERABERABEUhgAn62B+MRulNsVvBgoYPxiJYIiIAIxIuACh7xIq33EYEwCfiOj4cPNyokqISgpZX/nxZXWiIgAiIgAiIgAsEi4BWWK1BSbqaoZLxABWU6vmq2V7A+GzpaERABERABEYgXgVUBxiNjPPIYwQnjk/UrDaKLrPQ0l79Y/3M9FgEREIGdJKCCx07S1bZFQAREQAREQAREQAREQAREQAREQAREQAREQAREQAREQATiQkAFj7hg1puIgAiIgAiIgAiIgAiIgAiIgAiIgAiIgAiIgAiIgAiIgAjsJAEVPHaSrrYtAiIgAiIgAiIgAiIgAiIgAiIgAiIgAiIgAiIgAiIgAiIQFwIqeMQFs95EBERABERABERABERABERABERABERABERABERABERABERgJwmo4LGTdLVtERABERABERABERABERABERABERABERABERABERABERCBuBBQwSMumPUmIiACIiACIiACIiACIiACIiACIiACIiACIiACIiACIiACO0lABY+dpKtti4AIiIAIiIAIiIAIiIAIiIAIiIAIiIAIiIAIiIAIiIAIxIWACh5xwaw3EQEREAEREAEREAEREAEREAEREAEREAEREAEREAEREAER2EkCKnjsJF1tWwREQAREQAREQAREQAREQAREQAREQAREQAREQAREQAREIC4EVPCIC2a9iQiIgAiIgAiIgAiIgAiIgAiIgAiIgAiIgAiIgAiIgAiIwE4SUMFjJ+lq2yIgAiIgAiIgAiIgAiIgAiIgAiIgAiIgAiIgAiIgAiIgAnEhoIJHXDDrTURABERABERABERABERABERABERABERABERABERABERABHaSgAoeO0lX2xYBERABERABERABERABERABERABERABERABERABERABEYgLARU84oJZbyICIiACIiACIiACIiACIiACIiACIiACIiACIiACIiACIrCTBFTw2Em62rYIiIAIiIAIiIAIiIAIiIAIiIAIiIAIiIAIiIAIiIAIiEBcCKjgERfMehMREAEREAEREAEREAEREAEREAEREAEREAEREAEREAEREIGdJKCCx07S1bZFQAREQAREQAREQAREQAREQAREQAREQAREQAREQAREQATiQuD/AzW4Wfql3SnTAAAAAElFTkSuQmCC)"
      ]
    },
    {
      "cell_type": "markdown",
      "metadata": {
        "id": "Yk3y0pl8ABHL"
      },
      "source": [
        "SMOTE algorithm works in 4 simple steps:\n",
        "\n",
        "* Choose a minority class as the input vector\n",
        "* Find its k nearest neighbors (k_neighbors is specified as an argument in the SMOTE() function)\n",
        "* Choose one of these neighbors and place a synthetic point anywhere on the line joining the point under consideration and its chosen neighbor\n",
        "* Repeat the steps until data is balanced"
      ]
    },
    {
      "cell_type": "code",
      "metadata": {
        "colab": {
          "base_uri": "https://localhost:8080/"
        },
        "id": "JlvbQmwh_O6x",
        "outputId": "714820c5-2e46-4092-8a64-370fe858eee4"
      },
      "source": [
        "from imblearn.over_sampling import SMOTE\n",
        "\n",
        "smote = SMOTE()\n",
        "\n",
        "# fit predictor and target variable\n",
        "x_smote, y_smote = smote.fit_resample(data.iloc[:,0:-1], data['Target'])\n",
        "\n",
        "print('Original dataset shape', len(data))\n",
        "print('Resampled dataset shape', len(y_smote))"
      ],
      "execution_count": 20,
      "outputs": [
        {
          "output_type": "stream",
          "text": [
            "Original dataset shape 56962\n",
            "Resampled dataset shape 113728\n"
          ],
          "name": "stdout"
        }
      ]
    },
    {
      "cell_type": "markdown",
      "metadata": {
        "id": "vjyTV2M-DQMB"
      },
      "source": [
        "# Choose the evaluation metric wisely\n",
        "\n",
        "Accuracy is not the best metric to use when evaluating imbalanced datasets as it can be misleading.\n",
        "\n",
        "Metrics that can provide better insight are:\n",
        "\n",
        "* **Confusion Matrix**: a table showing correct predictions and types of incorrect predictions.\n",
        "* **Precision**: the number of true positives divided by all positive predictions. Precision is also called Positive Predictive Value. It is a measure of a classifier’s exactness. Low precision indicates a high number of false positives.\n",
        "* **Recall**: the number of true positives divided by the number of positive values in the test data. The recall is also called Sensitivity or the True Positive Rate. It is a measure of a classifier’s completeness. Low recall indicates a high number of false negatives.\n",
        "* **F1 Score**: the weighted average of precision and recall.\n",
        "* **Area Under ROC Curve (AUC-ROC)**: AUC-ROC represents the likelihood of your model distinguishing observations from two classes. In other words, if you randomly select one observation from each class, what’s the probability that your model will be able to “rank” them correctly?"
      ]
    },
    {
      "cell_type": "markdown",
      "metadata": {
        "id": "SnbicozzEaWL"
      },
      "source": [
        "# Let's use SMOTE + Deep Neural Network to solve this!"
      ]
    },
    {
      "cell_type": "code",
      "metadata": {
        "id": "KZAZHdxVEL5K"
      },
      "source": [
        "# Splitting the dataset into the Training set and Test set\n",
        "x_train, x_test, y_train, y_test = train_test_split(x_smote, y_smote, test_size = 0.2, random_state = 3)"
      ],
      "execution_count": 21,
      "outputs": []
    },
    {
      "cell_type": "code",
      "metadata": {
        "id": "FXa4wB2_ERH7"
      },
      "source": [
        "\n",
        "# DNN\n",
        "from tensorflow import keras\n",
        "\n",
        "def get_model():\n",
        "    model = keras.Sequential([\n",
        "        keras.layers.Flatten(input_shape=[X_train.shape[-1]]),\n",
        "        keras.layers.Dense(512, activation='relu'),\n",
        "        keras.layers.Dense(256, activation='relu'),\n",
        "        keras.layers.Dense(128, activation='relu'),\n",
        "        keras.layers.Dense(64, activation='relu'),\n",
        "        keras.layers.Dense(32, activation='relu'),\n",
        "        keras.layers.Dropout(0.5),\n",
        "        keras.layers.Dense(9, activation='softmax')\n",
        "    ])\n",
        "    model.compile(optimizer='adam', \n",
        "                  loss='sparse_categorical_crossentropy',\n",
        "                  metrics=['accuracy'])\n",
        "    return model"
      ],
      "execution_count": 22,
      "outputs": []
    },
    {
      "cell_type": "code",
      "metadata": {
        "colab": {
          "base_uri": "https://localhost:8080/"
        },
        "id": "9XgbgIe8Eccc",
        "outputId": "5ff5ce6d-ce19-4066-9867-a243182ffaf4"
      },
      "source": [
        "# DNN (fit and validation)\n",
        "import tensorflow as tf\n",
        "\n",
        "batch_size = 512\n",
        "train_ds = tf.data.Dataset.from_tensor_slices((x_train, y_train)).shuffle(len(x_train)).batch(batch_size)\n",
        "val_ds = tf.data.Dataset.from_tensor_slices((x_test, y_test)).batch(batch_size)\n",
        "\n",
        "model = get_model()\n",
        "fit = model.fit(train_ds, validation_data=val_ds, epochs=20)"
      ],
      "execution_count": 23,
      "outputs": [
        {
          "output_type": "stream",
          "text": [
            "Epoch 1/20\n",
            "178/178 [==============================] - 3s 15ms/step - loss: 0.8299 - accuracy: 0.7714 - val_loss: 0.0828 - val_accuracy: 0.9800\n",
            "Epoch 2/20\n",
            "178/178 [==============================] - 2s 14ms/step - loss: 0.1160 - accuracy: 0.9587 - val_loss: 0.0366 - val_accuracy: 0.9887\n",
            "Epoch 3/20\n",
            "178/178 [==============================] - 2s 13ms/step - loss: 0.0743 - accuracy: 0.9759 - val_loss: 0.0319 - val_accuracy: 0.9883\n",
            "Epoch 4/20\n",
            "178/178 [==============================] - 2s 13ms/step - loss: 0.0395 - accuracy: 0.9843 - val_loss: 0.0281 - val_accuracy: 0.9859\n",
            "Epoch 5/20\n",
            "178/178 [==============================] - 2s 14ms/step - loss: 0.0503 - accuracy: 0.9827 - val_loss: 0.0275 - val_accuracy: 0.9938\n",
            "Epoch 6/20\n",
            "178/178 [==============================] - 2s 13ms/step - loss: 0.0297 - accuracy: 0.9888 - val_loss: 0.0155 - val_accuracy: 0.9954\n",
            "Epoch 7/20\n",
            "178/178 [==============================] - 2s 13ms/step - loss: 0.0236 - accuracy: 0.9913 - val_loss: 0.0386 - val_accuracy: 0.9792\n",
            "Epoch 8/20\n",
            "178/178 [==============================] - 2s 13ms/step - loss: 0.0507 - accuracy: 0.9849 - val_loss: 0.1678 - val_accuracy: 0.9789\n",
            "Epoch 9/20\n",
            "178/178 [==============================] - 2s 13ms/step - loss: 0.0477 - accuracy: 0.9854 - val_loss: 0.0326 - val_accuracy: 0.9913\n",
            "Epoch 10/20\n",
            "178/178 [==============================] - 3s 14ms/step - loss: 0.0168 - accuracy: 0.9935 - val_loss: 0.0260 - val_accuracy: 0.9971\n",
            "Epoch 11/20\n",
            "178/178 [==============================] - 3s 14ms/step - loss: 0.0295 - accuracy: 0.9912 - val_loss: 0.0172 - val_accuracy: 0.9940\n",
            "Epoch 12/20\n",
            "178/178 [==============================] - 2s 13ms/step - loss: 0.0153 - accuracy: 0.9942 - val_loss: 0.0091 - val_accuracy: 0.9987\n",
            "Epoch 13/20\n",
            "178/178 [==============================] - 2s 13ms/step - loss: 0.0441 - accuracy: 0.9886 - val_loss: 0.0177 - val_accuracy: 0.9950\n",
            "Epoch 14/20\n",
            "178/178 [==============================] - 3s 14ms/step - loss: 0.0178 - accuracy: 0.9944 - val_loss: 0.0123 - val_accuracy: 0.9970\n",
            "Epoch 15/20\n",
            "178/178 [==============================] - 2s 13ms/step - loss: 0.0142 - accuracy: 0.9952 - val_loss: 0.0142 - val_accuracy: 0.9948\n",
            "Epoch 16/20\n",
            "178/178 [==============================] - 2s 13ms/step - loss: 0.0167 - accuracy: 0.9945 - val_loss: 0.0227 - val_accuracy: 0.9946\n",
            "Epoch 17/20\n",
            "178/178 [==============================] - 2s 13ms/step - loss: 0.0174 - accuracy: 0.9945 - val_loss: 0.0092 - val_accuracy: 0.9991\n",
            "Epoch 18/20\n",
            "178/178 [==============================] - 2s 13ms/step - loss: 0.0489 - accuracy: 0.9887 - val_loss: 0.0172 - val_accuracy: 0.9924\n",
            "Epoch 19/20\n",
            "178/178 [==============================] - 2s 13ms/step - loss: 0.0140 - accuracy: 0.9947 - val_loss: 0.0074 - val_accuracy: 0.9994\n",
            "Epoch 20/20\n",
            "178/178 [==============================] - 2s 13ms/step - loss: 0.0108 - accuracy: 0.9967 - val_loss: 0.0065 - val_accuracy: 0.9991\n"
          ],
          "name": "stdout"
        }
      ]
    },
    {
      "cell_type": "code",
      "metadata": {
        "colab": {
          "base_uri": "https://localhost:8080/",
          "height": 265
        },
        "id": "jiCuRrpBFQcz",
        "outputId": "11dd46bb-d99a-4333-f031-92a048c2d132"
      },
      "source": [
        "import matplotlib.pyplot as plt\n",
        "\n",
        "plt.plot(fit.history['accuracy'], color='blue')\n",
        "plt.plot(fit.history['val_accuracy'], color='red')\n",
        "plt.show()"
      ],
      "execution_count": 24,
      "outputs": [
        {
          "output_type": "display_data",
          "data": {
            "image/png": "[encoded data removed]",
            "text/plain": [
              "<Figure size 432x288 with 1 Axes>"
            ]
          },
          "metadata": {
            "tags": [],
            "needs_background": "light"
          }
        }
      ]
    },
    {
      "cell_type": "code",
      "metadata": {
        "id": "WSe4PWrMFr6-"
      },
      "source": [
        "y_pred_nn = model.predict_classes(val_ds)"
      ],
      "execution_count": 25,
      "outputs": []
    },
    {
      "cell_type": "code",
      "metadata": {
        "colab": {
          "base_uri": "https://localhost:8080/"
        },
        "id": "Jjz32mOCGKPY",
        "outputId": "7aee67c9-9b9a-4866-d524-5430e775698f"
      },
      "source": [
        "print('ROCAUC score:', roc_auc_score(y_test, y_pred_nn))\n",
        "print('Accuracy score:', accuracy_score(y_test, y_pred_nn))"
      ],
      "execution_count": 26,
      "outputs": [
        {
          "output_type": "stream",
          "text": [
            "ROCAUC score: 0.9990856048071062\n",
            "Accuracy score: 0.9990767607491428\n"
          ],
          "name": "stdout"
        }
      ]
    },
    {
      "cell_type": "code",
      "metadata": {
        "colab": {
          "base_uri": "https://localhost:8080/"
        },
        "id": "arSDoycLud-I",
        "outputId": "61c04bda-fe0e-4a4f-af20-6a1bb510edbf"
      },
      "source": [
        "from sklearn.metrics import classification_report,confusion_matrix\n",
        "\n",
        "print(confusion_matrix(y_test,y_pred_nn))\n"
      ],
      "execution_count": 27,
      "outputs": [
        {
          "output_type": "stream",
          "text": [
            "[[11462    21]\n",
            " [    0 11263]]\n"
          ],
          "name": "stdout"
        }
      ]
    },
    {
      "cell_type": "code",
      "metadata": {
        "colab": {
          "base_uri": "https://localhost:8080/"
        },
        "id": "psWGvltMuxs4",
        "outputId": "cc0acd6c-b9fe-4b39-cdcf-506f88089dc7"
      },
      "source": [
        "print(classification_report(y_test,y_pred_nn))"
      ],
      "execution_count": 28,
      "outputs": [
        {
          "output_type": "stream",
          "text": [
            "              precision    recall  f1-score   support\n",
            "\n",
            "           0       1.00      1.00      1.00     11483\n",
            "           1       1.00      1.00      1.00     11263\n",
            "\n",
            "    accuracy                           1.00     22746\n",
            "   macro avg       1.00      1.00      1.00     22746\n",
            "weighted avg       1.00      1.00      1.00     22746\n",
            "\n"
          ],
          "name": "stdout"
        }
      ]
    },
    {
      "cell_type": "markdown",
      "metadata": {
        "id": "PzK9akaTGosz"
      },
      "source": [
        "# That looks great! Fraudsters, here I come!"
      ]
    }
  ]
}